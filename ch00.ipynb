{
 "cells": [
  {
   "cell_type": "markdown",
   "metadata": {},
   "source": [
    "**“はじめに”章**"
   ]
  },
  {
   "cell_type": "code",
   "execution_count": null,
   "metadata": {},
   "outputs": [],
   "source": [
    "# version指定でのインストール\n",
    "#!pip install QuantLib==1.34\n",
    "#!pip install QuantLib==1.39\n",
    "#!pip install QuantLib==1.40"
   ]
  },
  {
   "cell_type": "code",
   "execution_count": 2,
   "metadata": {},
   "outputs": [
    {
     "name": "stdout",
     "output_type": "stream",
     "text": [
      "1.40\n"
     ]
    }
   ],
   "source": [
    "import QuantLib as ql\n",
    "print(ql.__version__)"
   ]
  },
  {
   "cell_type": "code",
   "execution_count": 3,
   "metadata": {},
   "outputs": [
    {
     "ename": "TypeError",
     "evalue": "in method 'new_FixedRateBond', argument 2 of type 'Real'",
     "output_type": "error",
     "traceback": [
      "\u001b[1;31m---------------------------------------------------------------------------\u001b[0m",
      "\u001b[1;31mTypeError\u001b[0m                                 Traceback (most recent call last)",
      "\u001b[1;32m~\\AppData\\Local\\Temp\\ipykernel_13792\\3481328454.py\u001b[0m in \u001b[0;36m?\u001b[1;34m()\u001b[0m\n\u001b[0;32m     17\u001b[0m \u001b[0mdate_generation\u001b[0m \u001b[1;33m=\u001b[0m \u001b[0mql\u001b[0m\u001b[1;33m.\u001b[0m\u001b[0mDateGeneration\u001b[0m\u001b[1;33m.\u001b[0m\u001b[0mBackward\u001b[0m\u001b[1;33m\u001b[0m\u001b[1;33m\u001b[0m\u001b[0m\n\u001b[0;32m     18\u001b[0m \u001b[0mmonth_end\u001b[0m \u001b[1;33m=\u001b[0m \u001b[1;32mFalse\u001b[0m\u001b[1;33m\u001b[0m\u001b[1;33m\u001b[0m\u001b[0m\n\u001b[0;32m     19\u001b[0m \u001b[1;33m\u001b[0m\u001b[0m\n\u001b[0;32m     20\u001b[0m \u001b[1;31m# 債券の作成(コンストラクタの引数を修正する必要がある)\u001b[0m\u001b[1;33m\u001b[0m\u001b[1;33m\u001b[0m\u001b[0m\n\u001b[1;32m---> 21\u001b[1;33m bond = ql.FixedRateBond(0, calendar, 100.0, issue_date, maturity_date, tenor, \n\u001b[0m\u001b[0;32m     22\u001b[0m             \u001b[1;33m[\u001b[0m\u001b[1;36m0.01\u001b[0m\u001b[1;33m]\u001b[0m\u001b[1;33m,\u001b[0m \u001b[0mql\u001b[0m\u001b[1;33m.\u001b[0m\u001b[0mActual365Fixed\u001b[0m\u001b[1;33m(\u001b[0m\u001b[1;33m)\u001b[0m\u001b[1;33m,\u001b[0m \u001b[0mbusiness_convention\u001b[0m\u001b[1;33m,\u001b[0m \u001b[0mdate_generation\u001b[0m\u001b[1;33m,\u001b[0m \u001b[0mmonth_end\u001b[0m\u001b[1;33m)\u001b[0m\u001b[1;33m\u001b[0m\u001b[1;33m\u001b[0m\u001b[0m\n\u001b[0;32m     23\u001b[0m \u001b[1;33m\u001b[0m\u001b[0m\n\u001b[0;32m     24\u001b[0m \u001b[1;31m# 債券の評価\u001b[0m\u001b[1;33m\u001b[0m\u001b[1;33m\u001b[0m\u001b[0m\n",
      "\u001b[1;32me:\\local\\anaconda3\\Lib\\site-packages\\QuantLib\\QuantLib.py\u001b[0m in \u001b[0;36m?\u001b[1;34m(self, *args, **kwargs)\u001b[0m\n\u001b[0;32m  26226\u001b[0m     \u001b[1;32mdef\u001b[0m \u001b[0m__init__\u001b[0m\u001b[1;33m(\u001b[0m\u001b[0mself\u001b[0m\u001b[1;33m,\u001b[0m \u001b[1;33m*\u001b[0m\u001b[0margs\u001b[0m\u001b[1;33m,\u001b[0m \u001b[1;33m**\u001b[0m\u001b[0mkwargs\u001b[0m\u001b[1;33m)\u001b[0m\u001b[1;33m:\u001b[0m\u001b[1;33m\u001b[0m\u001b[1;33m\u001b[0m\u001b[0m\n\u001b[0;32m  26227\u001b[0m         \u001b[1;34mr\"\"\"__init__(FixedRateBond self, Integer settlementDays, Real faceAmount, Schedule schedule, DoubleVector coupons, DayCounter paymentDayCounter, BusinessDayConvention paymentConvention=QuantLib::Following, Real redemption=100.0, Date issueDate=Date(), Calendar paymentCalendar=Calendar(), Period exCouponPeriod=Period(), Calendar exCouponCalendar=Calendar(), BusinessDayConvention exCouponConvention=Unadjusted, bool exCouponEndOfMonth=False) -> FixedRateBond\"\"\"\u001b[0m\u001b[1;33m\u001b[0m\u001b[1;33m\u001b[0m\u001b[0m\n\u001b[1;32m> 26228\u001b[1;33m         \u001b[0m_QuantLib\u001b[0m\u001b[1;33m.\u001b[0m\u001b[0mFixedRateBond_swiginit\u001b[0m\u001b[1;33m(\u001b[0m\u001b[0mself\u001b[0m\u001b[1;33m,\u001b[0m \u001b[0m_QuantLib\u001b[0m\u001b[1;33m.\u001b[0m\u001b[0mnew_FixedRateBond\u001b[0m\u001b[1;33m(\u001b[0m\u001b[1;33m*\u001b[0m\u001b[0margs\u001b[0m\u001b[1;33m,\u001b[0m \u001b[1;33m**\u001b[0m\u001b[0mkwargs\u001b[0m\u001b[1;33m)\u001b[0m\u001b[1;33m)\u001b[0m\u001b[1;33m\u001b[0m\u001b[1;33m\u001b[0m\u001b[0m\n\u001b[0m",
      "\u001b[1;31mTypeError\u001b[0m: in method 'new_FixedRateBond', argument 2 of type 'Real'"
     ]
    }
   ],
   "source": [
    "import QuantLib as ql\n",
    "\n",
    "# 日付設定\n",
    "evaluation_date = ql.Date(29, 5, 2023)\n",
    "ql.Settings.instance().evaluationDate = evaluation_date\n",
    "\n",
    "# 金利曲線設定\n",
    "curve = ql.YieldTermStructureHandle(ql.FlatForward(\n",
    "                                        evaluation_date, 0.01, ql.Actual365Fixed()))\n",
    "\n",
    "# 債券の特性\n",
    "issue_date = ql.Date(29, 5, 2023)\n",
    "maturity_date = ql.Date(29, 5, 2028)\n",
    "tenor = ql.Period(ql.Semiannual)\n",
    "calendar = ql.Japan()\n",
    "business_convention = ql.Unadjusted\n",
    "date_generation = ql.DateGeneration.Backward\n",
    "month_end = False\n",
    "\n",
    "# 債券の作成(コンストラクタの引数を修正する必要がある)\n",
    "bond = ql.FixedRateBond(0, calendar, 100.0, issue_date, maturity_date, tenor, \n",
    "            [0.01], ql.Actual365Fixed(), business_convention, date_generation, month_end)\n",
    "\n",
    "# 債券の評価\n",
    "bond.setPricingEngine(ql.DiscountingBondEngine(curve))\n",
    "price = bond.cleanPrice()\n",
    "yield_to_maturity = bond.bondYield(price, ql.Actual365Fixed(), ql.Compounded, ql.Semiannual)\n",
    "\n",
    "# 結果の表示\n",
    "print(\"債券価格: \", price)\n",
    "print(\"債券利回り: \", yield_to_maturity)"
   ]
  }
 ],
 "metadata": {
  "kernelspec": {
   "display_name": "base",
   "language": "python",
   "name": "python3"
  },
  "language_info": {
   "codemirror_mode": {
    "name": "ipython",
    "version": 3
   },
   "file_extension": ".py",
   "mimetype": "text/x-python",
   "name": "python",
   "nbconvert_exporter": "python",
   "pygments_lexer": "ipython3",
   "version": "3.13.5"
  },
  "orig_nbformat": 4
 },
 "nbformat": 4,
 "nbformat_minor": 2
}
