{
 "cells": [
  {
   "cell_type": "markdown",
   "metadata": {},
   "source": [
    "**第2章 Ibor金利スワップ**"
   ]
  },
  {
   "cell_type": "code",
   "execution_count": 1,
   "metadata": {},
   "outputs": [
    {
     "name": "stdout",
     "output_type": "stream",
     "text": [
      "tradeDT:2022-08-19, referenceDate:2022-08-23\n"
     ]
    },
    {
     "data": {
      "text/html": [
       "<div>\n",
       "<style scoped>\n",
       "    .dataframe tbody tr th:only-of-type {\n",
       "        vertical-align: middle;\n",
       "    }\n",
       "\n",
       "    .dataframe tbody tr th {\n",
       "        vertical-align: top;\n",
       "    }\n",
       "\n",
       "    .dataframe thead th {\n",
       "        text-align: right;\n",
       "    }\n",
       "</style>\n",
       "<table border=\"1\" class=\"dataframe\">\n",
       "  <thead>\n",
       "    <tr style=\"text-align: right;\">\n",
       "      <th></th>\n",
       "      <th>node</th>\n",
       "      <th>DF</th>\n",
       "    </tr>\n",
       "  </thead>\n",
       "  <tbody>\n",
       "    <tr>\n",
       "      <th>0</th>\n",
       "      <td>August 23rd, 2022</td>\n",
       "      <td>1.000000</td>\n",
       "    </tr>\n",
       "    <tr>\n",
       "      <th>1</th>\n",
       "      <td>February 24th, 2023</td>\n",
       "      <td>0.999309</td>\n",
       "    </tr>\n",
       "    <tr>\n",
       "      <th>2</th>\n",
       "      <td>August 23rd, 2023</td>\n",
       "      <td>0.998477</td>\n",
       "    </tr>\n",
       "    <tr>\n",
       "      <th>3</th>\n",
       "      <td>February 26th, 2024</td>\n",
       "      <td>0.997170</td>\n",
       "    </tr>\n",
       "    <tr>\n",
       "      <th>4</th>\n",
       "      <td>August 23rd, 2024</td>\n",
       "      <td>0.995896</td>\n",
       "    </tr>\n",
       "    <tr>\n",
       "      <th>5</th>\n",
       "      <td>August 25th, 2025</td>\n",
       "      <td>0.993059</td>\n",
       "    </tr>\n",
       "  </tbody>\n",
       "</table>\n",
       "</div>"
      ],
      "text/plain": [
       "                  node        DF\n",
       "0    August 23rd, 2022  1.000000\n",
       "1  February 24th, 2023  0.999309\n",
       "2    August 23rd, 2023  0.998477\n",
       "3  February 26th, 2024  0.997170\n",
       "4    August 23rd, 2024  0.995896\n",
       "5    August 25th, 2025  0.993059"
      ]
     },
     "execution_count": 1,
     "metadata": {},
     "output_type": "execute_result"
    }
   ],
   "source": [
    "import myUtil as mu   ; from myABBR import *\n",
    "# 0.取引日(evaluate),決済日(reference)の設定\n",
    "tradeDT  = jDT(2022,8,19) ; setEvDT(tradeDT)\n",
    "settleDT = calJP.advance(tradeDT, Tp2, DD)\n",
    "\n",
    "# 1.指標金利オブジェクト\n",
    "curveHDL = ql.RelinkableYieldTermStructureHandle()  \n",
    "tbrIX    = ql.Tibor(pdFreqSA, curveHDL)\n",
    "# 2.ヘルパーとカーブオブジェクト\n",
    "cHelper, tbParRATE = [], []\n",
    "for knd, tnr, rt in \\\n",
    "        [('depo','6m',0.13636), ('swap','1y',0.15249), ('swap','18m',0.18742),\n",
    "         ('swap','2y',0.20541), ('swap','3y',0.23156), ('swap','4y',0.25653),\n",
    "         ('swap','5y',0.28528), ('swap','6y',0.32341), ('swap','7y',0.36591)]:\n",
    "    if knd == 'depo': cHelper.append(ql.DepositRateHelper(mu.sqHDL(rt/100),tbrIX)) \n",
    "    if knd == 'swap': cHelper.append(ql.SwapRateHelper(   mu.sqHDL(rt/100), \n",
    "                                    pD(tnr), calJP, freqSA, mFLLW, dcA365, tbrIX))\n",
    "    tbParRATE.append(rt/100)                                   # パーレート用リスト\n",
    "    \n",
    "curveOBJ = ql.PiecewiseLogLinearDiscount(Tp2, calJP, cHelper, dcA365)\n",
    "curveHDL.linkTo(curveOBJ) ; curveOBJ.enableExtrapolation()\n",
    "# checking\n",
    "print('tradeDT:{}, referenceDate:{}'\n",
    "                .format(tradeDT.ISO(),curveOBJ.referenceDate().ISO()))\n",
    "pd.DataFrame(curveOBJ.nodes(), columns=['node','DF'])[:6]"
   ]
  },
  {
   "cell_type": "code",
   "execution_count": 2,
   "metadata": {},
   "outputs": [
    {
     "data": {
      "text/html": [
       "<div>\n",
       "<style scoped>\n",
       "    .dataframe tbody tr th:only-of-type {\n",
       "        vertical-align: middle;\n",
       "    }\n",
       "\n",
       "    .dataframe tbody tr th {\n",
       "        vertical-align: top;\n",
       "    }\n",
       "\n",
       "    .dataframe thead th {\n",
       "        text-align: right;\n",
       "    }\n",
       "</style>\n",
       "<table border=\"1\" class=\"dataframe\">\n",
       "  <thead>\n",
       "    <tr style=\"text-align: right;\">\n",
       "      <th></th>\n",
       "      <th>A</th>\n",
       "      <th>B</th>\n",
       "      <th>C</th>\n",
       "    </tr>\n",
       "  </thead>\n",
       "  <tbody>\n",
       "    <tr>\n",
       "      <th>0</th>\n",
       "      <td>1</td>\n",
       "      <td>2</td>\n",
       "      <td>3</td>\n",
       "    </tr>\n",
       "    <tr>\n",
       "      <th>1</th>\n",
       "      <td>4</td>\n",
       "      <td>5</td>\n",
       "      <td>6</td>\n",
       "    </tr>\n",
       "  </tbody>\n",
       "</table>\n",
       "</div>"
      ],
      "text/plain": [
       "   A  B  C\n",
       "0  1  2  3\n",
       "1  4  5  6"
      ]
     },
     "metadata": {},
     "output_type": "display_data"
    },
    {
     "data": {
      "text/html": [
       "<div>\n",
       "<style scoped>\n",
       "    .dataframe tbody tr th:only-of-type {\n",
       "        vertical-align: middle;\n",
       "    }\n",
       "\n",
       "    .dataframe tbody tr th {\n",
       "        vertical-align: top;\n",
       "    }\n",
       "\n",
       "    .dataframe thead th {\n",
       "        text-align: right;\n",
       "    }\n",
       "</style>\n",
       "<table border=\"1\" class=\"dataframe\">\n",
       "  <thead>\n",
       "    <tr style=\"text-align: right;\">\n",
       "      <th></th>\n",
       "      <th>A</th>\n",
       "      <th>B</th>\n",
       "      <th>C</th>\n",
       "    </tr>\n",
       "  </thead>\n",
       "  <tbody>\n",
       "    <tr>\n",
       "      <th>0</th>\n",
       "      <td>1</td>\n",
       "      <td>2</td>\n",
       "      <td>3</td>\n",
       "    </tr>\n",
       "    <tr>\n",
       "      <th>1</th>\n",
       "      <td>4</td>\n",
       "      <td>5</td>\n",
       "      <td>6</td>\n",
       "    </tr>\n",
       "  </tbody>\n",
       "</table>\n",
       "</div>"
      ],
      "text/plain": [
       "   A  B  C\n",
       "0  1  2  3\n",
       "1  4  5  6"
      ]
     },
     "metadata": {},
     "output_type": "display_data"
    },
    {
     "data": {
      "text/html": [
       "<div>\n",
       "<style scoped>\n",
       "    .dataframe tbody tr th:only-of-type {\n",
       "        vertical-align: middle;\n",
       "    }\n",
       "\n",
       "    .dataframe tbody tr th {\n",
       "        vertical-align: top;\n",
       "    }\n",
       "\n",
       "    .dataframe thead th {\n",
       "        text-align: right;\n",
       "    }\n",
       "</style>\n",
       "<table border=\"1\" class=\"dataframe\">\n",
       "  <thead>\n",
       "    <tr style=\"text-align: right;\">\n",
       "      <th></th>\n",
       "      <th>A</th>\n",
       "      <th>B</th>\n",
       "      <th>C</th>\n",
       "    </tr>\n",
       "  </thead>\n",
       "  <tbody>\n",
       "    <tr>\n",
       "      <th>0</th>\n",
       "      <td>1</td>\n",
       "      <td>2</td>\n",
       "      <td>3</td>\n",
       "    </tr>\n",
       "    <tr>\n",
       "      <th>1</th>\n",
       "      <td>4</td>\n",
       "      <td>5</td>\n",
       "      <td>6</td>\n",
       "    </tr>\n",
       "  </tbody>\n",
       "</table>\n",
       "</div>"
      ],
      "text/plain": [
       "   A  B  C\n",
       "0  1  2  3\n",
       "1  4  5  6"
      ]
     },
     "metadata": {},
     "output_type": "display_data"
    }
   ],
   "source": [
    "# タプル -> データフレーム\n",
    "display( pd.DataFrame( \n",
    "                    ([1, 2, 3],\n",
    "                     [4, 5, 6]) , columns=['A', 'B', 'C']) )\n",
    "# 辞書型 -> データフレーム\n",
    "display( pd.DataFrame(\n",
    "                ({'A':1, 'B':2,'C':3},\n",
    "                 {'A':4, 'B':5,'C':6}) ,    index=[0, 1] ) )\n",
    "# dictコンストラクタ -> データフレーム\n",
    "display( pd.DataFrame( dict(A=[1,4], B=[2,5], C=[3,6])   ) )"
   ]
  },
  {
   "cell_type": "code",
   "execution_count": 3,
   "metadata": {},
   "outputs": [
    {
     "data": {
      "text/html": [
       "<div>\n",
       "<style scoped>\n",
       "    .dataframe tbody tr th:only-of-type {\n",
       "        vertical-align: middle;\n",
       "    }\n",
       "\n",
       "    .dataframe tbody tr th {\n",
       "        vertical-align: top;\n",
       "    }\n",
       "\n",
       "    .dataframe thead th {\n",
       "        text-align: right;\n",
       "    }\n",
       "</style>\n",
       "<table border=\"1\" class=\"dataframe\">\n",
       "  <thead>\n",
       "    <tr style=\"text-align: right;\">\n",
       "      <th></th>\n",
       "      <th>A</th>\n",
       "      <th>B</th>\n",
       "    </tr>\n",
       "  </thead>\n",
       "  <tbody>\n",
       "    <tr>\n",
       "      <th>0</th>\n",
       "      <td>1</td>\n",
       "      <td>2</td>\n",
       "    </tr>\n",
       "    <tr>\n",
       "      <th>1</th>\n",
       "      <td>2</td>\n",
       "      <td>4</td>\n",
       "    </tr>\n",
       "  </tbody>\n",
       "</table>\n",
       "</div>"
      ],
      "text/plain": [
       "   A  B\n",
       "0  1  2\n",
       "1  2  4"
      ]
     },
     "metadata": {},
     "output_type": "display_data"
    },
    {
     "data": {
      "text/html": [
       "<div>\n",
       "<style scoped>\n",
       "    .dataframe tbody tr th:only-of-type {\n",
       "        vertical-align: middle;\n",
       "    }\n",
       "\n",
       "    .dataframe tbody tr th {\n",
       "        vertical-align: top;\n",
       "    }\n",
       "\n",
       "    .dataframe thead th {\n",
       "        text-align: right;\n",
       "    }\n",
       "</style>\n",
       "<table border=\"1\" class=\"dataframe\">\n",
       "  <thead>\n",
       "    <tr style=\"text-align: right;\">\n",
       "      <th></th>\n",
       "      <th>A</th>\n",
       "      <th>B</th>\n",
       "    </tr>\n",
       "  </thead>\n",
       "  <tbody>\n",
       "    <tr>\n",
       "      <th>0</th>\n",
       "      <td>1</td>\n",
       "      <td>2</td>\n",
       "    </tr>\n",
       "    <tr>\n",
       "      <th>1</th>\n",
       "      <td>2</td>\n",
       "      <td>4</td>\n",
       "    </tr>\n",
       "  </tbody>\n",
       "</table>\n",
       "</div>"
      ],
      "text/plain": [
       "   A  B\n",
       "0  1  2\n",
       "1  2  4"
      ]
     },
     "metadata": {},
     "output_type": "display_data"
    }
   ],
   "source": [
    "display( pd.DataFrame(\n",
    "    ({'A':1, 'B':1*2}, {'A':2, 'B':2*2}   )) )\n",
    "display( pd.DataFrame(\n",
    "     {'A':x, 'B':x*2} for x in range(1,3)  ) )"
   ]
  },
  {
   "cell_type": "code",
   "execution_count": 4,
   "metadata": {},
   "outputs": [],
   "source": [
    "# TIBORカーブ\n",
    "def makeTiborCurve(crvDATA):\n",
    "    '''makeTiborCurve(crvDATA)->[tbrIX,tbCrvOBJ,tbCrvHDL,tbParRT]'''\n",
    "  # 1.指標金利オブジェクト\n",
    "    tbCrvHDL = ql.RelinkableYieldTermStructureHandle() \n",
    "    tbrIX    = ql.Tibor(pdFreqSA, tbCrvHDL)\n",
    "  # 2. HelperとTONAカーブオブジェクト\n",
    "    cHelper, tbParRT = [], []\n",
    "    for knd, tnr, rt in crvDATA:\n",
    "       if knd == 'depo': cHelper.append(ql.DepositRateHelper(sqHDL(rt/100),tbrIX)) \n",
    "       if knd == 'swap': cHelper.append(ql.SwapRateHelper(   sqHDL(rt/100),\n",
    "                                     pD(tnr), calJP, freqSA, mFLLW, dcA365, tbrIX))\n",
    "       tbParRT.append(rt/100)                            # パーレート用リスト\n",
    "    tbCrvOBJ = ql.PiecewiseLogLinearDiscount(Tp2, calJP, cHelper, dcA365)\n",
    "    tbCrvHDL.linkTo(tbCrvOBJ) ; tbCrvOBJ.enableExtrapolation()\n",
    "    return [tbrIX, tbCrvOBJ, tbCrvHDL, tbParRT]  # 4つのオブジェクトを戻す  "
   ]
  },
  {
   "cell_type": "code",
   "execution_count": 5,
   "metadata": {},
   "outputs": [
    {
     "name": "stdout",
     "output_type": "stream",
     "text": [
      "checking curve DF: 0.993059 at August 25th, 2025\n",
      "tradeDT:2022-08-19, referenceDate:2022-08-23\n"
     ]
    },
    {
     "data": {
      "text/html": [
       "<div>\n",
       "<style scoped>\n",
       "    .dataframe tbody tr th:only-of-type {\n",
       "        vertical-align: middle;\n",
       "    }\n",
       "\n",
       "    .dataframe tbody tr th {\n",
       "        vertical-align: top;\n",
       "    }\n",
       "\n",
       "    .dataframe thead th {\n",
       "        text-align: right;\n",
       "    }\n",
       "</style>\n",
       "<table border=\"1\" class=\"dataframe\">\n",
       "  <thead>\n",
       "    <tr style=\"text-align: right;\">\n",
       "      <th></th>\n",
       "      <th>計算結果</th>\n",
       "      <th></th>\n",
       "    </tr>\n",
       "  </thead>\n",
       "  <tbody>\n",
       "    <tr>\n",
       "      <th>0</th>\n",
       "      <td>固定レグ時価</td>\n",
       "      <td>-239781.110343</td>\n",
       "    </tr>\n",
       "    <tr>\n",
       "      <th>1</th>\n",
       "      <td>変動レグ時価</td>\n",
       "      <td>41044.531563</td>\n",
       "    </tr>\n",
       "    <tr>\n",
       "      <th>2</th>\n",
       "      <td>スワップ時価 NPV</td>\n",
       "      <td>-198736.578780</td>\n",
       "    </tr>\n",
       "    <tr>\n",
       "      <th>3</th>\n",
       "      <td>フェアレート</td>\n",
       "      <td>0.002054</td>\n",
       "    </tr>\n",
       "    <tr>\n",
       "      <th>4</th>\n",
       "      <td>フェアスプレッド</td>\n",
       "      <td>0.009946</td>\n",
       "    </tr>\n",
       "  </tbody>\n",
       "</table>\n",
       "</div>"
      ],
      "text/plain": [
       "         計算結果               \n",
       "0      固定レグ時価 -239781.110343\n",
       "1      変動レグ時価   41044.531563\n",
       "2  スワップ時価 NPV -198736.578780\n",
       "3      フェアレート       0.002054\n",
       "4    フェアスプレッド       0.009946"
      ]
     },
     "execution_count": 5,
     "metadata": {},
     "output_type": "execute_result"
    }
   ],
   "source": [
    "from myABBR import * ; import myUtil as mu\n",
    "\n",
    "tradeDT  = jDT(2022,8,19) ; setEvDT(tradeDT)\n",
    "settleDT = calJP.advance(tradeDT, Tp2, DD)\n",
    "# 1.イールドカーブ オブジェクト\n",
    "crvDATA = [('depo','6m',0.13636), ('swap','1y',0.15249), ('swap','18m',0.18742),\n",
    "           ('swap','2y',0.20541), ('swap','3y',0.23156), ('swap','4y',0.25653),\n",
    "           ('swap','5y',0.28528), ('swap','6y',0.32341), ('swap','7y',0.36591)]\n",
    "tbrIX, tbCrvOBJ, tbCrvHDL, tbParRATE = mu.makeTiborCurve(crvDATA)\n",
    "print('checking curve DF: {1:.6f} at {0}'.format(*tbCrvOBJ.nodes()[5]))\n",
    "\n",
    "# 2.スケジュール オブジェクト \n",
    "effDT, matDT = jDT(2022,8,23), jDT(2024,8,23)\n",
    "fixSCD = ql.Schedule(effDT, matDT, pdFreqSA, calJP, mFLLW, mFLLW, dtGENb, EoMf)\n",
    "fltSCD = ql.Schedule(effDT, matDT, pdFreqSA, calJP, mFLLW, mFLLW, dtGENb, EoMf)\n",
    "\n",
    "# 3.スワップオブジェクトとエンジン\n",
    "payRcv,                ntlAMT,     cpnRT,   sprdRT                 = \\\n",
    "ql.VanillaSwap.Payer, 10_000_000,  0.012 ,   0.0\n",
    "\n",
    "swapOBJ = ql.VanillaSwap(payRcv, ntlAMT, fixSCD, cpnRT,         dcA365,\n",
    "                                         fltSCD, tbrIX, sprdRT, dcA365)\n",
    "swapENG = ql.DiscountingSwapEngine(tbCrvHDL)\n",
    "swapOBJ.setPricingEngine(swapENG)\n",
    "\n",
    "# 計算結果\n",
    "print('tradeDT:{}, referenceDate:{}'\n",
    "                .format(tradeDT.ISO(),tbCrvOBJ.referenceDate().ISO()))\n",
    "pd.DataFrame([  \n",
    "    ['固定レグ時価'    ,swapOBJ.legNPV(0)],   ['変動レグ時価',swapOBJ.legNPV(1)],\n",
    "    ['スワップ時価 NPV',swapOBJ.NPV()],       ['フェアレート',swapOBJ.fairRate()],\n",
    "    ['フェアスプレッド',swapOBJ.fairSpread()]         ], columns=['計算結果', '']) "
   ]
  },
  {
   "cell_type": "code",
   "execution_count": 6,
   "metadata": {},
   "outputs": [
    {
     "name": "stdout",
     "output_type": "stream",
     "text": [
      "[Date(23,8,2022), Date(24,2,2023), Date(23,8,2023), Date(26,2,2024), Date(23,8,2024)]\n"
     ]
    }
   ],
   "source": [
    "print(list(fixSCD))"
   ]
  },
  {
   "cell_type": "code",
   "execution_count": 7,
   "metadata": {},
   "outputs": [
    {
     "name": "stdout",
     "output_type": "stream",
     "text": [
      "[Date(23,8,2022), Date(23,2,2023), Date(23,8,2023), Date(23,2,2024), Date(23,8,2024)]\n",
      "[Date(23,8,2022), Date(24,2,2023), Date(23,8,2023), Date(26,2,2024), Date(23,8,2024)]\n"
     ]
    }
   ],
   "source": [
    "fixSCDmk = ql.MakeSchedule(effDT, matDT, pdFreqSA)\n",
    "print(list(fixSCDmk))\n",
    "fixSCDmk = ql.MakeSchedule(effDT, matDT, pdFreqSA, calendar=calJP)\n",
    "print(list(fixSCDmk))"
   ]
  },
  {
   "cell_type": "code",
   "execution_count": 8,
   "metadata": {},
   "outputs": [
    {
     "data": {
      "text/html": [
       "<style type=\"text/css\">\n",
       "</style>\n",
       "<table id=\"T_f188d\">\n",
       "  <thead>\n",
       "    <tr>\n",
       "      <th class=\"blank level0\" >&nbsp;</th>\n",
       "      <th id=\"T_f188d_level0_col0\" class=\"col_heading level0 col0\" >fixingDate</th>\n",
       "      <th id=\"T_f188d_level0_col1\" class=\"col_heading level0 col1\" >accruStart</th>\n",
       "      <th id=\"T_f188d_level0_col2\" class=\"col_heading level0 col2\" >accruEnd</th>\n",
       "      <th id=\"T_f188d_level0_col3\" class=\"col_heading level0 col3\" >payDate</th>\n",
       "      <th id=\"T_f188d_level0_col4\" class=\"col_heading level0 col4\" >days</th>\n",
       "      <th id=\"T_f188d_level0_col5\" class=\"col_heading level0 col5\" >rate</th>\n",
       "      <th id=\"T_f188d_level0_col6\" class=\"col_heading level0 col6\" >spread</th>\n",
       "      <th id=\"T_f188d_level0_col7\" class=\"col_heading level0 col7\" >amount</th>\n",
       "      <th id=\"T_f188d_level0_col8\" class=\"col_heading level0 col8\" >DF</th>\n",
       "    </tr>\n",
       "  </thead>\n",
       "  <tbody>\n",
       "    <tr>\n",
       "      <th id=\"T_f188d_level0_row0\" class=\"row_heading level0 row0\" >0</th>\n",
       "      <td id=\"T_f188d_row0_col0\" class=\"data row0 col0\" >nan</td>\n",
       "      <td id=\"T_f188d_row0_col1\" class=\"data row0 col1\" >nan</td>\n",
       "      <td id=\"T_f188d_row0_col2\" class=\"data row0 col2\" >nan</td>\n",
       "      <td id=\"T_f188d_row0_col3\" class=\"data row0 col3\" >2022-08-23</td>\n",
       "      <td id=\"T_f188d_row0_col4\" class=\"data row0 col4\" >nan</td>\n",
       "      <td id=\"T_f188d_row0_col5\" class=\"data row0 col5\" >nan%</td>\n",
       "      <td id=\"T_f188d_row0_col6\" class=\"data row0 col6\" >nan%</td>\n",
       "      <td id=\"T_f188d_row0_col7\" class=\"data row0 col7\" >nan</td>\n",
       "      <td id=\"T_f188d_row0_col8\" class=\"data row0 col8\" >1.00000000</td>\n",
       "    </tr>\n",
       "    <tr>\n",
       "      <th id=\"T_f188d_level0_row1\" class=\"row_heading level0 row1\" >1</th>\n",
       "      <td id=\"T_f188d_row1_col0\" class=\"data row1 col0\" >2022-08-19</td>\n",
       "      <td id=\"T_f188d_row1_col1\" class=\"data row1 col1\" >2022-08-23</td>\n",
       "      <td id=\"T_f188d_row1_col2\" class=\"data row1 col2\" >2023-02-24</td>\n",
       "      <td id=\"T_f188d_row1_col3\" class=\"data row1 col3\" >2023-02-24</td>\n",
       "      <td id=\"T_f188d_row1_col4\" class=\"data row1 col4\" >185.000000</td>\n",
       "      <td id=\"T_f188d_row1_col5\" class=\"data row1 col5\" >0.136360%</td>\n",
       "      <td id=\"T_f188d_row1_col6\" class=\"data row1 col6\" >0.00%</td>\n",
       "      <td id=\"T_f188d_row1_col7\" class=\"data row1 col7\" >6,911.40</td>\n",
       "      <td id=\"T_f188d_row1_col8\" class=\"data row1 col8\" >0.99930934</td>\n",
       "    </tr>\n",
       "    <tr>\n",
       "      <th id=\"T_f188d_level0_row2\" class=\"row_heading level0 row2\" >2</th>\n",
       "      <td id=\"T_f188d_row2_col0\" class=\"data row2 col0\" >2023-02-21</td>\n",
       "      <td id=\"T_f188d_row2_col1\" class=\"data row2 col1\" >2023-02-24</td>\n",
       "      <td id=\"T_f188d_row2_col2\" class=\"data row2 col2\" >2023-08-23</td>\n",
       "      <td id=\"T_f188d_row2_col3\" class=\"data row2 col3\" >2023-08-23</td>\n",
       "      <td id=\"T_f188d_row2_col4\" class=\"data row2 col4\" >180.000000</td>\n",
       "      <td id=\"T_f188d_row2_col5\" class=\"data row2 col5\" >0.169082%</td>\n",
       "      <td id=\"T_f188d_row2_col6\" class=\"data row2 col6\" >0.00%</td>\n",
       "      <td id=\"T_f188d_row2_col7\" class=\"data row2 col7\" >8,338.28</td>\n",
       "      <td id=\"T_f188d_row2_col8\" class=\"data row2 col8\" >0.99847678</td>\n",
       "    </tr>\n",
       "    <tr>\n",
       "      <th id=\"T_f188d_level0_row3\" class=\"row_heading level0 row3\" >3</th>\n",
       "      <td id=\"T_f188d_row3_col0\" class=\"data row3 col0\" >2023-08-21</td>\n",
       "      <td id=\"T_f188d_row3_col1\" class=\"data row3 col1\" >2023-08-23</td>\n",
       "      <td id=\"T_f188d_row3_col2\" class=\"data row3 col2\" >2024-02-26</td>\n",
       "      <td id=\"T_f188d_row3_col3\" class=\"data row3 col3\" >2024-02-26</td>\n",
       "      <td id=\"T_f188d_row3_col4\" class=\"data row3 col4\" >187.000000</td>\n",
       "      <td id=\"T_f188d_row3_col5\" class=\"data row3 col5\" >0.255717%</td>\n",
       "      <td id=\"T_f188d_row3_col6\" class=\"data row3 col6\" >0.00%</td>\n",
       "      <td id=\"T_f188d_row3_col7\" class=\"data row3 col7\" >13,101.12</td>\n",
       "      <td id=\"T_f188d_row3_col8\" class=\"data row3 col8\" >0.99717037</td>\n",
       "    </tr>\n",
       "    <tr>\n",
       "      <th id=\"T_f188d_level0_row4\" class=\"row_heading level0 row4\" >4</th>\n",
       "      <td id=\"T_f188d_row4_col0\" class=\"data row4 col0\" >2024-02-21</td>\n",
       "      <td id=\"T_f188d_row4_col1\" class=\"data row4 col1\" >2024-02-26</td>\n",
       "      <td id=\"T_f188d_row4_col2\" class=\"data row4 col2\" >2024-08-23</td>\n",
       "      <td id=\"T_f188d_row4_col3\" class=\"data row4 col3\" >2024-08-23</td>\n",
       "      <td id=\"T_f188d_row4_col4\" class=\"data row4 col4\" >179.000000</td>\n",
       "      <td id=\"T_f188d_row4_col5\" class=\"data row4 col5\" >0.261022%</td>\n",
       "      <td id=\"T_f188d_row4_col6\" class=\"data row4 col6\" >0.00%</td>\n",
       "      <td id=\"T_f188d_row4_col7\" class=\"data row4 col7\" >12,800.82</td>\n",
       "      <td id=\"T_f188d_row4_col8\" class=\"data row4 col8\" >0.99589555</td>\n",
       "    </tr>\n",
       "  </tbody>\n",
       "</table>\n"
      ],
      "text/plain": [
       "<pandas.io.formats.style.Styler at 0x1dd7cb06e90>"
      ]
     },
     "execution_count": 8,
     "metadata": {},
     "output_type": "execute_result"
    }
   ],
   "source": [
    "dfSWP = pd.DataFrame({\n",
    "    'fixingDate': cpn.fixingDate().ISO(),\n",
    "    'accruStart': cpn.accrualStartDate().ISO(),\n",
    "    'accruEnd':   cpn.accrualEndDate().ISO(),\n",
    "    'payDate':    cpn.date(),                             # Date class(No ISO form)\n",
    "    'days':       dcA365.dayCount(cpn.accrualStartDate(),cpn.accrualEndDate()),\n",
    "    'rate':       cpn.rate(),\n",
    "    'spread':     cpn.spread(),\n",
    "    'amount':     cpn.amount(),\n",
    "    } for cpn in map(ql.as_floating_rate_coupon, swapOBJ.leg(1)))       #変動レグ=1\n",
    "# 起算日追加\n",
    "dfEFF = pd.DataFrame([{'payDate': swapOBJ.startDate()}], columns=dfSWP.columns)\n",
    "dfSWP = pd.concat([dfEFF, dfSWP], ignore_index=True)\n",
    "# ディスカウントファクター(DF)\n",
    "psDF = [1.0                   for dt in dfSWP.payDate if dt <= settleDT] #past   DF\n",
    "fuDF = [tbCrvOBJ.discount(dt) for dt in dfSWP.payDate if settleDT < dt ] #future DF\n",
    "dfSWP = pd.concat([dfSWP, pd.DataFrame(psDF+fuDF, columns=['DF']) ], axis=1)\n",
    "dfSWP.payDate = dfSWP.payDate.map(lambda x: x.ISO())                         # ISOへ\n",
    "\n",
    "dfSWP.style.format({'rate':'{:.6%}','spread':'{:.2%}','amount':'{:,.2f}','DF':'{:.8f}'})"
   ]
  },
  {
   "cell_type": "code",
   "execution_count": 9,
   "metadata": {},
   "outputs": [
    {
     "data": {
      "text/plain": [
       "[<QuantLib.QuantLib.CashFlow; proxy of <Swig Object of type 'ext::shared_ptr< CashFlow > *' at 0x000001DD02BCB780> >,\n",
       " <QuantLib.QuantLib.CashFlow; proxy of <Swig Object of type 'ext::shared_ptr< CashFlow > *' at 0x000001DD02BCA9D0> >,\n",
       " <QuantLib.QuantLib.CashFlow; proxy of <Swig Object of type 'ext::shared_ptr< CashFlow > *' at 0x000001DD02BCA9A0> >,\n",
       " <QuantLib.QuantLib.CashFlow; proxy of <Swig Object of type 'ext::shared_ptr< CashFlow > *' at 0x000001DD02BCB7B0> >]"
      ]
     },
     "execution_count": 9,
     "metadata": {},
     "output_type": "execute_result"
    }
   ],
   "source": [
    "list(swapOBJ.leg(1))"
   ]
  },
  {
   "cell_type": "code",
   "execution_count": 10,
   "metadata": {},
   "outputs": [
    {
     "data": {
      "text/plain": [
       "6911.397260274121"
      ]
     },
     "execution_count": 10,
     "metadata": {},
     "output_type": "execute_result"
    }
   ],
   "source": [
    "list(swapOBJ.leg(1))[0].amount()"
   ]
  },
  {
   "cell_type": "code",
   "execution_count": 11,
   "metadata": {},
   "outputs": [
    {
     "data": {
      "text/plain": [
       "0.0016908187880833778"
      ]
     },
     "execution_count": 11,
     "metadata": {},
     "output_type": "execute_result"
    }
   ],
   "source": [
    "ql.as_floating_rate_coupon(swapOBJ.leg(1)[1]).rate()"
   ]
  },
  {
   "cell_type": "code",
   "execution_count": 12,
   "metadata": {},
   "outputs": [
    {
     "name": "stdout",
     "output_type": "stream",
     "text": [
      "Help on CashFlow in module QuantLib.QuantLib object:\n",
      "\n",
      "class CashFlow(Observable)\n",
      " |  CashFlow(*args, **kwargs)\n",
      " |  \n",
      " |  Proxy of C++ CashFlow class.\n",
      " |  \n",
      " |  Method resolution order:\n",
      " |      CashFlow\n",
      " |      Observable\n",
      " |      builtins.object\n",
      " |  \n",
      " |  Methods defined here:\n",
      " |  \n",
      " |  __init__(self, *args, **kwargs)\n",
      " |      __init__(Observable self) -> Observable\n",
      " |  \n",
      " |  __repr__ = _swig_repr(self)\n",
      " |  \n",
      " |  amount(self)\n",
      " |      amount(CashFlow self) -> Real\n",
      " |  \n",
      " |  date(self)\n",
      " |      date(CashFlow self) -> Date\n",
      " |  \n",
      " |  hasOccurred(self, *args)\n",
      " |      hasOccurred(CashFlow self, Date refDate=Date()) -> bool\n",
      " |  \n",
      " |  ----------------------------------------------------------------------\n",
      " |  Static methods defined here:\n",
      " |  \n",
      " |  __swig_destroy__ = delete_CashFlow(...)\n",
      " |      delete_CashFlow(CashFlow self)\n",
      " |  \n",
      " |  ----------------------------------------------------------------------\n",
      " |  Data descriptors defined here:\n",
      " |  \n",
      " |  thisown\n",
      " |      The membership flag\n",
      " |  \n",
      " |  ----------------------------------------------------------------------\n",
      " |  Data descriptors inherited from Observable:\n",
      " |  \n",
      " |  __dict__\n",
      " |      dictionary for instance variables\n",
      " |  \n",
      " |  __weakref__\n",
      " |      list of weak references to the object\n",
      "\n"
     ]
    }
   ],
   "source": [
    "help(swapOBJ.leg(1)[1])"
   ]
  },
  {
   "cell_type": "code",
   "execution_count": 13,
   "metadata": {},
   "outputs": [
    {
     "name": "stdout",
     "output_type": "stream",
     "text": [
      "Help on FloatingRateCoupon in module QuantLib.QuantLib object:\n",
      "\n",
      "class FloatingRateCoupon(Coupon)\n",
      " |  FloatingRateCoupon(*args, **kwargs)\n",
      " |  \n",
      " |  Proxy of C++ FloatingRateCoupon class.\n",
      " |  \n",
      " |  Method resolution order:\n",
      " |      FloatingRateCoupon\n",
      " |      Coupon\n",
      " |      CashFlow\n",
      " |      Observable\n",
      " |      builtins.object\n",
      " |  \n",
      " |  Methods defined here:\n",
      " |  \n",
      " |  __init__(self, *args, **kwargs)\n",
      " |      __init__(Observable self) -> Observable\n",
      " |  \n",
      " |  __repr__ = _swig_repr(self)\n",
      " |  \n",
      " |  adjustedFixing(self)\n",
      " |      adjustedFixing(FloatingRateCoupon self) -> Rate\n",
      " |  \n",
      " |  convexityAdjustment(self)\n",
      " |      convexityAdjustment(FloatingRateCoupon self) -> Rate\n",
      " |  \n",
      " |  fixingDate(self)\n",
      " |      fixingDate(FloatingRateCoupon self) -> Date\n",
      " |  \n",
      " |  fixingDays(self)\n",
      " |      fixingDays(FloatingRateCoupon self) -> Integer\n",
      " |  \n",
      " |  gearing(self)\n",
      " |      gearing(FloatingRateCoupon self) -> Real\n",
      " |  \n",
      " |  index(self)\n",
      " |      index(FloatingRateCoupon self) -> ext::shared_ptr< InterestRateIndex >\n",
      " |  \n",
      " |  indexFixing(self)\n",
      " |      indexFixing(FloatingRateCoupon self) -> Rate\n",
      " |  \n",
      " |  isInArrears(self)\n",
      " |      isInArrears(FloatingRateCoupon self) -> bool\n",
      " |  \n",
      " |  price(self, discountCurve)\n",
      " |      price(FloatingRateCoupon self, YieldTermStructureHandle discountCurve) -> Real\n",
      " |  \n",
      " |  setPricer(self, p)\n",
      " |      setPricer(FloatingRateCoupon self, ext::shared_ptr< FloatingRateCouponPricer > const & p)\n",
      " |  \n",
      " |  spread(self)\n",
      " |      spread(FloatingRateCoupon self) -> Rate\n",
      " |  \n",
      " |  ----------------------------------------------------------------------\n",
      " |  Static methods defined here:\n",
      " |  \n",
      " |  __swig_destroy__ = delete_FloatingRateCoupon(...)\n",
      " |      delete_FloatingRateCoupon(FloatingRateCoupon self)\n",
      " |  \n",
      " |  ----------------------------------------------------------------------\n",
      " |  Data descriptors defined here:\n",
      " |  \n",
      " |  thisown\n",
      " |      The membership flag\n",
      " |  \n",
      " |  ----------------------------------------------------------------------\n",
      " |  Methods inherited from Coupon:\n",
      " |  \n",
      " |  accrualDays(self)\n",
      " |      accrualDays(Coupon self) -> BigInteger\n",
      " |  \n",
      " |  accrualEndDate(self)\n",
      " |      accrualEndDate(Coupon self) -> Date\n",
      " |  \n",
      " |  accrualPeriod(self)\n",
      " |      accrualPeriod(Coupon self) -> Time\n",
      " |  \n",
      " |  accrualStartDate(self)\n",
      " |      accrualStartDate(Coupon self) -> Date\n",
      " |  \n",
      " |  accruedAmount(self, date)\n",
      " |      accruedAmount(Coupon self, Date date) -> Real\n",
      " |  \n",
      " |  dayCounter(self)\n",
      " |      dayCounter(Coupon self) -> DayCounter\n",
      " |  \n",
      " |  exCouponDate(self)\n",
      " |      exCouponDate(Coupon self) -> Date\n",
      " |  \n",
      " |  nominal(self)\n",
      " |      nominal(Coupon self) -> Real\n",
      " |  \n",
      " |  rate(self)\n",
      " |      rate(Coupon self) -> Real\n",
      " |  \n",
      " |  referencePeriodEnd(self)\n",
      " |      referencePeriodEnd(Coupon self) -> Date\n",
      " |  \n",
      " |  referencePeriodStart(self)\n",
      " |      referencePeriodStart(Coupon self) -> Date\n",
      " |  \n",
      " |  ----------------------------------------------------------------------\n",
      " |  Methods inherited from CashFlow:\n",
      " |  \n",
      " |  amount(self)\n",
      " |      amount(CashFlow self) -> Real\n",
      " |  \n",
      " |  date(self)\n",
      " |      date(CashFlow self) -> Date\n",
      " |  \n",
      " |  hasOccurred(self, *args)\n",
      " |      hasOccurred(CashFlow self, Date refDate=Date()) -> bool\n",
      " |  \n",
      " |  ----------------------------------------------------------------------\n",
      " |  Data descriptors inherited from Observable:\n",
      " |  \n",
      " |  __dict__\n",
      " |      dictionary for instance variables\n",
      " |  \n",
      " |  __weakref__\n",
      " |      list of weak references to the object\n",
      "\n"
     ]
    }
   ],
   "source": [
    "help(ql.as_floating_rate_coupon(swapOBJ.leg(1)[1]))"
   ]
  },
  {
   "cell_type": "code",
   "execution_count": 14,
   "metadata": {},
   "outputs": [
    {
     "name": "stdout",
     "output_type": "stream",
     "text": [
      "変動レグ時価(手計算): 41,044.532\n"
     ]
    }
   ],
   "source": [
    "print('変動レグ時価(手計算): {:,.3f}'.format((dfSWP.amount*dfSWP.DF).sum()) )"
   ]
  },
  {
   "cell_type": "code",
   "execution_count": 15,
   "metadata": {},
   "outputs": [],
   "source": [
    "def swapCashFlow(swapOBJ, curveOBJ, leg=1, eff=0, dc=dcA365): \n",
    "    '''swapCashFlow(swapOBJ, curveOBJ, leg=1:FLoat  0:Fix)-> DataFrame)'''  \n",
    "    if leg == 1:  # 変動ﾚｸﾞ leg(1)\n",
    "        dfSWP = pd.DataFrame({\n",
    "            'fixingDate': cpn.fixingDate().ISO(),\n",
    "            'accruStart': cpn.accrualStartDate().ISO(),\n",
    "            'accruEnd':   cpn.accrualEndDate().ISO(),\n",
    "            'payDate':    cpn.date(),                            # No ISO form\n",
    "            'days':       dc.dayCount(cpn.accrualStartDate(),cpn.accrualEndDate()),\n",
    "            'rate':       cpn.rate(),\n",
    "            'spread':     cpn.spread(),\n",
    "            'amount':     cpn.amount(),\n",
    "            } for cpn in map(ql.as_floating_rate_coupon, swapOBJ.leg(1)))\n",
    "    else:          # 固定ﾚｸﾞ leg(0)\n",
    "        dfSWP = pd.DataFrame({\n",
    "            'nominal':    cpn.nominal(),\n",
    "            'accruStart': cpn.accrualStartDate().ISO(),\n",
    "            'accruEnd':   cpn.accrualEndDate().ISO(),\n",
    "            'payDate':    cpn.date(),\n",
    "            'days':       dc.dayCount(cpn.accrualStartDate(),cpn.accrualEndDate()),\n",
    "            'rate':       cpn.rate(),\n",
    "            'amount':     cpn.amount()\n",
    "            } for cpn in map(ql.as_fixed_rate_coupon, swapOBJ.leg(0)))\n",
    "    # 起算日の挿入\n",
    "    dfEFF = pd.DataFrame([{'payDate': swapOBJ.startDate()}], columns=dfSWP.columns)\n",
    "    dfSWP = pd.concat([dfEFF, dfSWP], ignore_index=True)                \n",
    "    # ディスカウントファクター(DF)\n",
    "    settleDT = curveOBJ.referenceDate()\n",
    "    psDF = [1.0                   for dt in dfSWP.payDate if dt <= settleDT] # past   DF\n",
    "    fuDF = [curveOBJ.discount(dt) for dt in dfSWP.payDate if settleDT < dt ] # future DF\n",
    "    dfSWP = pd.concat([dfSWP, pd.DataFrame(psDF+fuDF, columns=['DF']) ], axis=1)\n",
    "    dfSWP.payDate = dfSWP.payDate.map(lambda x: x.ISO())                        # ISOへ\n",
    "    return dfSWP"
   ]
  },
  {
   "cell_type": "code",
   "execution_count": 16,
   "metadata": {},
   "outputs": [],
   "source": [
    "tbrIX.addFixing(jDT(2022,8,19),0.13636/100,True)"
   ]
  },
  {
   "cell_type": "code",
   "execution_count": 17,
   "metadata": {},
   "outputs": [],
   "source": [
    "# fixing日とfixingの例\n",
    "prevPayDT = settleDT if swapOBJ.floatingSchedule().startDate() >= settleDT \\\n",
    "                   else swapOBJ.floatingSchedule().previousDate(settleDT)\n",
    "fixedDT = calJP.advance(prevPayDT, -Tp2, DD)\n",
    "tbrIX.addFixing(fixedDT,0.13636/100,True)"
   ]
  },
  {
   "cell_type": "code",
   "execution_count": 18,
   "metadata": {},
   "outputs": [
    {
     "data": {
      "text/html": [
       "<style type=\"text/css\">\n",
       "</style>\n",
       "<table id=\"T_863d9\">\n",
       "  <thead>\n",
       "    <tr>\n",
       "      <th class=\"blank level0\" >&nbsp;</th>\n",
       "      <th id=\"T_863d9_level0_col0\" class=\"col_heading level0 col0\" >fixingDate</th>\n",
       "      <th id=\"T_863d9_level0_col1\" class=\"col_heading level0 col1\" >accruStart</th>\n",
       "      <th id=\"T_863d9_level0_col2\" class=\"col_heading level0 col2\" >accruEnd</th>\n",
       "      <th id=\"T_863d9_level0_col3\" class=\"col_heading level0 col3\" >payDate</th>\n",
       "      <th id=\"T_863d9_level0_col4\" class=\"col_heading level0 col4\" >days</th>\n",
       "      <th id=\"T_863d9_level0_col5\" class=\"col_heading level0 col5\" >rate</th>\n",
       "      <th id=\"T_863d9_level0_col6\" class=\"col_heading level0 col6\" >spread</th>\n",
       "      <th id=\"T_863d9_level0_col7\" class=\"col_heading level0 col7\" >amount</th>\n",
       "      <th id=\"T_863d9_level0_col8\" class=\"col_heading level0 col8\" >DF</th>\n",
       "    </tr>\n",
       "  </thead>\n",
       "  <tbody>\n",
       "    <tr>\n",
       "      <th id=\"T_863d9_level0_row0\" class=\"row_heading level0 row0\" >0</th>\n",
       "      <td id=\"T_863d9_row0_col0\" class=\"data row0 col0\" >nan</td>\n",
       "      <td id=\"T_863d9_row0_col1\" class=\"data row0 col1\" >nan</td>\n",
       "      <td id=\"T_863d9_row0_col2\" class=\"data row0 col2\" >nan</td>\n",
       "      <td id=\"T_863d9_row0_col3\" class=\"data row0 col3\" >2022-08-23</td>\n",
       "      <td id=\"T_863d9_row0_col4\" class=\"data row0 col4\" >nan</td>\n",
       "      <td id=\"T_863d9_row0_col5\" class=\"data row0 col5\" >nan%</td>\n",
       "      <td id=\"T_863d9_row0_col6\" class=\"data row0 col6\" >nan%</td>\n",
       "      <td id=\"T_863d9_row0_col7\" class=\"data row0 col7\" >nan</td>\n",
       "      <td id=\"T_863d9_row0_col8\" class=\"data row0 col8\" >1.00000000</td>\n",
       "    </tr>\n",
       "    <tr>\n",
       "      <th id=\"T_863d9_level0_row1\" class=\"row_heading level0 row1\" >1</th>\n",
       "      <td id=\"T_863d9_row1_col0\" class=\"data row1 col0\" >2022-08-19</td>\n",
       "      <td id=\"T_863d9_row1_col1\" class=\"data row1 col1\" >2022-08-23</td>\n",
       "      <td id=\"T_863d9_row1_col2\" class=\"data row1 col2\" >2023-02-24</td>\n",
       "      <td id=\"T_863d9_row1_col3\" class=\"data row1 col3\" >2023-02-24</td>\n",
       "      <td id=\"T_863d9_row1_col4\" class=\"data row1 col4\" >185</td>\n",
       "      <td id=\"T_863d9_row1_col5\" class=\"data row1 col5\" >0.136360%</td>\n",
       "      <td id=\"T_863d9_row1_col6\" class=\"data row1 col6\" >0.000%</td>\n",
       "      <td id=\"T_863d9_row1_col7\" class=\"data row1 col7\" >6,911.40</td>\n",
       "      <td id=\"T_863d9_row1_col8\" class=\"data row1 col8\" >1.00000000</td>\n",
       "    </tr>\n",
       "    <tr>\n",
       "      <th id=\"T_863d9_level0_row2\" class=\"row_heading level0 row2\" >2</th>\n",
       "      <td id=\"T_863d9_row2_col0\" class=\"data row2 col0\" >2023-02-21</td>\n",
       "      <td id=\"T_863d9_row2_col1\" class=\"data row2 col1\" >2023-02-24</td>\n",
       "      <td id=\"T_863d9_row2_col2\" class=\"data row2 col2\" >2023-08-23</td>\n",
       "      <td id=\"T_863d9_row2_col3\" class=\"data row2 col3\" >2023-08-23</td>\n",
       "      <td id=\"T_863d9_row2_col4\" class=\"data row2 col4\" >180</td>\n",
       "      <td id=\"T_863d9_row2_col5\" class=\"data row2 col5\" >0.100000%</td>\n",
       "      <td id=\"T_863d9_row2_col6\" class=\"data row2 col6\" >0.000%</td>\n",
       "      <td id=\"T_863d9_row2_col7\" class=\"data row2 col7\" >4,931.51</td>\n",
       "      <td id=\"T_863d9_row2_col8\" class=\"data row2 col8\" >0.99960048</td>\n",
       "    </tr>\n",
       "    <tr>\n",
       "      <th id=\"T_863d9_level0_row3\" class=\"row_heading level0 row3\" >3</th>\n",
       "      <td id=\"T_863d9_row3_col0\" class=\"data row3 col0\" >2023-08-21</td>\n",
       "      <td id=\"T_863d9_row3_col1\" class=\"data row3 col1\" >2023-08-23</td>\n",
       "      <td id=\"T_863d9_row3_col2\" class=\"data row3 col2\" >2024-02-26</td>\n",
       "      <td id=\"T_863d9_row3_col3\" class=\"data row3 col3\" >2024-02-26</td>\n",
       "      <td id=\"T_863d9_row3_col4\" class=\"data row3 col4\" >187</td>\n",
       "      <td id=\"T_863d9_row3_col5\" class=\"data row3 col5\" >0.155450%</td>\n",
       "      <td id=\"T_863d9_row3_col6\" class=\"data row3 col6\" >0.000%</td>\n",
       "      <td id=\"T_863d9_row3_col7\" class=\"data row3 col7\" >7,964.13</td>\n",
       "      <td id=\"T_863d9_row3_col8\" class=\"data row3 col8\" >0.99880502</td>\n",
       "    </tr>\n",
       "    <tr>\n",
       "      <th id=\"T_863d9_level0_row4\" class=\"row_heading level0 row4\" >4</th>\n",
       "      <td id=\"T_863d9_row4_col0\" class=\"data row4 col0\" >2024-02-21</td>\n",
       "      <td id=\"T_863d9_row4_col1\" class=\"data row4 col1\" >2024-02-26</td>\n",
       "      <td id=\"T_863d9_row4_col2\" class=\"data row4 col2\" >2024-08-23</td>\n",
       "      <td id=\"T_863d9_row4_col3\" class=\"data row4 col3\" >2024-08-23</td>\n",
       "      <td id=\"T_863d9_row4_col4\" class=\"data row4 col4\" >179</td>\n",
       "      <td id=\"T_863d9_row4_col5\" class=\"data row4 col5\" >0.221531%</td>\n",
       "      <td id=\"T_863d9_row4_col6\" class=\"data row4 col6\" >0.000%</td>\n",
       "      <td id=\"T_863d9_row4_col7\" class=\"data row4 col7\" >10,864.14</td>\n",
       "      <td id=\"T_863d9_row4_col8\" class=\"data row4 col8\" >0.99772108</td>\n",
       "    </tr>\n",
       "  </tbody>\n",
       "</table>\n"
      ],
      "text/plain": [
       "<pandas.io.formats.style.Styler at 0x1dd02be6910>"
      ]
     },
     "execution_count": 18,
     "metadata": {},
     "output_type": "execute_result"
    }
   ],
   "source": [
    "# 新しい日付設定\n",
    "tradeDT  = jDT(2023,5,1) ; setEvDT(tradeDT)\n",
    "settleDT = calJP.advance(tradeDT, Tp2, DD)\n",
    "\n",
    "# fixing日とfixingの例\n",
    "prevPayDT = settleDT if swapOBJ.floatingSchedule().startDate() >= settleDT \\\n",
    "                   else swapOBJ.floatingSchedule().previousDate(settleDT)\n",
    "fixedDT = calJP.advance(prevPayDT, -Tp2, DD)\n",
    "tbrIX.addFixing(fixedDT,0.1/100,True)\n",
    "\n",
    "# float leg CF (leg=1)\n",
    "dfFixCF = mu.swapCashFlow(swapOBJ, tbCrvOBJ, leg=1)\n",
    "dfFixCF.style.format(fmtSCF)"
   ]
  },
  {
   "cell_type": "code",
   "execution_count": 19,
   "metadata": {},
   "outputs": [
    {
     "data": {
      "text/plain": [
       "[('2022-08-19', 0.0013636000000000002), ('2023-02-21', 0.001)]"
      ]
     },
     "execution_count": 19,
     "metadata": {},
     "output_type": "execute_result"
    }
   ],
   "source": [
    "# 過去のfixingデータの表示\n",
    "[(dd.ISO(), vv) for dd, vv in zip(tbrIX.timeSeries().dates(), \n",
    "                                  tbrIX.timeSeries().values())]"
   ]
  },
  {
   "cell_type": "code",
   "execution_count": 20,
   "metadata": {},
   "outputs": [],
   "source": [
    "# 日付を元へ戻す\n",
    "tradeDT  = jDT(2022,8,19) ; setEvDT(tradeDT)\n",
    "settleDT = calJP.advance(tradeDT, Tp2, DD)"
   ]
  },
  {
   "cell_type": "code",
   "execution_count": 21,
   "metadata": {},
   "outputs": [
    {
     "data": {
      "text/html": [
       "<style type=\"text/css\">\n",
       "</style>\n",
       "<table id=\"T_b6d66\">\n",
       "  <thead>\n",
       "    <tr>\n",
       "      <th class=\"blank level0\" >&nbsp;</th>\n",
       "      <th id=\"T_b6d66_level0_col0\" class=\"col_heading level0 col0\" >nominal</th>\n",
       "      <th id=\"T_b6d66_level0_col1\" class=\"col_heading level0 col1\" >accruStart</th>\n",
       "      <th id=\"T_b6d66_level0_col2\" class=\"col_heading level0 col2\" >accruEnd</th>\n",
       "      <th id=\"T_b6d66_level0_col3\" class=\"col_heading level0 col3\" >payDate</th>\n",
       "      <th id=\"T_b6d66_level0_col4\" class=\"col_heading level0 col4\" >days</th>\n",
       "      <th id=\"T_b6d66_level0_col5\" class=\"col_heading level0 col5\" >rate</th>\n",
       "      <th id=\"T_b6d66_level0_col6\" class=\"col_heading level0 col6\" >amount</th>\n",
       "      <th id=\"T_b6d66_level0_col7\" class=\"col_heading level0 col7\" >DF</th>\n",
       "    </tr>\n",
       "  </thead>\n",
       "  <tbody>\n",
       "    <tr>\n",
       "      <th id=\"T_b6d66_level0_row0\" class=\"row_heading level0 row0\" >0</th>\n",
       "      <td id=\"T_b6d66_row0_col0\" class=\"data row0 col0\" >nan</td>\n",
       "      <td id=\"T_b6d66_row0_col1\" class=\"data row0 col1\" >nan</td>\n",
       "      <td id=\"T_b6d66_row0_col2\" class=\"data row0 col2\" >nan</td>\n",
       "      <td id=\"T_b6d66_row0_col3\" class=\"data row0 col3\" >2022-08-23</td>\n",
       "      <td id=\"T_b6d66_row0_col4\" class=\"data row0 col4\" >nan</td>\n",
       "      <td id=\"T_b6d66_row0_col5\" class=\"data row0 col5\" >nan%</td>\n",
       "      <td id=\"T_b6d66_row0_col6\" class=\"data row0 col6\" >nan</td>\n",
       "      <td id=\"T_b6d66_row0_col7\" class=\"data row0 col7\" >1.00000000</td>\n",
       "    </tr>\n",
       "    <tr>\n",
       "      <th id=\"T_b6d66_level0_row1\" class=\"row_heading level0 row1\" >1</th>\n",
       "      <td id=\"T_b6d66_row1_col0\" class=\"data row1 col0\" >10,000,000.00</td>\n",
       "      <td id=\"T_b6d66_row1_col1\" class=\"data row1 col1\" >2022-08-23</td>\n",
       "      <td id=\"T_b6d66_row1_col2\" class=\"data row1 col2\" >2023-02-24</td>\n",
       "      <td id=\"T_b6d66_row1_col3\" class=\"data row1 col3\" >2023-02-24</td>\n",
       "      <td id=\"T_b6d66_row1_col4\" class=\"data row1 col4\" >185</td>\n",
       "      <td id=\"T_b6d66_row1_col5\" class=\"data row1 col5\" >1.200000%</td>\n",
       "      <td id=\"T_b6d66_row1_col6\" class=\"data row1 col6\" >60,821.92</td>\n",
       "      <td id=\"T_b6d66_row1_col7\" class=\"data row1 col7\" >0.99930934</td>\n",
       "    </tr>\n",
       "    <tr>\n",
       "      <th id=\"T_b6d66_level0_row2\" class=\"row_heading level0 row2\" >2</th>\n",
       "      <td id=\"T_b6d66_row2_col0\" class=\"data row2 col0\" >10,000,000.00</td>\n",
       "      <td id=\"T_b6d66_row2_col1\" class=\"data row2 col1\" >2023-02-24</td>\n",
       "      <td id=\"T_b6d66_row2_col2\" class=\"data row2 col2\" >2023-08-23</td>\n",
       "      <td id=\"T_b6d66_row2_col3\" class=\"data row2 col3\" >2023-08-23</td>\n",
       "      <td id=\"T_b6d66_row2_col4\" class=\"data row2 col4\" >180</td>\n",
       "      <td id=\"T_b6d66_row2_col5\" class=\"data row2 col5\" >1.200000%</td>\n",
       "      <td id=\"T_b6d66_row2_col6\" class=\"data row2 col6\" >59,178.08</td>\n",
       "      <td id=\"T_b6d66_row2_col7\" class=\"data row2 col7\" >0.99847678</td>\n",
       "    </tr>\n",
       "    <tr>\n",
       "      <th id=\"T_b6d66_level0_row3\" class=\"row_heading level0 row3\" >3</th>\n",
       "      <td id=\"T_b6d66_row3_col0\" class=\"data row3 col0\" >10,000,000.00</td>\n",
       "      <td id=\"T_b6d66_row3_col1\" class=\"data row3 col1\" >2023-08-23</td>\n",
       "      <td id=\"T_b6d66_row3_col2\" class=\"data row3 col2\" >2024-02-26</td>\n",
       "      <td id=\"T_b6d66_row3_col3\" class=\"data row3 col3\" >2024-02-26</td>\n",
       "      <td id=\"T_b6d66_row3_col4\" class=\"data row3 col4\" >187</td>\n",
       "      <td id=\"T_b6d66_row3_col5\" class=\"data row3 col5\" >1.200000%</td>\n",
       "      <td id=\"T_b6d66_row3_col6\" class=\"data row3 col6\" >61,479.45</td>\n",
       "      <td id=\"T_b6d66_row3_col7\" class=\"data row3 col7\" >0.99717037</td>\n",
       "    </tr>\n",
       "    <tr>\n",
       "      <th id=\"T_b6d66_level0_row4\" class=\"row_heading level0 row4\" >4</th>\n",
       "      <td id=\"T_b6d66_row4_col0\" class=\"data row4 col0\" >10,000,000.00</td>\n",
       "      <td id=\"T_b6d66_row4_col1\" class=\"data row4 col1\" >2024-02-26</td>\n",
       "      <td id=\"T_b6d66_row4_col2\" class=\"data row4 col2\" >2024-08-23</td>\n",
       "      <td id=\"T_b6d66_row4_col3\" class=\"data row4 col3\" >2024-08-23</td>\n",
       "      <td id=\"T_b6d66_row4_col4\" class=\"data row4 col4\" >179</td>\n",
       "      <td id=\"T_b6d66_row4_col5\" class=\"data row4 col5\" >1.200000%</td>\n",
       "      <td id=\"T_b6d66_row4_col6\" class=\"data row4 col6\" >58,849.32</td>\n",
       "      <td id=\"T_b6d66_row4_col7\" class=\"data row4 col7\" >0.99589555</td>\n",
       "    </tr>\n",
       "  </tbody>\n",
       "</table>\n"
      ],
      "text/plain": [
       "<pandas.io.formats.style.Styler at 0x1dd7a7b4910>"
      ]
     },
     "metadata": {},
     "output_type": "display_data"
    },
    {
     "name": "stdout",
     "output_type": "stream",
     "text": [
      "アニュイティ: 1.998175919523169\n"
     ]
    }
   ],
   "source": [
    "# fixed leg CF (leg=0)\n",
    "dfFixCF = mu.swapCashFlow(swapOBJ, tbCrvOBJ, leg=0)\n",
    "display( dfFixCF.style.format(fmtSCF) )\n",
    "print('アニュイティ:', (dfFixCF.days/365 * dfFixCF.DF).sum() )"
   ]
  },
  {
   "cell_type": "code",
   "execution_count": 22,
   "metadata": {},
   "outputs": [
    {
     "name": "stdout",
     "output_type": "stream",
     "text": [
      "discount factors: [0.99717 0.9959  0.99446 0.99306]\n",
      "tenor list      : [0.51233 0.49041 0.50959 0.49589], アニュイティ:1.998490\n"
     ]
    }
   ],
   "source": [
    "from myABBR import *\n",
    "# 受渡日と満期日のスケジュールオブジェクト\n",
    "settleDT, matDT = jDT(2023,8,23), jDT(2025,8,23) \n",
    "annSCD = ql.Schedule(settleDT, matDT, pdFreqSA, calJP, mFLLW, mFLLW, dtGENb, EoMf)\n",
    "\n",
    "# アニュイティ計算\n",
    "discFCT = nA([tbCrvOBJ.discount(xx) for xx in annSCD][1:]) \n",
    "tnrLST  = np.diff([dcA365.yearFraction(annSCD.startDate(),xx) for xx in annSCD]) \n",
    "annuity = np.sum(tnrLST * discFCT)\n",
    "\n",
    "print('discount factors:', discFCT); print('tenor list      :', tnrLST, end=', ')\n",
    "print('アニュイティ:{:.6f}'.format(annuity))"
   ]
  },
  {
   "cell_type": "code",
   "execution_count": 23,
   "metadata": {},
   "outputs": [],
   "source": [
    "import xlwings as xw ; from myABBR import * ; import myUtil as mu\n",
    "\n",
    "@xw.func \n",
    "@xw.arg('dateINF', ndim=1)\n",
    "@xw.arg('legINF', ndim=1)\n",
    "@xw.arg('crvDATA', ndim=2)\n",
    "@xw.ret(index=False, header=True, expand='table')\n",
    "\n",
    "def tiborSWAP(dateINF,legINF,crvDATA,cftable=-1): # cftable=> 固定表:0, 変動表:1\n",
    "    # 0.引数の処理\n",
    "    tradeDT, effDT,  matDT                             = dateINF\n",
    "    payRcv,  ntlAMT, cpnRT, sprdRT, fixedIX            = legINF\n",
    "\n",
    "    tradeDT,          effDT,      matDT,      payRcv   =\\\n",
    "    dDT(tradeDT), dDT(effDT), dDT(matDT), int(payRcv)\n",
    "\n",
    "    settleDT = calJP.advance(tradeDT,Tp2,DD) ; setEvDT(tradeDT)\n",
    "    # 1.カーブ作成\n",
    "    tbrIX, tbCrvOBJ, tbCrvHDL, tbParRATE = mu.makeTiborCurve(crvDATA)\n",
    "    # 2.スケジュールオブジェクト \n",
    "    fixSCD = ql.Schedule(effDT, matDT, pdFreqSA, calJP, mFLLW, mFLLW, dtGENb, EoMf)\n",
    "    # 3.スワップオブジェクト\n",
    "    swapOBJ = ql.VanillaSwap(payRcv,ntlAMT,fixSCD,cpnRT,       dcA365,\n",
    "                                           fixSCD,tbrIX,sprdRT,dcA365)\n",
    "    swapENG = ql.DiscountingSwapEngine(tbCrvHDL); swapOBJ.setPricingEngine(swapENG)\n",
    "    # 4.fixed指標金利の設定\n",
    "    prevPayDT = settleDT if swapOBJ.floatingSchedule().startDate() >= settleDT \\\n",
    "                       else swapOBJ.floatingSchedule().previousDate(settleDT)\n",
    "    fixedDT = calJP.advance(prevPayDT,-Tp2,DD)\n",
    "    tbrIX.clearFixings() ;  tbrIX.addFixing(fixedDT,fixedIX)\n",
    "    # 5.Retrun   ( cftable=> 0:固定表, 1:変動表 他:評価 )\n",
    "    if cftable == 1 :\n",
    "        df = mu.swapCashFlow(swapOBJ, tbCrvOBJ, 1)\n",
    "    elif cftable == 0 :\n",
    "        df = mu.swapCashFlow(swapOBJ, tbCrvOBJ, 0)\n",
    "    else: \n",
    "        df =pd.DataFrame([  \n",
    "        ['固定レグ時価'    ,swapOBJ.legNPV(0)],   ['変動レグ時価',swapOBJ.legNPV(1)],\n",
    "        ['スワップ時価 NPV',swapOBJ.NPV()],       ['フェアレート',swapOBJ.fairRate()],\n",
    "        ['フェアスプレッド',swapOBJ.fairSpread()]         ], columns=['計算結果', ''])\n",
    "    return df"
   ]
  }
 ],
 "metadata": {
  "kernelspec": {
   "display_name": "base",
   "language": "python",
   "name": "python3"
  },
  "language_info": {
   "codemirror_mode": {
    "name": "ipython",
    "version": 3
   },
   "file_extension": ".py",
   "mimetype": "text/x-python",
   "name": "python",
   "nbconvert_exporter": "python",
   "pygments_lexer": "ipython3",
   "version": "3.11.7"
  }
 },
 "nbformat": 4,
 "nbformat_minor": 2
}
