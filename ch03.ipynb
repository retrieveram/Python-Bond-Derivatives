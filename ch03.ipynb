{
 "cells": [
  {
   "cell_type": "markdown",
   "metadata": {},
   "source": [
    "**第3章 RFRスワップとマルチカーブ**"
   ]
  },
  {
   "cell_type": "code",
   "execution_count": 1,
   "metadata": {},
   "outputs": [],
   "source": [
    "from myABBR import * ; import myUtil as mu\n",
    "crvDATA = [('depo','1d',-0.009),  ('swap','1w',-0.01261),('swap','2w',-0.01469),\n",
    "           ('swap','1m',-0.01807),('swap','3m',-0.01919),('swap','6m',-0.01043),\n",
    "           ('swap','9m',0.00022), ('swap','12m',0.0125), ('swap','18m',0.03125),\n",
    "           ('swap','2y',0.04875), ('swap','3y',0.07375), ('swap','4y',0.09479), \n",
    "           ('swap','5y',0.11854), ('swap','7y',0.19146)                       ]"
   ]
  },
  {
   "cell_type": "code",
   "execution_count": 2,
   "metadata": {},
   "outputs": [],
   "source": [
    "def makeTonaCurve(crvDATA):\n",
    "  \n",
    "  # 1.指標金利オブジェクト\n",
    "  tnCrvHDL = ql.RelinkableYieldTermStructureHandle()    \n",
    "  tonaIX = ql.OvernightIndex('TONA', Tp0, jpyFX, calJP, dcA365, tnCrvHDL)\n",
    "  # 2. カーブヘルパー\n",
    "  cHelper, tnParRATE = [], []\n",
    "  for knd, tnr, rt in crvDATA:\n",
    "      if knd == 'depo':\n",
    "          cHelper.append(ql.DepositRateHelper(mu.sqHDL(rt/100),tonaIX)) \n",
    "      if knd == 'swap':\n",
    "          cHelper.append(ql.OISRateHelper(Tp2, pD(tnr), mu.sqHDL(rt/100),tonaIX))\n",
    "      tnParRATE.append(rt/100)                                # パーレート用リスト\n",
    "  # カーブオブジェクト\n",
    "  tnCrvOBJ = ql.PiecewiseLogLinearDiscount(Tp0, calJP, cHelper, dcA365)\n",
    "  tnCrvHDL.linkTo(tnCrvOBJ) ; tnCrvOBJ.enableExtrapolation()\n",
    "  return [tonaIX, tnCrvOBJ, tnCrvHDL, tnParRATE]        # 4つのオブジェクトを戻す"
   ]
  },
  {
   "cell_type": "code",
   "execution_count": 3,
   "metadata": {},
   "outputs": [
    {
     "name": "stdout",
     "output_type": "stream",
     "text": [
      "決済日(reference):  2022-08-19\n"
     ]
    },
    {
     "data": {
      "text/html": [
       "<style type=\"text/css\">\n",
       "</style>\n",
       "<table id=\"T_0e01c\">\n",
       "  <thead>\n",
       "    <tr>\n",
       "      <th class=\"blank level0\" >&nbsp;</th>\n",
       "      <th id=\"T_0e01c_level0_col0\" class=\"col_heading level0 col0\" >date</th>\n",
       "      <th id=\"T_0e01c_level0_col1\" class=\"col_heading level0 col1\" >tonaDF</th>\n",
       "      <th id=\"T_0e01c_level0_col2\" class=\"col_heading level0 col2\" >parRT</th>\n",
       "      <th id=\"T_0e01c_level0_col3\" class=\"col_heading level0 col3\" >zeroRT</th>\n",
       "    </tr>\n",
       "  </thead>\n",
       "  <tbody>\n",
       "    <tr>\n",
       "      <th id=\"T_0e01c_level0_row0\" class=\"row_heading level0 row0\" >0</th>\n",
       "      <td id=\"T_0e01c_row0_col0\" class=\"data row0 col0\" >August 22nd, 2022</td>\n",
       "      <td id=\"T_0e01c_row0_col1\" class=\"data row0 col1\" >1.00000073973</td>\n",
       "      <td id=\"T_0e01c_row0_col2\" class=\"data row0 col2\" >-0.009000%</td>\n",
       "      <td id=\"T_0e01c_row0_col3\" class=\"data row0 col3\" >-0.009000%</td>\n",
       "    </tr>\n",
       "    <tr>\n",
       "      <th id=\"T_0e01c_level0_row1\" class=\"row_heading level0 row1\" >1</th>\n",
       "      <td id=\"T_0e01c_row1_col0\" class=\"data row1 col0\" >August 30th, 2022</td>\n",
       "      <td id=\"T_0e01c_row1_col1\" class=\"data row1 col1\" >1.00000350357</td>\n",
       "      <td id=\"T_0e01c_row1_col2\" class=\"data row1 col2\" >-0.012610%</td>\n",
       "      <td id=\"T_0e01c_row1_col3\" class=\"data row1 col3\" >-0.011625%</td>\n",
       "    </tr>\n",
       "    <tr>\n",
       "      <th id=\"T_0e01c_level0_row2\" class=\"row_heading level0 row2\" >2</th>\n",
       "      <td id=\"T_0e01c_row2_col0\" class=\"data row2 col0\" >September 6th, 2022</td>\n",
       "      <td id=\"T_0e01c_row2_col1\" class=\"data row2 col1\" >1.00000671977</td>\n",
       "      <td id=\"T_0e01c_row2_col2\" class=\"data row2 col2\" >-0.014690%</td>\n",
       "      <td id=\"T_0e01c_row2_col3\" class=\"data row2 col3\" >-0.013626%</td>\n",
       "    </tr>\n",
       "    <tr>\n",
       "      <th id=\"T_0e01c_level0_row3\" class=\"row_heading level0 row3\" >3</th>\n",
       "      <td id=\"T_0e01c_row3_col0\" class=\"data row3 col0\" >September 26th, 2022</td>\n",
       "      <td id=\"T_0e01c_row3_col1\" class=\"data row3 col1\" >1.00001791784</td>\n",
       "      <td id=\"T_0e01c_row3_col2\" class=\"data row3 col2\" >-0.018070%</td>\n",
       "      <td id=\"T_0e01c_row3_col3\" class=\"data row3 col3\" >-0.017210%</td>\n",
       "    </tr>\n",
       "  </tbody>\n",
       "</table>\n"
      ],
      "text/plain": [
       "<pandas.io.formats.style.Styler at 0x227c65dbc10>"
      ]
     },
     "metadata": {},
     "output_type": "display_data"
    }
   ],
   "source": [
    "tradeDT = jDT(2022,8,19) ; setEvDT(tradeDT)\n",
    "tonaIX, tnCrvOBJ, tnCrvHDL, tnParRATE = makeTonaCurve(crvDATA)\n",
    "dfTONA = pd.DataFrame([(dt,df,pr,tnCrvOBJ.zeroRate(dt,dcA365,cmpdSPL,freqA).rate()) \n",
    "                        for (dt,df),pr in zip(tnCrvOBJ.nodes()[1:], tnParRATE)  ],\n",
    "                        columns=['date','tonaDF','parRT','zeroRT'])\n",
    "print(\"決済日(reference): \", tnCrvOBJ.referenceDate().ISO())\n",
    "fmtSCF.update(tonaDF='{:.11f}')\n",
    "display(dfTONA[:4].style.format(fmtSCF))"
   ]
  },
  {
   "cell_type": "code",
   "execution_count": 4,
   "metadata": {},
   "outputs": [
    {
     "data": {
      "text/plain": [
       "1.0000010852067613"
      ]
     },
     "execution_count": 4,
     "metadata": {},
     "output_type": "execute_result"
    }
   ],
   "source": [
    "tnCrvOBJ.discount(jDT(2022,8,23))"
   ]
  },
  {
   "cell_type": "code",
   "execution_count": 5,
   "metadata": {},
   "outputs": [
    {
     "data": {
      "text/html": [
       "<style type=\"text/css\">\n",
       "</style>\n",
       "<table id=\"T_62f73\">\n",
       "  <thead>\n",
       "    <tr>\n",
       "      <th class=\"blank level0\" >&nbsp;</th>\n",
       "      <th id=\"T_62f73_level0_col0\" class=\"col_heading level0 col0\" >date</th>\n",
       "      <th id=\"T_62f73_level0_col1\" class=\"col_heading level0 col1\" >tonaDF</th>\n",
       "      <th id=\"T_62f73_level0_col2\" class=\"col_heading level0 col2\" >parRT</th>\n",
       "      <th id=\"T_62f73_level0_col3\" class=\"col_heading level0 col3\" >zeroRT</th>\n",
       "      <th id=\"T_62f73_level0_col4\" class=\"col_heading level0 col4\" >shftRT</th>\n",
       "      <th id=\"T_62f73_level0_col5\" class=\"col_heading level0 col5\" >DF</th>\n",
       "    </tr>\n",
       "  </thead>\n",
       "  <tbody>\n",
       "    <tr>\n",
       "      <th id=\"T_62f73_level0_row0\" class=\"row_heading level0 row0\" >0</th>\n",
       "      <td id=\"T_62f73_row0_col0\" class=\"data row0 col0\" >August 22nd, 2022</td>\n",
       "      <td id=\"T_62f73_row0_col1\" class=\"data row0 col1\" >1.00000073973</td>\n",
       "      <td id=\"T_62f73_row0_col2\" class=\"data row0 col2\" >-0.009000%</td>\n",
       "      <td id=\"T_62f73_row0_col3\" class=\"data row0 col3\" >-0.009000%</td>\n",
       "      <td id=\"T_62f73_row0_col4\" class=\"data row0 col4\" >4.991000%</td>\n",
       "      <td id=\"T_62f73_row0_col5\" class=\"data row0 col5\" >0.99958995</td>\n",
       "    </tr>\n",
       "    <tr>\n",
       "      <th id=\"T_62f73_level0_row1\" class=\"row_heading level0 row1\" >1</th>\n",
       "      <td id=\"T_62f73_row1_col0\" class=\"data row1 col0\" >August 30th, 2022</td>\n",
       "      <td id=\"T_62f73_row1_col1\" class=\"data row1 col1\" >1.00000350357</td>\n",
       "      <td id=\"T_62f73_row1_col2\" class=\"data row1 col2\" >-0.012610%</td>\n",
       "      <td id=\"T_62f73_row1_col3\" class=\"data row1 col3\" >-0.011625%</td>\n",
       "      <td id=\"T_62f73_row1_col4\" class=\"data row1 col4\" >4.988375%</td>\n",
       "      <td id=\"T_62f73_row1_col5\" class=\"data row1 col5\" >0.99849891</td>\n",
       "    </tr>\n",
       "    <tr>\n",
       "      <th id=\"T_62f73_level0_row2\" class=\"row_heading level0 row2\" >2</th>\n",
       "      <td id=\"T_62f73_row2_col0\" class=\"data row2 col0\" >September 6th, 2022</td>\n",
       "      <td id=\"T_62f73_row2_col1\" class=\"data row2 col1\" >1.00000671977</td>\n",
       "      <td id=\"T_62f73_row2_col2\" class=\"data row2 col2\" >-0.014690%</td>\n",
       "      <td id=\"T_62f73_row2_col3\" class=\"data row2 col3\" >-0.013626%</td>\n",
       "      <td id=\"T_62f73_row2_col4\" class=\"data row2 col4\" >4.986374%</td>\n",
       "      <td id=\"T_62f73_row2_col5\" class=\"data row2 col5\" >0.99754700</td>\n",
       "    </tr>\n",
       "    <tr>\n",
       "      <th id=\"T_62f73_level0_row3\" class=\"row_heading level0 row3\" >3</th>\n",
       "      <td id=\"T_62f73_row3_col0\" class=\"data row3 col0\" >September 26th, 2022</td>\n",
       "      <td id=\"T_62f73_row3_col1\" class=\"data row3 col1\" >1.00001791784</td>\n",
       "      <td id=\"T_62f73_row3_col2\" class=\"data row3 col2\" >-0.018070%</td>\n",
       "      <td id=\"T_62f73_row3_col3\" class=\"data row3 col3\" >-0.017210%</td>\n",
       "      <td id=\"T_62f73_row3_col4\" class=\"data row3 col4\" >4.982790%</td>\n",
       "      <td id=\"T_62f73_row3_col5\" class=\"data row3 col5\" >0.99483921</td>\n",
       "    </tr>\n",
       "  </tbody>\n",
       "</table>\n"
      ],
      "text/plain": [
       "<pandas.io.formats.style.Styler at 0x227c6ae4610>"
      ]
     },
     "metadata": {},
     "output_type": "display_data"
    }
   ],
   "source": [
    "# TONAカーブの5%シフト\n",
    "tnSFtOBJ= ql.ZeroSpreadedTermStructure(\n",
    "                                tnCrvHDL, mu.sqHDL(5.0/100), cmpdSPL, freqA, dcA365)\n",
    "tnSFtHDL= ql.YieldTermStructureHandle(tnSFtOBJ)\n",
    "tnSFtIX = ql.OvernightIndex('TONA', Tp0, jpyFX, calJP, dcA365, tnSFtHDL)\n",
    "dfSFT   = pd.DataFrame([(tnSFtOBJ.zeroRate(dt, dcA365, cmpdSPL, freqA).rate(),\n",
    "            tnSFtOBJ.discount(dt) ) for dt in dfTONA.date], columns=['shftRT','DF'])\n",
    "dfTnSFT = pd.concat([dfTONA,dfSFT], axis=1)\n",
    "display(dfTnSFT[:4].style.format(fmtSCF))\n",
    "# シフトカーブの使用\n",
    "tnCrvOBJ = tnSFtOBJ; tnCrvHDL = tnSFtHDL; tonaIX = tnSFtIX "
   ]
  },
  {
   "cell_type": "code",
   "execution_count": 6,
   "metadata": {},
   "outputs": [
    {
     "data": {
      "text/html": [
       "<style type=\"text/css\">\n",
       "</style>\n",
       "<table id=\"T_ddf6c\">\n",
       "  <thead>\n",
       "    <tr>\n",
       "      <th class=\"blank level0\" >&nbsp;</th>\n",
       "      <th id=\"T_ddf6c_level0_col0\" class=\"col_heading level0 col0\" >計算結果</th>\n",
       "      <th id=\"T_ddf6c_level0_col1\" class=\"col_heading level0 col1\" ></th>\n",
       "    </tr>\n",
       "  </thead>\n",
       "  <tbody>\n",
       "    <tr>\n",
       "      <th id=\"T_ddf6c_level0_row0\" class=\"row_heading level0 row0\" >0</th>\n",
       "      <td id=\"T_ddf6c_row0_col0\" class=\"data row0 col0\" >固定レグ時価</td>\n",
       "      <td id=\"T_ddf6c_row0_col1\" class=\"data row0 col1\" >-9572.0373340</td>\n",
       "    </tr>\n",
       "    <tr>\n",
       "      <th id=\"T_ddf6c_level0_row1\" class=\"row_heading level0 row1\" >1</th>\n",
       "      <td id=\"T_ddf6c_row1_col0\" class=\"data row1 col0\" >変動レグ時価</td>\n",
       "      <td id=\"T_ddf6c_row1_col1\" class=\"data row1 col1\" >9542.6781729</td>\n",
       "    </tr>\n",
       "    <tr>\n",
       "      <th id=\"T_ddf6c_level0_row2\" class=\"row_heading level0 row2\" >2</th>\n",
       "      <td id=\"T_ddf6c_row2_col0\" class=\"data row2 col0\" >スワップ時価 NPV</td>\n",
       "      <td id=\"T_ddf6c_row2_col1\" class=\"data row2 col1\" >-29.3591611</td>\n",
       "    </tr>\n",
       "    <tr>\n",
       "      <th id=\"T_ddf6c_level0_row3\" class=\"row_heading level0 row3\" >3</th>\n",
       "      <td id=\"T_ddf6c_row3_col0\" class=\"data row3 col0\" >フェアレート</td>\n",
       "      <td id=\"T_ddf6c_row3_col1\" class=\"data row3 col1\" >0.0498466</td>\n",
       "    </tr>\n",
       "    <tr>\n",
       "      <th id=\"T_ddf6c_level0_row4\" class=\"row_heading level0 row4\" >4</th>\n",
       "      <td id=\"T_ddf6c_row4_col0\" class=\"data row4 col0\" >フェアスプレッド</td>\n",
       "      <td id=\"T_ddf6c_row4_col1\" class=\"data row4 col1\" >0.0001534</td>\n",
       "    </tr>\n",
       "  </tbody>\n",
       "</table>\n"
      ],
      "text/plain": [
       "<pandas.io.formats.style.Styler at 0x227c45c3850>"
      ]
     },
     "execution_count": 6,
     "metadata": {},
     "output_type": "execute_result"
    }
   ],
   "source": [
    "# 3.スワップ条件  payRcv:ql.OvernightIndexedSwap.Payer = 1\n",
    "effDT,               matDT,    payRcv, payLag, ntlAMT,     cpnRT,  sprdRT  =\\\n",
    "jDT(2022,8,23), jDT(2022,8,30),  1,      2,   10_000_000, 5.0/100,   0.0\n",
    "\n",
    "# 4.スケジュール及びスワップオブジェクトの作成、エンジン設定\n",
    "fixSCD  = ql.Schedule(effDT, matDT, pdFreqA, calJP, mFLLW, mFLLW, dtGENb, EoMf)\n",
    "swapOBJ = ql.OvernightIndexedSwap(\n",
    "                 payRcv, ntlAMT, fixSCD, cpnRT, dcA365, tonaIX, sprdRT, payLag)\n",
    "swapOBJ.setPricingEngine(ql.DiscountingSwapEngine(tnCrvHDL))\n",
    "\n",
    "# 5. 計算結果\n",
    "pd.DataFrame([  \n",
    "    ['固定レグ時価'    ,swapOBJ.legNPV(0)],   ['変動レグ時価',swapOBJ.legNPV(1)],\n",
    "    ['スワップ時価 NPV',swapOBJ.NPV()],       ['フェアレート',swapOBJ.fairRate()],\n",
    "    ['フェアスプレッド',swapOBJ.fairSpread()] ], columns=['計算結果', ''])\\\n",
    "                                                 .style.format({'':'{:.7f}'})    "
   ]
  },
  {
   "cell_type": "code",
   "execution_count": 7,
   "metadata": {},
   "outputs": [
    {
     "data": {
      "text/html": [
       "<style type=\"text/css\">\n",
       "</style>\n",
       "<table id=\"T_3385d\">\n",
       "  <thead>\n",
       "    <tr>\n",
       "      <th class=\"blank level0\" >&nbsp;</th>\n",
       "      <th id=\"T_3385d_level0_col0\" class=\"col_heading level0 col0\" >nominal</th>\n",
       "      <th id=\"T_3385d_level0_col1\" class=\"col_heading level0 col1\" >accruStart</th>\n",
       "      <th id=\"T_3385d_level0_col2\" class=\"col_heading level0 col2\" >accruEnd</th>\n",
       "      <th id=\"T_3385d_level0_col3\" class=\"col_heading level0 col3\" >payDate</th>\n",
       "      <th id=\"T_3385d_level0_col4\" class=\"col_heading level0 col4\" >days</th>\n",
       "      <th id=\"T_3385d_level0_col5\" class=\"col_heading level0 col5\" >rate</th>\n",
       "      <th id=\"T_3385d_level0_col6\" class=\"col_heading level0 col6\" >amount</th>\n",
       "      <th id=\"T_3385d_level0_col7\" class=\"col_heading level0 col7\" >DF</th>\n",
       "    </tr>\n",
       "  </thead>\n",
       "  <tbody>\n",
       "    <tr>\n",
       "      <th id=\"T_3385d_level0_row0\" class=\"row_heading level0 row0\" >0</th>\n",
       "      <td id=\"T_3385d_row0_col0\" class=\"data row0 col0\" >nan</td>\n",
       "      <td id=\"T_3385d_row0_col1\" class=\"data row0 col1\" >nan</td>\n",
       "      <td id=\"T_3385d_row0_col2\" class=\"data row0 col2\" >nan</td>\n",
       "      <td id=\"T_3385d_row0_col3\" class=\"data row0 col3\" >2022-08-23</td>\n",
       "      <td id=\"T_3385d_row0_col4\" class=\"data row0 col4\" >nan</td>\n",
       "      <td id=\"T_3385d_row0_col5\" class=\"data row0 col5\" >nan%</td>\n",
       "      <td id=\"T_3385d_row0_col6\" class=\"data row0 col6\" >nan</td>\n",
       "      <td id=\"T_3385d_row0_col7\" class=\"data row0 col7\" >0.99945344</td>\n",
       "    </tr>\n",
       "    <tr>\n",
       "      <th id=\"T_3385d_level0_row1\" class=\"row_heading level0 row1\" >1</th>\n",
       "      <td id=\"T_3385d_row1_col0\" class=\"data row1 col0\" >10,000,000.00</td>\n",
       "      <td id=\"T_3385d_row1_col1\" class=\"data row1 col1\" >2022-08-23</td>\n",
       "      <td id=\"T_3385d_row1_col2\" class=\"data row1 col2\" >2022-08-30</td>\n",
       "      <td id=\"T_3385d_row1_col3\" class=\"data row1 col3\" >2022-09-01</td>\n",
       "      <td id=\"T_3385d_row1_col4\" class=\"data row1 col4\" >7</td>\n",
       "      <td id=\"T_3385d_row1_col5\" class=\"data row1 col5\" >5.000000%</td>\n",
       "      <td id=\"T_3385d_row1_col6\" class=\"data row1 col6\" >9,589.0411</td>\n",
       "      <td id=\"T_3385d_row1_col7\" class=\"data row1 col7\" >0.99822675</td>\n",
       "    </tr>\n",
       "  </tbody>\n",
       "</table>\n"
      ],
      "text/plain": [
       "<pandas.io.formats.style.Styler at 0x227c69e4dd0>"
      ]
     },
     "execution_count": 7,
     "metadata": {},
     "output_type": "execute_result"
    }
   ],
   "source": [
    "# 固定レグ:0\n",
    "fmtSCF['amount']='{:,.4f}'                           # fmtSCFのamount桁数 修正\n",
    "dfFixCF = mu.swapCashFlow(swapOBJ, tnCrvOBJ, 0)\n",
    "dfFixCF.style.format(fmtSCF)"
   ]
  },
  {
   "cell_type": "code",
   "execution_count": 8,
   "metadata": {},
   "outputs": [
    {
     "data": {
      "text/html": [
       "<style type=\"text/css\">\n",
       "</style>\n",
       "<table id=\"T_f8008\">\n",
       "  <thead>\n",
       "    <tr>\n",
       "      <th class=\"blank level0\" >&nbsp;</th>\n",
       "      <th id=\"T_f8008_level0_col0\" class=\"col_heading level0 col0\" >fixingDate</th>\n",
       "      <th id=\"T_f8008_level0_col1\" class=\"col_heading level0 col1\" >accruStart</th>\n",
       "      <th id=\"T_f8008_level0_col2\" class=\"col_heading level0 col2\" >accruEnd</th>\n",
       "      <th id=\"T_f8008_level0_col3\" class=\"col_heading level0 col3\" >payDate</th>\n",
       "      <th id=\"T_f8008_level0_col4\" class=\"col_heading level0 col4\" >days</th>\n",
       "      <th id=\"T_f8008_level0_col5\" class=\"col_heading level0 col5\" >rate</th>\n",
       "      <th id=\"T_f8008_level0_col6\" class=\"col_heading level0 col6\" >spread</th>\n",
       "      <th id=\"T_f8008_level0_col7\" class=\"col_heading level0 col7\" >amount</th>\n",
       "      <th id=\"T_f8008_level0_col8\" class=\"col_heading level0 col8\" >DF</th>\n",
       "    </tr>\n",
       "  </thead>\n",
       "  <tbody>\n",
       "    <tr>\n",
       "      <th id=\"T_f8008_level0_row0\" class=\"row_heading level0 row0\" >0</th>\n",
       "      <td id=\"T_f8008_row0_col0\" class=\"data row0 col0\" >nan</td>\n",
       "      <td id=\"T_f8008_row0_col1\" class=\"data row0 col1\" >nan</td>\n",
       "      <td id=\"T_f8008_row0_col2\" class=\"data row0 col2\" >nan</td>\n",
       "      <td id=\"T_f8008_row0_col3\" class=\"data row0 col3\" >2022-08-23</td>\n",
       "      <td id=\"T_f8008_row0_col4\" class=\"data row0 col4\" >nan</td>\n",
       "      <td id=\"T_f8008_row0_col5\" class=\"data row0 col5\" >nan%</td>\n",
       "      <td id=\"T_f8008_row0_col6\" class=\"data row0 col6\" >nan%</td>\n",
       "      <td id=\"T_f8008_row0_col7\" class=\"data row0 col7\" >nan</td>\n",
       "      <td id=\"T_f8008_row0_col8\" class=\"data row0 col8\" >0.99945344</td>\n",
       "    </tr>\n",
       "    <tr>\n",
       "      <th id=\"T_f8008_level0_row1\" class=\"row_heading level0 row1\" >1</th>\n",
       "      <td id=\"T_f8008_row1_col0\" class=\"data row1 col0\" >2022-08-29</td>\n",
       "      <td id=\"T_f8008_row1_col1\" class=\"data row1 col1\" >2022-08-23</td>\n",
       "      <td id=\"T_f8008_row1_col2\" class=\"data row1 col2\" >2022-08-30</td>\n",
       "      <td id=\"T_f8008_row1_col3\" class=\"data row1 col3\" >2022-09-01</td>\n",
       "      <td id=\"T_f8008_row1_col4\" class=\"data row1 col4\" >7</td>\n",
       "      <td id=\"T_f8008_row1_col5\" class=\"data row1 col5\" >4.984664%</td>\n",
       "      <td id=\"T_f8008_row1_col6\" class=\"data row1 col6\" >0.000%</td>\n",
       "      <td id=\"T_f8008_row1_col7\" class=\"data row1 col7\" >9,559.6298</td>\n",
       "      <td id=\"T_f8008_row1_col8\" class=\"data row1 col8\" >0.99822675</td>\n",
       "    </tr>\n",
       "  </tbody>\n",
       "</table>\n"
      ],
      "text/plain": [
       "<pandas.io.formats.style.Styler at 0x227c4cb6f50>"
      ]
     },
     "execution_count": 8,
     "metadata": {},
     "output_type": "execute_result"
    }
   ],
   "source": [
    "# 変動レグ:1\n",
    "dfFltCF = mu.swapCashFlow(swapOBJ, tnCrvOBJ, 1)\n",
    "dfFltCF.style.format(fmtSCF)"
   ]
  },
  {
   "cell_type": "code",
   "execution_count": 9,
   "metadata": {},
   "outputs": [
    {
     "name": "stdout",
     "output_type": "stream",
     "text": [
      "effDF:0.99945344  matDF:0.99849891  annuity:0.01914929  swapRT:4.984664%\n"
     ]
    }
   ],
   "source": [
    "# フェアレート\n",
    "effDF  = tnCrvOBJ.discount(effDT)\n",
    "matDF  = tnCrvOBJ.discount(matDT)\n",
    "annFCT = mu.calcAnnuity(fixSCD, tnCrvOBJ)\n",
    "swpRT  = (effDF - matDF) / annFCT\n",
    "print( f'effDF:{effDF:.8f}',   f' matDF:{matDF:.8f}',\n",
    "    f' annuity:{annFCT:.8f}', f' swapRT:{swpRT:.6%}')"
   ]
  },
  {
   "cell_type": "code",
   "execution_count": 10,
   "metadata": {},
   "outputs": [
    {
     "data": {
      "text/html": [
       "<style type=\"text/css\">\n",
       "</style>\n",
       "<table id=\"T_00470\">\n",
       "  <thead>\n",
       "    <tr>\n",
       "      <th class=\"blank level0\" >&nbsp;</th>\n",
       "      <th id=\"T_00470_level0_col0\" class=\"col_heading level0 col0\" >fixingDate</th>\n",
       "      <th id=\"T_00470_level0_col1\" class=\"col_heading level0 col1\" >accruStart</th>\n",
       "      <th id=\"T_00470_level0_col2\" class=\"col_heading level0 col2\" >accruEnd</th>\n",
       "      <th id=\"T_00470_level0_col3\" class=\"col_heading level0 col3\" >payDate</th>\n",
       "      <th id=\"T_00470_level0_col4\" class=\"col_heading level0 col4\" >days</th>\n",
       "      <th id=\"T_00470_level0_col5\" class=\"col_heading level0 col5\" >rate</th>\n",
       "      <th id=\"T_00470_level0_col6\" class=\"col_heading level0 col6\" >spread</th>\n",
       "      <th id=\"T_00470_level0_col7\" class=\"col_heading level0 col7\" >amount</th>\n",
       "      <th id=\"T_00470_level0_col8\" class=\"col_heading level0 col8\" >DF</th>\n",
       "    </tr>\n",
       "  </thead>\n",
       "  <tbody>\n",
       "    <tr>\n",
       "      <th id=\"T_00470_level0_row0\" class=\"row_heading level0 row0\" >0</th>\n",
       "      <td id=\"T_00470_row0_col0\" class=\"data row0 col0\" >nan</td>\n",
       "      <td id=\"T_00470_row0_col1\" class=\"data row0 col1\" >nan</td>\n",
       "      <td id=\"T_00470_row0_col2\" class=\"data row0 col2\" >nan</td>\n",
       "      <td id=\"T_00470_row0_col3\" class=\"data row0 col3\" >2022-08-23</td>\n",
       "      <td id=\"T_00470_row0_col4\" class=\"data row0 col4\" >nan</td>\n",
       "      <td id=\"T_00470_row0_col5\" class=\"data row0 col5\" >nan%</td>\n",
       "      <td id=\"T_00470_row0_col6\" class=\"data row0 col6\" >nan%</td>\n",
       "      <td id=\"T_00470_row0_col7\" class=\"data row0 col7\" >nan</td>\n",
       "      <td id=\"T_00470_row0_col8\" class=\"data row0 col8\" >0.99945344</td>\n",
       "    </tr>\n",
       "    <tr>\n",
       "      <th id=\"T_00470_level0_row1\" class=\"row_heading level0 row1\" >1</th>\n",
       "      <td id=\"T_00470_row1_col0\" class=\"data row1 col0\" >2022-08-23</td>\n",
       "      <td id=\"T_00470_row1_col1\" class=\"data row1 col1\" >2022-08-23</td>\n",
       "      <td id=\"T_00470_row1_col2\" class=\"data row1 col2\" >2022-08-24</td>\n",
       "      <td id=\"T_00470_row1_col3\" class=\"data row1 col3\" >2022-08-24</td>\n",
       "      <td id=\"T_00470_row1_col4\" class=\"data row1 col4\" >1</td>\n",
       "      <td id=\"T_00470_row1_col5\" class=\"data row1 col5\" >4.984664%</td>\n",
       "      <td id=\"T_00470_row1_col6\" class=\"data row1 col6\" >0.000%</td>\n",
       "      <td id=\"T_00470_row1_col7\" class=\"data row1 col7\" >1,365.6614</td>\n",
       "      <td id=\"T_00470_row1_col8\" class=\"data row1 col8\" >0.99931697</td>\n",
       "    </tr>\n",
       "    <tr>\n",
       "      <th id=\"T_00470_level0_row2\" class=\"row_heading level0 row2\" >2</th>\n",
       "      <td id=\"T_00470_row2_col0\" class=\"data row2 col0\" >2022-08-24</td>\n",
       "      <td id=\"T_00470_row2_col1\" class=\"data row2 col1\" >2022-08-24</td>\n",
       "      <td id=\"T_00470_row2_col2\" class=\"data row2 col2\" >2022-08-25</td>\n",
       "      <td id=\"T_00470_row2_col3\" class=\"data row2 col3\" >2022-08-25</td>\n",
       "      <td id=\"T_00470_row2_col4\" class=\"data row2 col4\" >1</td>\n",
       "      <td id=\"T_00470_row2_col5\" class=\"data row2 col5\" >4.983983%</td>\n",
       "      <td id=\"T_00470_row2_col6\" class=\"data row2 col6\" >0.000%</td>\n",
       "      <td id=\"T_00470_row2_col7\" class=\"data row2 col7\" >1,365.4749</td>\n",
       "      <td id=\"T_00470_row2_col8\" class=\"data row2 col8\" >0.99918053</td>\n",
       "    </tr>\n",
       "    <tr>\n",
       "      <th id=\"T_00470_level0_row3\" class=\"row_heading level0 row3\" >3</th>\n",
       "      <td id=\"T_00470_row3_col0\" class=\"data row3 col0\" >2022-08-25</td>\n",
       "      <td id=\"T_00470_row3_col1\" class=\"data row3 col1\" >2022-08-25</td>\n",
       "      <td id=\"T_00470_row3_col2\" class=\"data row3 col2\" >2022-08-26</td>\n",
       "      <td id=\"T_00470_row3_col3\" class=\"data row3 col3\" >2022-08-26</td>\n",
       "      <td id=\"T_00470_row3_col4\" class=\"data row3 col4\" >1</td>\n",
       "      <td id=\"T_00470_row3_col5\" class=\"data row3 col5\" >4.983303%</td>\n",
       "      <td id=\"T_00470_row3_col6\" class=\"data row3 col6\" >0.000%</td>\n",
       "      <td id=\"T_00470_row3_col7\" class=\"data row3 col7\" >1,365.2885</td>\n",
       "      <td id=\"T_00470_row3_col8\" class=\"data row3 col8\" >0.99904413</td>\n",
       "    </tr>\n",
       "    <tr>\n",
       "      <th id=\"T_00470_level0_row4\" class=\"row_heading level0 row4\" >4</th>\n",
       "      <td id=\"T_00470_row4_col0\" class=\"data row4 col0\" >2022-08-26</td>\n",
       "      <td id=\"T_00470_row4_col1\" class=\"data row4 col1\" >2022-08-26</td>\n",
       "      <td id=\"T_00470_row4_col2\" class=\"data row4 col2\" >2022-08-29</td>\n",
       "      <td id=\"T_00470_row4_col3\" class=\"data row4 col3\" >2022-08-29</td>\n",
       "      <td id=\"T_00470_row4_col4\" class=\"data row4 col4\" >3</td>\n",
       "      <td id=\"T_00470_row4_col5\" class=\"data row4 col5\" >4.982623%</td>\n",
       "      <td id=\"T_00470_row4_col6\" class=\"data row4 col6\" >0.000%</td>\n",
       "      <td id=\"T_00470_row4_col7\" class=\"data row4 col7\" >4,095.3064</td>\n",
       "      <td id=\"T_00470_row4_col8\" class=\"data row4 col8\" >0.99863516</td>\n",
       "    </tr>\n",
       "    <tr>\n",
       "      <th id=\"T_00470_level0_row5\" class=\"row_heading level0 row5\" >5</th>\n",
       "      <td id=\"T_00470_row5_col0\" class=\"data row5 col0\" >2022-08-29</td>\n",
       "      <td id=\"T_00470_row5_col1\" class=\"data row5 col1\" >2022-08-29</td>\n",
       "      <td id=\"T_00470_row5_col2\" class=\"data row5 col2\" >2022-08-30</td>\n",
       "      <td id=\"T_00470_row5_col3\" class=\"data row5 col3\" >2022-08-30</td>\n",
       "      <td id=\"T_00470_row5_col4\" class=\"data row5 col4\" >1</td>\n",
       "      <td id=\"T_00470_row5_col5\" class=\"data row5 col5\" >4.980583%</td>\n",
       "      <td id=\"T_00470_row5_col6\" class=\"data row5 col6\" >0.000%</td>\n",
       "      <td id=\"T_00470_row5_col7\" class=\"data row5 col7\" >1,364.5433</td>\n",
       "      <td id=\"T_00470_row5_col8\" class=\"data row5 col8\" >0.99849891</td>\n",
       "    </tr>\n",
       "  </tbody>\n",
       "</table>\n"
      ],
      "text/plain": [
       "<pandas.io.formats.style.Styler at 0x227c6acfd10>"
      ]
     },
     "execution_count": 10,
     "metadata": {},
     "output_type": "execute_result"
    }
   ],
   "source": [
    "# Schedule 3番目引数をpdFreqD, payLagは0へ\n",
    "fixSCDdy  = ql.Schedule(effDT, matDT, pdFreqD, calJP, mFLLW, mFLLW, dtGENb, EoMf )\n",
    "swapOBJdy = ql.OvernightIndexedSwap(payRcv, ntlAMT, fixSCDdy, cpnRT, dcA365, tonaIX)\n",
    "dfCFdy    = mu.swapCashFlow(swapOBJdy, tnCrvOBJ, 1)  # 変動レグ:1\n",
    "dfCFdy.style.format(fmtSCF)"
   ]
  },
  {
   "cell_type": "code",
   "execution_count": 11,
   "metadata": {},
   "outputs": [
    {
     "name": "stdout",
     "output_type": "stream",
     "text": [
      "TONAレート(Aug29): 4.980583%\n"
     ]
    }
   ],
   "source": [
    "# 8月29日のrate\n",
    "aug29Fwd = (dfCFdy.DF[4]/dfCFdy.DF[5] -1)*365\n",
    "print(f'TONAレート(Aug29): {aug29Fwd:.6%}')"
   ]
  },
  {
   "cell_type": "code",
   "execution_count": 12,
   "metadata": {},
   "outputs": [
    {
     "name": "stdout",
     "output_type": "stream",
     "text": [
      "将来価値: 9,559.6298 ﾌｪｱﾚｰﾄ: 4.984664%\n"
     ]
    }
   ],
   "source": [
    "# 変動レグの将来価値とrate\n",
    "dlyCmp = (1+ dfCFdy.days[1:]/365 * dfCFdy.rate[1:]).cumprod()-1\n",
    "print(f'将来価値: {dlyCmp.iloc[-1]*ntlAMT:,.4f}',\n",
    "        f'ﾌｪｱﾚｰﾄ: {dlyCmp.iloc[-1]*365/7 :.6%}' )"
   ]
  },
  {
   "cell_type": "code",
   "execution_count": 13,
   "metadata": {},
   "outputs": [
    {
     "name": "stdout",
     "output_type": "stream",
     "text": [
      "cumprod= \n",
      " 0     3\n",
      "1    12\n",
      "2    60\n",
      "dtype: int64\n",
      "iloc[-1]= 60\n"
     ]
    }
   ],
   "source": [
    "# cumprodとiloc[-1]\n",
    "srEX1 = pd.Series([3,4,5]).cumprod() ; print('cumprod= \\n',srEX1)\n",
    "print('iloc[-1]=',srEX1.iloc[-1]) "
   ]
  },
  {
   "cell_type": "code",
   "execution_count": 14,
   "metadata": {},
   "outputs": [
    {
     "name": "stdout",
     "output_type": "stream",
     "text": [
      "(8月25日評価)\n"
     ]
    },
    {
     "data": {
      "text/html": [
       "<style type=\"text/css\">\n",
       "</style>\n",
       "<table id=\"T_8825f\">\n",
       "  <thead>\n",
       "    <tr>\n",
       "      <th class=\"blank level0\" >&nbsp;</th>\n",
       "      <th id=\"T_8825f_level0_col0\" class=\"col_heading level0 col0\" >計算結果</th>\n",
       "      <th id=\"T_8825f_level0_col1\" class=\"col_heading level0 col1\" ></th>\n",
       "    </tr>\n",
       "  </thead>\n",
       "  <tbody>\n",
       "    <tr>\n",
       "      <th id=\"T_8825f_level0_row0\" class=\"row_heading level0 row0\" >0</th>\n",
       "      <td id=\"T_8825f_row0_col0\" class=\"data row0 col0\" >固定レグ時価</td>\n",
       "      <td id=\"T_8825f_row0_col1\" class=\"data row0 col1\" >-9579.8771324</td>\n",
       "    </tr>\n",
       "    <tr>\n",
       "      <th id=\"T_8825f_level0_row1\" class=\"row_heading level0 row1\" >1</th>\n",
       "      <td id=\"T_8825f_row1_col0\" class=\"data row1 col0\" >変動レグ時価</td>\n",
       "      <td id=\"T_8825f_row1_col1\" class=\"data row1 col1\" >9647.8463823</td>\n",
       "    </tr>\n",
       "    <tr>\n",
       "      <th id=\"T_8825f_level0_row2\" class=\"row_heading level0 row2\" >2</th>\n",
       "      <td id=\"T_8825f_row2_col0\" class=\"data row2 col0\" >スワップ時価 NPV</td>\n",
       "      <td id=\"T_8825f_row2_col1\" class=\"data row2 col1\" >67.9692499</td>\n",
       "    </tr>\n",
       "    <tr>\n",
       "      <th id=\"T_8825f_level0_row3\" class=\"row_heading level0 row3\" >3</th>\n",
       "      <td id=\"T_8825f_row3_col0\" class=\"data row3 col0\" >フェアレート</td>\n",
       "      <td id=\"T_8825f_row3_col1\" class=\"data row3 col1\" >0.0503548</td>\n",
       "    </tr>\n",
       "    <tr>\n",
       "      <th id=\"T_8825f_level0_row4\" class=\"row_heading level0 row4\" >4</th>\n",
       "      <td id=\"T_8825f_row4_col0\" class=\"data row4 col0\" >フェアスプレッド</td>\n",
       "      <td id=\"T_8825f_row4_col1\" class=\"data row4 col1\" >-0.0003548</td>\n",
       "    </tr>\n",
       "  </tbody>\n",
       "</table>\n"
      ],
      "text/plain": [
       "<pandas.io.formats.style.Styler at 0x227c6b14510>"
      ]
     },
     "metadata": {},
     "output_type": "display_data"
    },
    {
     "name": "stdout",
     "output_type": "stream",
     "text": [
      "(変動レグ明細)\n"
     ]
    },
    {
     "data": {
      "text/html": [
       "<style type=\"text/css\">\n",
       "</style>\n",
       "<table id=\"T_649f8\">\n",
       "  <thead>\n",
       "    <tr>\n",
       "      <th class=\"blank level0\" >&nbsp;</th>\n",
       "      <th id=\"T_649f8_level0_col0\" class=\"col_heading level0 col0\" >fixingDate</th>\n",
       "      <th id=\"T_649f8_level0_col1\" class=\"col_heading level0 col1\" >accruStart</th>\n",
       "      <th id=\"T_649f8_level0_col2\" class=\"col_heading level0 col2\" >accruEnd</th>\n",
       "      <th id=\"T_649f8_level0_col3\" class=\"col_heading level0 col3\" >payDate</th>\n",
       "      <th id=\"T_649f8_level0_col4\" class=\"col_heading level0 col4\" >days</th>\n",
       "      <th id=\"T_649f8_level0_col5\" class=\"col_heading level0 col5\" >rate</th>\n",
       "      <th id=\"T_649f8_level0_col6\" class=\"col_heading level0 col6\" >spread</th>\n",
       "      <th id=\"T_649f8_level0_col7\" class=\"col_heading level0 col7\" >amount</th>\n",
       "      <th id=\"T_649f8_level0_col8\" class=\"col_heading level0 col8\" >DF</th>\n",
       "    </tr>\n",
       "  </thead>\n",
       "  <tbody>\n",
       "    <tr>\n",
       "      <th id=\"T_649f8_level0_row0\" class=\"row_heading level0 row0\" >0</th>\n",
       "      <td id=\"T_649f8_row0_col0\" class=\"data row0 col0\" >nan</td>\n",
       "      <td id=\"T_649f8_row0_col1\" class=\"data row0 col1\" >nan</td>\n",
       "      <td id=\"T_649f8_row0_col2\" class=\"data row0 col2\" >nan</td>\n",
       "      <td id=\"T_649f8_row0_col3\" class=\"data row0 col3\" >2022-08-23</td>\n",
       "      <td id=\"T_649f8_row0_col4\" class=\"data row0 col4\" >nan</td>\n",
       "      <td id=\"T_649f8_row0_col5\" class=\"data row0 col5\" >nan%</td>\n",
       "      <td id=\"T_649f8_row0_col6\" class=\"data row0 col6\" >nan%</td>\n",
       "      <td id=\"T_649f8_row0_col7\" class=\"data row0 col7\" >nan</td>\n",
       "      <td id=\"T_649f8_row0_col8\" class=\"data row0 col8\" >1.00000000</td>\n",
       "    </tr>\n",
       "    <tr>\n",
       "      <th id=\"T_649f8_level0_row1\" class=\"row_heading level0 row1\" >1</th>\n",
       "      <td id=\"T_649f8_row1_col0\" class=\"data row1 col0\" >2022-08-29</td>\n",
       "      <td id=\"T_649f8_row1_col1\" class=\"data row1 col1\" >2022-08-23</td>\n",
       "      <td id=\"T_649f8_row1_col2\" class=\"data row1 col2\" >2022-08-30</td>\n",
       "      <td id=\"T_649f8_row1_col3\" class=\"data row1 col3\" >2022-09-01</td>\n",
       "      <td id=\"T_649f8_row1_col4\" class=\"data row1 col4\" >7</td>\n",
       "      <td id=\"T_649f8_row1_col5\" class=\"data row1 col5\" >5.035475%</td>\n",
       "      <td id=\"T_649f8_row1_col6\" class=\"data row1 col6\" >0.000%</td>\n",
       "      <td id=\"T_649f8_row1_col7\" class=\"data row1 col7\" >9,657.0754</td>\n",
       "      <td id=\"T_649f8_row1_col8\" class=\"data row1 col8\" >0.99904433</td>\n",
       "    </tr>\n",
       "  </tbody>\n",
       "</table>\n"
      ],
      "text/plain": [
       "<pandas.io.formats.style.Styler at 0x227c08b4fd0>"
      ]
     },
     "metadata": {},
     "output_type": "display_data"
    },
    {
     "name": "stdout",
     "output_type": "stream",
     "text": [
      "(TONAフォワードレート明細)\n"
     ]
    },
    {
     "data": {
      "text/html": [
       "<style type=\"text/css\">\n",
       "</style>\n",
       "<table id=\"T_0e924\">\n",
       "  <thead>\n",
       "    <tr>\n",
       "      <th class=\"blank level0\" >&nbsp;</th>\n",
       "      <th id=\"T_0e924_level0_col0\" class=\"col_heading level0 col0\" >fixingDate</th>\n",
       "      <th id=\"T_0e924_level0_col1\" class=\"col_heading level0 col1\" >accruStart</th>\n",
       "      <th id=\"T_0e924_level0_col2\" class=\"col_heading level0 col2\" >accruEnd</th>\n",
       "      <th id=\"T_0e924_level0_col3\" class=\"col_heading level0 col3\" >payDate</th>\n",
       "      <th id=\"T_0e924_level0_col4\" class=\"col_heading level0 col4\" >days</th>\n",
       "      <th id=\"T_0e924_level0_col5\" class=\"col_heading level0 col5\" >rate</th>\n",
       "      <th id=\"T_0e924_level0_col6\" class=\"col_heading level0 col6\" >spread</th>\n",
       "      <th id=\"T_0e924_level0_col7\" class=\"col_heading level0 col7\" >amount</th>\n",
       "      <th id=\"T_0e924_level0_col8\" class=\"col_heading level0 col8\" >DF</th>\n",
       "    </tr>\n",
       "  </thead>\n",
       "  <tbody>\n",
       "    <tr>\n",
       "      <th id=\"T_0e924_level0_row0\" class=\"row_heading level0 row0\" >0</th>\n",
       "      <td id=\"T_0e924_row0_col0\" class=\"data row0 col0\" >nan</td>\n",
       "      <td id=\"T_0e924_row0_col1\" class=\"data row0 col1\" >nan</td>\n",
       "      <td id=\"T_0e924_row0_col2\" class=\"data row0 col2\" >nan</td>\n",
       "      <td id=\"T_0e924_row0_col3\" class=\"data row0 col3\" >2022-08-23</td>\n",
       "      <td id=\"T_0e924_row0_col4\" class=\"data row0 col4\" >nan</td>\n",
       "      <td id=\"T_0e924_row0_col5\" class=\"data row0 col5\" >nan%</td>\n",
       "      <td id=\"T_0e924_row0_col6\" class=\"data row0 col6\" >nan%</td>\n",
       "      <td id=\"T_0e924_row0_col7\" class=\"data row0 col7\" >nan</td>\n",
       "      <td id=\"T_0e924_row0_col8\" class=\"data row0 col8\" >1.00000000</td>\n",
       "    </tr>\n",
       "    <tr>\n",
       "      <th id=\"T_0e924_level0_row1\" class=\"row_heading level0 row1\" >1</th>\n",
       "      <td id=\"T_0e924_row1_col0\" class=\"data row1 col0\" >2022-08-23</td>\n",
       "      <td id=\"T_0e924_row1_col1\" class=\"data row1 col1\" >2022-08-23</td>\n",
       "      <td id=\"T_0e924_row1_col2\" class=\"data row1 col2\" >2022-08-24</td>\n",
       "      <td id=\"T_0e924_row1_col3\" class=\"data row1 col3\" >2022-08-24</td>\n",
       "      <td id=\"T_0e924_row1_col4\" class=\"data row1 col4\" >1</td>\n",
       "      <td id=\"T_0e924_row1_col5\" class=\"data row1 col5\" >5.100000%</td>\n",
       "      <td id=\"T_0e924_row1_col6\" class=\"data row1 col6\" >0.000%</td>\n",
       "      <td id=\"T_0e924_row1_col7\" class=\"data row1 col7\" >1,397.2603</td>\n",
       "      <td id=\"T_0e924_row1_col8\" class=\"data row1 col8\" >1.00000000</td>\n",
       "    </tr>\n",
       "    <tr>\n",
       "      <th id=\"T_0e924_level0_row2\" class=\"row_heading level0 row2\" >2</th>\n",
       "      <td id=\"T_0e924_row2_col0\" class=\"data row2 col0\" >2022-08-24</td>\n",
       "      <td id=\"T_0e924_row2_col1\" class=\"data row2 col1\" >2022-08-24</td>\n",
       "      <td id=\"T_0e924_row2_col2\" class=\"data row2 col2\" >2022-08-25</td>\n",
       "      <td id=\"T_0e924_row2_col3\" class=\"data row2 col3\" >2022-08-25</td>\n",
       "      <td id=\"T_0e924_row2_col4\" class=\"data row2 col4\" >1</td>\n",
       "      <td id=\"T_0e924_row2_col5\" class=\"data row2 col5\" >5.200000%</td>\n",
       "      <td id=\"T_0e924_row2_col6\" class=\"data row2 col6\" >0.000%</td>\n",
       "      <td id=\"T_0e924_row2_col7\" class=\"data row2 col7\" >1,424.6575</td>\n",
       "      <td id=\"T_0e924_row2_col8\" class=\"data row2 col8\" >1.00000000</td>\n",
       "    </tr>\n",
       "    <tr>\n",
       "      <th id=\"T_0e924_level0_row3\" class=\"row_heading level0 row3\" >3</th>\n",
       "      <td id=\"T_0e924_row3_col0\" class=\"data row3 col0\" >2022-08-25</td>\n",
       "      <td id=\"T_0e924_row3_col1\" class=\"data row3 col1\" >2022-08-25</td>\n",
       "      <td id=\"T_0e924_row3_col2\" class=\"data row3 col2\" >2022-08-26</td>\n",
       "      <td id=\"T_0e924_row3_col3\" class=\"data row3 col3\" >2022-08-26</td>\n",
       "      <td id=\"T_0e924_row3_col4\" class=\"data row3 col4\" >1</td>\n",
       "      <td id=\"T_0e924_row3_col5\" class=\"data row3 col5\" >4.991000%</td>\n",
       "      <td id=\"T_0e924_row3_col6\" class=\"data row3 col6\" >0.000%</td>\n",
       "      <td id=\"T_0e924_row3_col7\" class=\"data row3 col7\" >1,367.3973</td>\n",
       "      <td id=\"T_0e924_row3_col8\" class=\"data row3 col8\" >0.99986328</td>\n",
       "    </tr>\n",
       "    <tr>\n",
       "      <th id=\"T_0e924_level0_row4\" class=\"row_heading level0 row4\" >4</th>\n",
       "      <td id=\"T_0e924_row4_col0\" class=\"data row4 col0\" >2022-08-26</td>\n",
       "      <td id=\"T_0e924_row4_col1\" class=\"data row4 col1\" >2022-08-26</td>\n",
       "      <td id=\"T_0e924_row4_col2\" class=\"data row4 col2\" >2022-08-29</td>\n",
       "      <td id=\"T_0e924_row4_col3\" class=\"data row4 col3\" >2022-08-29</td>\n",
       "      <td id=\"T_0e924_row4_col4\" class=\"data row4 col4\" >3</td>\n",
       "      <td id=\"T_0e924_row4_col5\" class=\"data row4 col5\" >4.986708%</td>\n",
       "      <td id=\"T_0e924_row4_col6\" class=\"data row4 col6\" >0.000%</td>\n",
       "      <td id=\"T_0e924_row4_col7\" class=\"data row4 col7\" >4,098.6642</td>\n",
       "      <td id=\"T_0e924_row4_col8\" class=\"data row4 col8\" >0.99945364</td>\n",
       "    </tr>\n",
       "    <tr>\n",
       "      <th id=\"T_0e924_level0_row5\" class=\"row_heading level0 row5\" >5</th>\n",
       "      <td id=\"T_0e924_row5_col0\" class=\"data row5 col0\" >2022-08-29</td>\n",
       "      <td id=\"T_0e924_row5_col1\" class=\"data row5 col1\" >2022-08-29</td>\n",
       "      <td id=\"T_0e924_row5_col2\" class=\"data row5 col2\" >2022-08-30</td>\n",
       "      <td id=\"T_0e924_row5_col3\" class=\"data row5 col3\" >2022-08-30</td>\n",
       "      <td id=\"T_0e924_row5_col4\" class=\"data row5 col4\" >1</td>\n",
       "      <td id=\"T_0e924_row5_col5\" class=\"data row5 col5\" >4.984665%</td>\n",
       "      <td id=\"T_0e924_row5_col6\" class=\"data row5 col6\" >0.000%</td>\n",
       "      <td id=\"T_0e924_row5_col7\" class=\"data row5 col7\" >1,365.6617</td>\n",
       "      <td id=\"T_0e924_row5_col8\" class=\"data row5 col8\" >0.99931716</td>\n",
       "    </tr>\n",
       "  </tbody>\n",
       "</table>\n"
      ],
      "text/plain": [
       "<pandas.io.formats.style.Styler at 0x227c6915550>"
      ]
     },
     "metadata": {},
     "output_type": "display_data"
    },
    {
     "name": "stdout",
     "output_type": "stream",
     "text": [
      "(hc)将来価値: 9,657.0754 (hc)ﾌｪｱﾚｰﾄ: 5.035475% \n"
     ]
    }
   ],
   "source": [
    "# 8月25日評価\n",
    "tnFixDT = [jDT(2022,8,23), jDT(2022,8,24)]              # Tona fixing\n",
    "tnFixRT = [     5.1/100,     5.2/100     ]\n",
    "tonaIX.addFixings(tnFixDT, tnFixRT, True)\n",
    "tradeDT = jDT(2022,8,25)  ; setEvDT(tradeDT)            # 日付修正\n",
    "\n",
    "print('(8月25日評価)')                                  # スワップ評価\n",
    "display( pd.DataFrame([  \n",
    "    ['固定レグ時価'    ,swapOBJ.legNPV(0)],   ['変動レグ時価',swapOBJ.legNPV(1)],\n",
    "    ['スワップ時価 NPV',swapOBJ.NPV()],       ['フェアレート',swapOBJ.fairRate()],\n",
    "    ['フェアスプレッド',swapOBJ.fairSpread()] ], columns=['計算結果', ''])\\\n",
    "                                                 .style.format({'':'{:.7f}'}) )\n",
    "print('(変動レグ明細)')                                 # 変動レグ\n",
    "display( mu.swapCashFlow(swapOBJ, tnCrvOBJ, 1).style.format(fmtSCF) )\n",
    "\n",
    "print('(TONAフォワードレート明細)')                     # TONAフォワードレート\n",
    "dfAug25 = mu.swapCashFlow(swapOBJdy, tnCrvOBJ, 1)\n",
    "display( dfAug25.style.format(fmtSCF))\n",
    "                                                        # 変動レグの将来価値とrate\n",
    "dlyCmp = (1+ dfAug25.days[1:]/365 * dfAug25.rate[1:]).cumprod()-1\n",
    "print(f'(hc)将来価値: {dlyCmp.iloc[-1]*ntlAMT:,.4f}',\n",
    "        f'(hc)ﾌｪｱﾚｰﾄ: {dlyCmp.iloc[-1]*365/7 :.6%} ')"
   ]
  },
  {
   "cell_type": "markdown",
   "metadata": {},
   "source": [
    "**Sofr**"
   ]
  },
  {
   "cell_type": "code",
   "execution_count": 15,
   "metadata": {},
   "outputs": [],
   "source": [
    "from myABBR import * ; import myUtil as mu\n",
    "crvDATA = [('depo','1d',5.31), ('swap','1m',5.32), ('swap','3m',5.38),\n",
    "           ('swap','6m',5.46), ('swap','1y',5.45), ('swap','2y',5.01),\n",
    "           ('swap','3y',4.67)]"
   ]
  },
  {
   "cell_type": "code",
   "execution_count": 16,
   "metadata": {},
   "outputs": [],
   "source": [
    "def makeSofrCurve(crvDATA):\n",
    "  \n",
    "  # 1.指標金利オブジェクトと初期値設定\n",
    "  sfCrvHDL = ql.RelinkableYieldTermStructureHandle()  \n",
    "  sofrIX = ql.Sofr(sfCrvHDL)\n",
    "  # 2. HelperとSOFRカーブオブジェクト\n",
    "  cHelper, sfParRATE = [], []\n",
    "  for knd, tnr, rt in crvDATA:\n",
    "      if knd == 'depo':\n",
    "          cHelper.append(ql.DepositRateHelper(mu.sqHDL(rt/100),sofrIX)) \n",
    "      if knd == 'swap':\n",
    "          cHelper.append(ql.OISRateHelper(Tp2,pD(tnr),mu.sqHDL(rt/100),sofrIX))\n",
    "      sfParRATE.append(rt/100)                             # パーレート用リスト\n",
    "  # カーブオブジェクト      \n",
    "  sfCrvOBJ = ql.PiecewiseLogLinearDiscount(Tp0, calUSs, cHelper, dcA360)\n",
    "  sfCrvHDL.linkTo(sfCrvOBJ) ; sfCrvOBJ.enableExtrapolation()\n",
    "  return [sofrIX, sfCrvOBJ, sfCrvHDL, sfParRATE]      # 4つのオブジェクトを戻す"
   ]
  },
  {
   "cell_type": "code",
   "execution_count": 17,
   "metadata": {},
   "outputs": [
    {
     "name": "stdout",
     "output_type": "stream",
     "text": [
      "決済日(reference):  2023-09-26\n"
     ]
    },
    {
     "data": {
      "text/html": [
       "<style type=\"text/css\">\n",
       "</style>\n",
       "<table id=\"T_2e0c1\">\n",
       "  <thead>\n",
       "    <tr>\n",
       "      <th class=\"blank level0\" >&nbsp;</th>\n",
       "      <th id=\"T_2e0c1_level0_col0\" class=\"col_heading level0 col0\" >date</th>\n",
       "      <th id=\"T_2e0c1_level0_col1\" class=\"col_heading level0 col1\" >DF</th>\n",
       "    </tr>\n",
       "  </thead>\n",
       "  <tbody>\n",
       "    <tr>\n",
       "      <th id=\"T_2e0c1_level0_row0\" class=\"row_heading level0 row0\" >0</th>\n",
       "      <td id=\"T_2e0c1_row0_col0\" class=\"data row0 col0\" >2023-09-26</td>\n",
       "      <td id=\"T_2e0c1_row0_col1\" class=\"data row0 col1\" >1.000000000</td>\n",
       "    </tr>\n",
       "    <tr>\n",
       "      <th id=\"T_2e0c1_level0_row1\" class=\"row_heading level0 row1\" >1</th>\n",
       "      <td id=\"T_2e0c1_row1_col0\" class=\"data row1 col0\" >2023-09-27</td>\n",
       "      <td id=\"T_2e0c1_row1_col1\" class=\"data row1 col1\" >0.999852522</td>\n",
       "    </tr>\n",
       "    <tr>\n",
       "      <th id=\"T_2e0c1_level0_row2\" class=\"row_heading level0 row2\" >2</th>\n",
       "      <td id=\"T_2e0c1_row2_col0\" class=\"data row2 col0\" >2023-10-30</td>\n",
       "      <td id=\"T_2e0c1_row2_col1\" class=\"data row2 col1\" >0.994999881</td>\n",
       "    </tr>\n",
       "    <tr>\n",
       "      <th id=\"T_2e0c1_level0_row3\" class=\"row_heading level0 row3\" >3</th>\n",
       "      <td id=\"T_2e0c1_row3_col0\" class=\"data row3 col0\" >2023-12-28</td>\n",
       "      <td id=\"T_2e0c1_row3_col1\" class=\"data row3 col1\" >0.986292100</td>\n",
       "    </tr>\n",
       "    <tr>\n",
       "      <th id=\"T_2e0c1_level0_row4\" class=\"row_heading level0 row4\" >4</th>\n",
       "      <td id=\"T_2e0c1_row4_col0\" class=\"data row4 col0\" >2024-03-28</td>\n",
       "      <td id=\"T_2e0c1_row4_col1\" class=\"data row4 col1\" >0.972851189</td>\n",
       "    </tr>\n",
       "    <tr>\n",
       "      <th id=\"T_2e0c1_level0_row5\" class=\"row_heading level0 row5\" >5</th>\n",
       "      <td id=\"T_2e0c1_row5_col0\" class=\"data row5 col0\" >2024-09-30</td>\n",
       "      <td id=\"T_2e0c1_row5_col1\" class=\"data row5 col1\" >0.946949515</td>\n",
       "    </tr>\n",
       "    <tr>\n",
       "      <th id=\"T_2e0c1_level0_row6\" class=\"row_heading level0 row6\" >6</th>\n",
       "      <td id=\"T_2e0c1_row6_col0\" class=\"data row6 col0\" >2025-09-29</td>\n",
       "      <td id=\"T_2e0c1_row6_col1\" class=\"data row6 col1\" >0.905346831</td>\n",
       "    </tr>\n",
       "    <tr>\n",
       "      <th id=\"T_2e0c1_level0_row7\" class=\"row_heading level0 row7\" >7</th>\n",
       "      <td id=\"T_2e0c1_row7_col0\" class=\"data row7 col0\" >2026-09-28</td>\n",
       "      <td id=\"T_2e0c1_row7_col1\" class=\"data row7 col1\" >0.870639746</td>\n",
       "    </tr>\n",
       "  </tbody>\n",
       "</table>\n"
      ],
      "text/plain": [
       "<pandas.io.formats.style.Styler at 0x227c6ae7e10>"
      ]
     },
     "execution_count": 17,
     "metadata": {},
     "output_type": "execute_result"
    }
   ],
   "source": [
    "tradeDT = jDT(2023,9,26) ; setEvDT(tradeDT)\n",
    "# SOFRカーブ作成\n",
    "sofrIX, sfCrvOBJ, sfCrvHDL, sfParRATE = makeSofrCurve(crvDATA)\n",
    "dfSOFR  = pd.DataFrame([(dt.ISO(),df) for dt,df in sfCrvOBJ.nodes()],\n",
    "                                                columns=['date','DF'])\n",
    "print(\"決済日(reference): \", sfCrvOBJ.referenceDate().ISO())\n",
    "dfSOFR.style.format({'DF':'{:.9f}' })"
   ]
  },
  {
   "cell_type": "code",
   "execution_count": 18,
   "metadata": {},
   "outputs": [
    {
     "name": "stdout",
     "output_type": "stream",
     "text": [
      "trade          :  2023-09-26\n",
      "settle         :  2023-09-26\n",
      "--------------- ------------\n",
      "fixingDays     :  0\n",
      "fixingDate     :  2023-09-26 \n",
      "\n",
      "tenor          :  1D\n",
      "dayCounter     :  Actual/360 day counter\n",
      "fixingCalendar :  SOFR fixing calendar calendar\n",
      "maturityDate   :  2023-09-27\n"
     ]
    }
   ],
   "source": [
    "settleDT = sofrIX.valueDate(tradeDT)\n",
    "print('trade          : ', tradeDT.ISO())\n",
    "print('settle         : ', settleDT.ISO())\n",
    "print('--------------- ------------')\n",
    "print('fixingDays     : ', sofrIX.fixingDays())\n",
    "print('fixingDate     : ', sofrIX.fixingDate(settleDT).ISO(), '\\n')\n",
    "print('tenor          : ', sofrIX.tenor()) \n",
    "print('dayCounter     : ', sofrIX.dayCounter())\n",
    "print('fixingCalendar : ', sofrIX.fixingCalendar())\n",
    "print('maturityDate   : ', sofrIX.maturityDate(settleDT).ISO())"
   ]
  },
  {
   "cell_type": "code",
   "execution_count": 19,
   "metadata": {},
   "outputs": [
    {
     "data": {
      "text/html": [
       "<style type=\"text/css\">\n",
       "</style>\n",
       "<table id=\"T_a0636\">\n",
       "  <thead>\n",
       "    <tr>\n",
       "      <th class=\"blank level0\" >&nbsp;</th>\n",
       "      <th id=\"T_a0636_level0_col0\" class=\"col_heading level0 col0\" >計算結果</th>\n",
       "      <th id=\"T_a0636_level0_col1\" class=\"col_heading level0 col1\" ></th>\n",
       "    </tr>\n",
       "  </thead>\n",
       "  <tbody>\n",
       "    <tr>\n",
       "      <th id=\"T_a0636_level0_row0\" class=\"row_heading level0 row0\" >0</th>\n",
       "      <td id=\"T_a0636_row0_col0\" class=\"data row0 col0\" >固定レグ時価</td>\n",
       "      <td id=\"T_a0636_row0_col1\" class=\"data row0 col1\" >-941481.78212</td>\n",
       "    </tr>\n",
       "    <tr>\n",
       "      <th id=\"T_a0636_level0_row1\" class=\"row_heading level0 row1\" >1</th>\n",
       "      <td id=\"T_a0636_row1_col0\" class=\"data row1 col0\" >変動レグ時価</td>\n",
       "      <td id=\"T_a0636_row1_col1\" class=\"data row1 col1\" >943363.37982</td>\n",
       "    </tr>\n",
       "    <tr>\n",
       "      <th id=\"T_a0636_level0_row2\" class=\"row_heading level0 row2\" >2</th>\n",
       "      <td id=\"T_a0636_row2_col0\" class=\"data row2 col0\" >スワップ時価 NPV</td>\n",
       "      <td id=\"T_a0636_row2_col1\" class=\"data row2 col1\" >1881.59771</td>\n",
       "    </tr>\n",
       "    <tr>\n",
       "      <th id=\"T_a0636_level0_row3\" class=\"row_heading level0 row3\" >3</th>\n",
       "      <td id=\"T_a0636_row3_col0\" class=\"data row3 col0\" >フェアレート</td>\n",
       "      <td id=\"T_a0636_row3_col1\" class=\"data row3 col1\" >0.05010</td>\n",
       "    </tr>\n",
       "    <tr>\n",
       "      <th id=\"T_a0636_level0_row4\" class=\"row_heading level0 row4\" >4</th>\n",
       "      <td id=\"T_a0636_row4_col0\" class=\"data row4 col0\" >フェアスプレッド</td>\n",
       "      <td id=\"T_a0636_row4_col1\" class=\"data row4 col1\" >-0.00010</td>\n",
       "    </tr>\n",
       "  </tbody>\n",
       "</table>\n"
      ],
      "text/plain": [
       "<pandas.io.formats.style.Styler at 0x227c6ada5d0>"
      ]
     },
     "execution_count": 19,
     "metadata": {},
     "output_type": "execute_result"
    }
   ],
   "source": [
    "# スワップ条件  payRcv:ql.OvernightIndexedSwap.Payer = 1\n",
    "effDT,               matDT,    payRcv, payLag, ntlAMT,     cpnRT,    sprdRT  =\\\n",
    "jDT(2023,9,28), jDT(2025,9,28),  1,      2,   10_000_000,  5.0/100,   0.0\n",
    "\n",
    "# スケジュール及びスワップオブジェクトの作成、エンジン設定\n",
    "fixSCD  = ql.Schedule(effDT, matDT, pdFreqA, calUSf, mFLLW, mFLLW, dtGENb, EoMf)\n",
    "swapOBJ = ql.OvernightIndexedSwap(\n",
    "                      payRcv, ntlAMT, fixSCD, cpnRT, dcA360, sofrIX, sprdRT, payLag)\n",
    "swapOBJ.setPricingEngine(ql.DiscountingSwapEngine(sfCrvHDL))\n",
    "# 計算結果\n",
    "pd.DataFrame([  \n",
    "    ['固定レグ時価'    ,swapOBJ.legNPV(0)],   ['変動レグ時価',swapOBJ.legNPV(1)],\n",
    "    ['スワップ時価 NPV',swapOBJ.NPV()],       ['フェアレート',swapOBJ.fairRate()],\n",
    "    ['フェアスプレッド',swapOBJ.fairSpread()] ], columns=['計算結果', ''])\\\n",
    "                                                 .style.format({'':'{:.5f}'})    "
   ]
  },
  {
   "cell_type": "code",
   "execution_count": 20,
   "metadata": {},
   "outputs": [
    {
     "name": "stdout",
     "output_type": "stream",
     "text": [
      "(Date(2,1,2023), Date(16,1,2023), Date(20,2,2023), Date(7,4,2023), Date(29,5,2023), Date(19,6,2023))\n",
      "(Date(2,1,2023), Date(16,1,2023), Date(20,2,2023), Date(29,5,2023), Date(19,6,2023), Date(4,7,2023))\n"
     ]
    }
   ],
   "source": [
    "# 休日リスト\n",
    "print( calUSs.holidayList(jDT(2023,1,1), jDT(2023,12,31))[:6] )\n",
    "print( calUSf.holidayList(jDT(2023,1,1), jDT(2023,12,31))[:6] )"
   ]
  },
  {
   "cell_type": "code",
   "execution_count": 21,
   "metadata": {},
   "outputs": [
    {
     "data": {
      "text/html": [
       "<style type=\"text/css\">\n",
       "</style>\n",
       "<table id=\"T_e51e5\">\n",
       "  <thead>\n",
       "    <tr>\n",
       "      <th class=\"blank level0\" >&nbsp;</th>\n",
       "      <th id=\"T_e51e5_level0_col0\" class=\"col_heading level0 col0\" >fixingDate</th>\n",
       "      <th id=\"T_e51e5_level0_col1\" class=\"col_heading level0 col1\" >accruStart</th>\n",
       "      <th id=\"T_e51e5_level0_col2\" class=\"col_heading level0 col2\" >accruEnd</th>\n",
       "      <th id=\"T_e51e5_level0_col3\" class=\"col_heading level0 col3\" >payDate</th>\n",
       "      <th id=\"T_e51e5_level0_col4\" class=\"col_heading level0 col4\" >days</th>\n",
       "      <th id=\"T_e51e5_level0_col5\" class=\"col_heading level0 col5\" >rate</th>\n",
       "      <th id=\"T_e51e5_level0_col6\" class=\"col_heading level0 col6\" >spread</th>\n",
       "      <th id=\"T_e51e5_level0_col7\" class=\"col_heading level0 col7\" >amount</th>\n",
       "      <th id=\"T_e51e5_level0_col8\" class=\"col_heading level0 col8\" >DF</th>\n",
       "    </tr>\n",
       "  </thead>\n",
       "  <tbody>\n",
       "    <tr>\n",
       "      <th id=\"T_e51e5_level0_row0\" class=\"row_heading level0 row0\" >0</th>\n",
       "      <td id=\"T_e51e5_row0_col0\" class=\"data row0 col0\" >nan</td>\n",
       "      <td id=\"T_e51e5_row0_col1\" class=\"data row0 col1\" >nan</td>\n",
       "      <td id=\"T_e51e5_row0_col2\" class=\"data row0 col2\" >nan</td>\n",
       "      <td id=\"T_e51e5_row0_col3\" class=\"data row0 col3\" >2023-09-28</td>\n",
       "      <td id=\"T_e51e5_row0_col4\" class=\"data row0 col4\" >nan</td>\n",
       "      <td id=\"T_e51e5_row0_col5\" class=\"data row0 col5\" >nan%</td>\n",
       "      <td id=\"T_e51e5_row0_col6\" class=\"data row0 col6\" >nan%</td>\n",
       "      <td id=\"T_e51e5_row0_col7\" class=\"data row0 col7\" >nan</td>\n",
       "      <td id=\"T_e51e5_row0_col8\" class=\"data row0 col8\" >0.99970512</td>\n",
       "    </tr>\n",
       "    <tr>\n",
       "      <th id=\"T_e51e5_level0_row1\" class=\"row_heading level0 row1\" >1</th>\n",
       "      <td id=\"T_e51e5_row1_col0\" class=\"data row1 col0\" >2024-09-27</td>\n",
       "      <td id=\"T_e51e5_row1_col1\" class=\"data row1 col1\" >2023-09-28</td>\n",
       "      <td id=\"T_e51e5_row1_col2\" class=\"data row1 col2\" >2024-09-30</td>\n",
       "      <td id=\"T_e51e5_row1_col3\" class=\"data row1 col3\" >2024-10-02</td>\n",
       "      <td id=\"T_e51e5_row1_col4\" class=\"data row1 col4\" >368</td>\n",
       "      <td id=\"T_e51e5_row1_col5\" class=\"data row1 col5\" >5.525694%</td>\n",
       "      <td id=\"T_e51e5_row1_col6\" class=\"data row1 col6\" >0.000%</td>\n",
       "      <td id=\"T_e51e5_row1_col7\" class=\"data row1 col7\" >557,111.1111</td>\n",
       "      <td id=\"T_e51e5_row1_col8\" class=\"data row1 col8\" >0.94671578</td>\n",
       "    </tr>\n",
       "    <tr>\n",
       "      <th id=\"T_e51e5_level0_row2\" class=\"row_heading level0 row2\" >2</th>\n",
       "      <td id=\"T_e51e5_row2_col0\" class=\"data row2 col0\" >2025-09-26</td>\n",
       "      <td id=\"T_e51e5_row2_col1\" class=\"data row2 col1\" >2024-09-30</td>\n",
       "      <td id=\"T_e51e5_row2_col2\" class=\"data row2 col2\" >2025-09-29</td>\n",
       "      <td id=\"T_e51e5_row2_col3\" class=\"data row2 col3\" >2025-10-01</td>\n",
       "      <td id=\"T_e51e5_row2_col4\" class=\"data row2 col4\" >364</td>\n",
       "      <td id=\"T_e51e5_row2_col5\" class=\"data row2 col5\" >4.607845%</td>\n",
       "      <td id=\"T_e51e5_row2_col6\" class=\"data row2 col6\" >0.000%</td>\n",
       "      <td id=\"T_e51e5_row2_col7\" class=\"data row2 col7\" >459,522.0608</td>\n",
       "      <td id=\"T_e51e5_row2_col8\" class=\"data row2 col8\" >0.90515240</td>\n",
       "    </tr>\n",
       "  </tbody>\n",
       "</table>\n"
      ],
      "text/plain": [
       "<pandas.io.formats.style.Styler at 0x227c0a5b490>"
      ]
     },
     "execution_count": 21,
     "metadata": {},
     "output_type": "execute_result"
    }
   ],
   "source": [
    "# 変動レグ:1\n",
    "dfFltCF = mu.swapCashFlow(swapOBJ, sfCrvOBJ, 1, dcA360)\n",
    "dfFltCF.style.format(fmtSCF)"
   ]
  },
  {
   "cell_type": "code",
   "execution_count": 22,
   "metadata": {},
   "outputs": [
    {
     "name": "stdout",
     "output_type": "stream",
     "text": [
      "forward swap rate: 4.544724%\n"
     ]
    }
   ],
   "source": [
    "# forward swap rate\n",
    "effDF  = sfCrvOBJ.discount(iDT(dfFltCF.accruEnd[1]))\n",
    "matDF  = sfCrvOBJ.discount(iDT(dfFltCF.accruEnd[2]))\n",
    "annFCT = 364/360*matDF\n",
    "print(f'forward swap rate: {(effDF-matDF)/annFCT:.6%}')"
   ]
  },
  {
   "cell_type": "code",
   "execution_count": 23,
   "metadata": {},
   "outputs": [
    {
     "name": "stdout",
     "output_type": "stream",
     "text": [
      "決済日(reference): 2023-09-28\n"
     ]
    },
    {
     "data": {
      "text/plain": [
       "[('2023-09-28', 1.0),\n",
       " ('2023-12-28', 0.9865692901876598),\n",
       " ('2024-03-28', 0.9731383278012513),\n",
       " ('2024-09-30', 0.947229008881084),\n",
       " ('2025-09-29', 0.9056140456298556),\n",
       " ('2026-09-28', 0.8708967171925004)]"
      ]
     },
     "execution_count": 23,
     "metadata": {},
     "output_type": "execute_result"
    }
   ],
   "source": [
    "from myABBR import *     ; import myUtil as mu\n",
    "tradeDT = jDT(2023,9,26) ; setEvDT(tradeDT)\n",
    "# 0.SOFRカーブ\n",
    "crvDATA = [('depo','1d',5.31), ('swap','1m',5.32), ('swap','3m',5.38),\n",
    "           ('swap','6m',5.46), ('swap','1y',5.45), ('swap','2y',5.01),\n",
    "           ('swap','3y',4.67)]\n",
    "sofrIX, sfCrvOBJ, sfCrvHDL, sfParRATE = mu.makeSofrCurve(crvDATA)\n",
    "\n",
    "# 1.CME Term SOFR rate and Basis curve ( = all zero)\n",
    "TsfRT3m  = 5.38558\n",
    "TsfCrvBS = [('6m',0.0), ('1y',0.0), ('2y',0.0), ('3y',0.0) ]\n",
    "\n",
    "# 2.TermSOFR指標金利オブジェクト\n",
    "TsfCrvHDL= ql.RelinkableYieldTermStructureHandle()  \n",
    "TsfIX    = ql.IborIndex('TermSofr', pdFreqQ, Tp2, usdFX, calUSs, mFLLW,\n",
    "                                                          EoMt, dcA360, TsfCrvHDL)\n",
    "# 3. Basis helperでのTermSOFRカーブオブジェクト\n",
    "cHelper  = [ql.DepositRateHelper(mu.sqHDL(TsfRT3m/100),TsfIX)]\n",
    "for tnr, bs in TsfCrvBS:\n",
    "    cHelper.append(ql.OvernightIborBasisSwapRateHelper(mu.sqHDL(bs/100), \n",
    "                      pD(tnr), Tp2, calUSs, mFLLW, EoMf, sofrIX, TsfIX, sfCrvHDL))\n",
    "TsfCrvOBJ = ql.PiecewiseLogLinearDiscount(Tp2, calUSs, cHelper, dcA360)\n",
    "TsfCrvHDL.linkTo(TsfCrvOBJ) ; TsfCrvOBJ.enableExtrapolation()\n",
    "# checking\n",
    "print('決済日(reference):', TsfCrvOBJ.referenceDate().ISO())\n",
    "[(dt.ISO(),df) for dt,df in TsfCrvOBJ.nodes()]"
   ]
  },
  {
   "cell_type": "markdown",
   "metadata": {},
   "source": [
    "**Two curve**"
   ]
  },
  {
   "cell_type": "code",
   "execution_count": 25,
   "metadata": {},
   "outputs": [
    {
     "data": {
      "text/html": [
       "<style type=\"text/css\">\n",
       "</style>\n",
       "<table id=\"T_a4ac5\">\n",
       "  <thead>\n",
       "    <tr>\n",
       "      <th class=\"blank level0\" >&nbsp;</th>\n",
       "      <th id=\"T_a4ac5_level0_col0\" class=\"col_heading level0 col0\" >date</th>\n",
       "      <th id=\"T_a4ac5_level0_col1\" class=\"col_heading level0 col1\" >DF</th>\n",
       "      <th id=\"T_a4ac5_level0_col2\" class=\"col_heading level0 col2\" >zeroRT</th>\n",
       "    </tr>\n",
       "  </thead>\n",
       "  <tbody>\n",
       "    <tr>\n",
       "      <th id=\"T_a4ac5_level0_row0\" class=\"row_heading level0 row0\" >0</th>\n",
       "      <td id=\"T_a4ac5_row0_col0\" class=\"data row0 col0\" >2021-08-04</td>\n",
       "      <td id=\"T_a4ac5_row0_col1\" class=\"data row0 col1\" >1.00000000</td>\n",
       "      <td id=\"T_a4ac5_row0_col2\" class=\"data row0 col2\" >6.765888%</td>\n",
       "    </tr>\n",
       "    <tr>\n",
       "      <th id=\"T_a4ac5_level0_row1\" class=\"row_heading level0 row1\" >1</th>\n",
       "      <td id=\"T_a4ac5_row1_col0\" class=\"data row1 col0\" >2022-08-04</td>\n",
       "      <td id=\"T_a4ac5_row1_col1\" class=\"data row1 col1\" >0.93457944</td>\n",
       "      <td id=\"T_a4ac5_row1_col2\" class=\"data row1 col2\" >7.000000%</td>\n",
       "    </tr>\n",
       "    <tr>\n",
       "      <th id=\"T_a4ac5_level0_row2\" class=\"row_heading level0 row2\" >2</th>\n",
       "      <td id=\"T_a4ac5_row2_col0\" class=\"data row2 col0\" >2023-08-04</td>\n",
       "      <td id=\"T_a4ac5_row2_col1\" class=\"data row2 col1\" >0.77743776</td>\n",
       "      <td id=\"T_a4ac5_row2_col2\" class=\"data row2 col2\" >14.313830%</td>\n",
       "    </tr>\n",
       "  </tbody>\n",
       "</table>\n"
      ],
      "text/plain": [
       "<pandas.io.formats.style.Styler at 0x227c6b2c610>"
      ]
     },
     "metadata": {},
     "output_type": "display_data"
    },
    {
     "name": "stdout",
     "output_type": "stream",
     "text": [
      "1yr DF(hc): 0.93457944,  2yr DF(hc): 0.77743776\n",
      "1x2 fwdIX:20.21277%,  (hc):20.21277%\n"
     ]
    }
   ],
   "source": [
    "from myABBR import * ; import myUtil as mu ; setEvDT(jDT(2021,8,2))\n",
    "\n",
    "# Forward curve 金利\n",
    "sCrvHDL = ql.RelinkableYieldTermStructureHandle()  \n",
    "Rt1y,    Rt2y,       IX1y                                         =\\\n",
    "0.07,    0.13,   ql.Tibor(pdFreqA, sCrvHDL)\n",
    "# カーブ構築\n",
    "sHelper = [ql.DepositRateHelper(Rt1y, IX1y), \n",
    "           ql.SwapRateHelper(Rt2y,pD('2y'),calJP,freqA,mFLLW,dcA365,IX1y)]\n",
    "sCrvOBJ = ql.PiecewiseLogLinearDiscount(Tp2, calJP, sHelper, dcA365)\n",
    "sCrvHDL.linkTo(sCrvOBJ)\n",
    "# DF表示\n",
    "dfSG = pd.DataFrame([(dt.ISO(),df,sCrvOBJ.zeroRate(dt,dcA365,cmpdSPL,freqA).rate())\n",
    "                      for dt,df in sCrvOBJ.nodes()],columns=['date','DF','zeroRT']) \n",
    "display(dfSG.style.format(fmtSCF))\n",
    "# DF手計算\n",
    "print(f'1yr DF(hc): {1/(1+Rt1y)                   :.8f}, ',     # 1yr DF\n",
    "      f'2yr DF(hc): {(1-Rt2y*dfSG.DF[1])/(1+Rt2y) :.8f}' )      # 2yr DF\n",
    "# 1x2 fwd IX計算\n",
    "fwdIX_1x2 = sCrvOBJ.forwardRate(iDT(dfSG.date[1]),iDT(dfSG.date[2]),dcA365,cmpdSPL)\n",
    "print(f'1x2 fwdIX:{fwdIX_1x2.rate()        :.5%}, ', \n",
    "           f'(hc):{dfSG.DF[1]/dfSG.DF[2]-1 :.5%}'   )"
   ]
  },
  {
   "cell_type": "code",
   "execution_count": 26,
   "metadata": {},
   "outputs": [
    {
     "name": "stdout",
     "output_type": "stream",
     "text": [
      "NPV(single curve):0.000000\n"
     ]
    },
    {
     "data": {
      "text/html": [
       "<style type=\"text/css\">\n",
       "</style>\n",
       "<table id=\"T_b84d5\">\n",
       "  <thead>\n",
       "    <tr>\n",
       "      <th class=\"blank level0\" >&nbsp;</th>\n",
       "      <th id=\"T_b84d5_level0_col0\" class=\"col_heading level0 col0\" >fixingDate</th>\n",
       "      <th id=\"T_b84d5_level0_col1\" class=\"col_heading level0 col1\" >accruStart</th>\n",
       "      <th id=\"T_b84d5_level0_col2\" class=\"col_heading level0 col2\" >accruEnd</th>\n",
       "      <th id=\"T_b84d5_level0_col3\" class=\"col_heading level0 col3\" >payDate</th>\n",
       "      <th id=\"T_b84d5_level0_col4\" class=\"col_heading level0 col4\" >days</th>\n",
       "      <th id=\"T_b84d5_level0_col5\" class=\"col_heading level0 col5\" >rate</th>\n",
       "      <th id=\"T_b84d5_level0_col6\" class=\"col_heading level0 col6\" >spread</th>\n",
       "      <th id=\"T_b84d5_level0_col7\" class=\"col_heading level0 col7\" >amount</th>\n",
       "      <th id=\"T_b84d5_level0_col8\" class=\"col_heading level0 col8\" >DF</th>\n",
       "    </tr>\n",
       "  </thead>\n",
       "  <tbody>\n",
       "    <tr>\n",
       "      <th id=\"T_b84d5_level0_row0\" class=\"row_heading level0 row0\" >0</th>\n",
       "      <td id=\"T_b84d5_row0_col0\" class=\"data row0 col0\" >nan</td>\n",
       "      <td id=\"T_b84d5_row0_col1\" class=\"data row0 col1\" >nan</td>\n",
       "      <td id=\"T_b84d5_row0_col2\" class=\"data row0 col2\" >nan</td>\n",
       "      <td id=\"T_b84d5_row0_col3\" class=\"data row0 col3\" >2021-08-04</td>\n",
       "      <td id=\"T_b84d5_row0_col4\" class=\"data row0 col4\" >nan</td>\n",
       "      <td id=\"T_b84d5_row0_col5\" class=\"data row0 col5\" >nan%</td>\n",
       "      <td id=\"T_b84d5_row0_col6\" class=\"data row0 col6\" >nan%</td>\n",
       "      <td id=\"T_b84d5_row0_col7\" class=\"data row0 col7\" >nan</td>\n",
       "      <td id=\"T_b84d5_row0_col8\" class=\"data row0 col8\" >1.00000000</td>\n",
       "    </tr>\n",
       "    <tr>\n",
       "      <th id=\"T_b84d5_level0_row1\" class=\"row_heading level0 row1\" >1</th>\n",
       "      <td id=\"T_b84d5_row1_col0\" class=\"data row1 col0\" >2021-08-02</td>\n",
       "      <td id=\"T_b84d5_row1_col1\" class=\"data row1 col1\" >2021-08-04</td>\n",
       "      <td id=\"T_b84d5_row1_col2\" class=\"data row1 col2\" >2022-08-04</td>\n",
       "      <td id=\"T_b84d5_row1_col3\" class=\"data row1 col3\" >2022-08-04</td>\n",
       "      <td id=\"T_b84d5_row1_col4\" class=\"data row1 col4\" >365</td>\n",
       "      <td id=\"T_b84d5_row1_col5\" class=\"data row1 col5\" >7.000000%</td>\n",
       "      <td id=\"T_b84d5_row1_col6\" class=\"data row1 col6\" >0.000%</td>\n",
       "      <td id=\"T_b84d5_row1_col7\" class=\"data row1 col7\" >700,000.0000</td>\n",
       "      <td id=\"T_b84d5_row1_col8\" class=\"data row1 col8\" >0.93457944</td>\n",
       "    </tr>\n",
       "    <tr>\n",
       "      <th id=\"T_b84d5_level0_row2\" class=\"row_heading level0 row2\" >2</th>\n",
       "      <td id=\"T_b84d5_row2_col0\" class=\"data row2 col0\" >2022-08-02</td>\n",
       "      <td id=\"T_b84d5_row2_col1\" class=\"data row2 col1\" >2022-08-04</td>\n",
       "      <td id=\"T_b84d5_row2_col2\" class=\"data row2 col2\" >2023-08-04</td>\n",
       "      <td id=\"T_b84d5_row2_col3\" class=\"data row2 col3\" >2023-08-04</td>\n",
       "      <td id=\"T_b84d5_row2_col4\" class=\"data row2 col4\" >365</td>\n",
       "      <td id=\"T_b84d5_row2_col5\" class=\"data row2 col5\" >20.212766%</td>\n",
       "      <td id=\"T_b84d5_row2_col6\" class=\"data row2 col6\" >0.000%</td>\n",
       "      <td id=\"T_b84d5_row2_col7\" class=\"data row2 col7\" >2,021,276.5957</td>\n",
       "      <td id=\"T_b84d5_row2_col8\" class=\"data row2 col8\" >0.77743776</td>\n",
       "    </tr>\n",
       "  </tbody>\n",
       "</table>\n"
      ],
      "text/plain": [
       "<pandas.io.formats.style.Styler at 0x227c6b171d0>"
      ]
     },
     "metadata": {},
     "output_type": "display_data"
    }
   ],
   "source": [
    "# スワップOBJ\n",
    "swapTNR,   cpnRT,   fwdStart                                        =\\\n",
    "pD('2y'),  Rt2y,    pD('0d')\n",
    "swapOBJ = ql.MakeVanillaSwap(swapTNR, IX1y, cpnRT, fwdStart, \n",
    "                            fixedLegTenor=pdFreqA, nominal=10_000_000)\n",
    "# シングルカーブ評価\n",
    "swapOBJ.setPricingEngine(ql.DiscountingSwapEngine(sCrvHDL))\n",
    "print(f'NPV(single curve):{swapOBJ.NPV():.6f}')\n",
    "display(mu.swapCashFlow(swapOBJ, sCrvOBJ).style.format(fmtSCF))"
   ]
  },
  {
   "cell_type": "code",
   "execution_count": 27,
   "metadata": {},
   "outputs": [
    {
     "data": {
      "text/html": [
       "<style type=\"text/css\">\n",
       "</style>\n",
       "<table id=\"T_80214\">\n",
       "  <thead>\n",
       "    <tr>\n",
       "      <th class=\"blank level0\" >&nbsp;</th>\n",
       "      <th id=\"T_80214_level0_col0\" class=\"col_heading level0 col0\" >date</th>\n",
       "      <th id=\"T_80214_level0_col1\" class=\"col_heading level0 col1\" >DF</th>\n",
       "    </tr>\n",
       "  </thead>\n",
       "  <tbody>\n",
       "    <tr>\n",
       "      <th id=\"T_80214_level0_row0\" class=\"row_heading level0 row0\" >0</th>\n",
       "      <td id=\"T_80214_row0_col0\" class=\"data row0 col0\" >2021-08-04</td>\n",
       "      <td id=\"T_80214_row0_col1\" class=\"data row0 col1\" >1.00000000</td>\n",
       "    </tr>\n",
       "    <tr>\n",
       "      <th id=\"T_80214_level0_row1\" class=\"row_heading level0 row1\" >1</th>\n",
       "      <td id=\"T_80214_row1_col0\" class=\"data row1 col0\" >2022-08-04</td>\n",
       "      <td id=\"T_80214_row1_col1\" class=\"data row1 col1\" >0.95238095</td>\n",
       "    </tr>\n",
       "    <tr>\n",
       "      <th id=\"T_80214_level0_row2\" class=\"row_heading level0 row2\" >2</th>\n",
       "      <td id=\"T_80214_row2_col0\" class=\"data row2 col0\" >2023-08-04</td>\n",
       "      <td id=\"T_80214_row2_col1\" class=\"data row2 col1\" >0.85537919</td>\n",
       "    </tr>\n",
       "  </tbody>\n",
       "</table>\n"
      ],
      "text/plain": [
       "<pandas.io.formats.style.Styler at 0x227c6ae0410>"
      ]
     },
     "metadata": {},
     "output_type": "display_data"
    }
   ],
   "source": [
    "# Discount curve 金利\n",
    "dCrvHDL = ql.RelinkableYieldTermStructureHandle()\n",
    "dRt1y,  dRt2y,     dIX1y                          =\\\n",
    "0.05,   0.08,   ql.Tibor(pdFreqA, dCrvHDL)\n",
    "# カーブ構築  \n",
    "dHelper = [ql.DepositRateHelper(dRt1y, dIX1y), \n",
    "            ql.SwapRateHelper(dRt2y,pD('2y'),calJP, freqA, mFLLW, dcA365, dIX1y)]\n",
    "dCrvOBJ = ql.PiecewiseLogLinearDiscount(Tp2, calJP, dHelper, dcA365)\n",
    "dCrvHDL.linkTo(dCrvOBJ)\n",
    "# DF表示\n",
    "dfDS = pd.DataFrame([(dt.ISO(),df) for dt,df in dCrvOBJ.nodes()],columns=['date','DF'])\n",
    "display(dfDS.style.format({'DF':'{:.8f}'}))"
   ]
  },
  {
   "cell_type": "code",
   "execution_count": 28,
   "metadata": {},
   "outputs": [
    {
     "data": {
      "text/html": [
       "<style type=\"text/css\">\n",
       "</style>\n",
       "<table id=\"T_4a062\">\n",
       "  <thead>\n",
       "    <tr>\n",
       "      <th class=\"blank level0\" >&nbsp;</th>\n",
       "      <th id=\"T_4a062_level0_col0\" class=\"col_heading level0 col0\" >date</th>\n",
       "      <th id=\"T_4a062_level0_col1\" class=\"col_heading level0 col1\" >DF</th>\n",
       "    </tr>\n",
       "  </thead>\n",
       "  <tbody>\n",
       "    <tr>\n",
       "      <th id=\"T_4a062_level0_row0\" class=\"row_heading level0 row0\" >0</th>\n",
       "      <td id=\"T_4a062_row0_col0\" class=\"data row0 col0\" >2021-08-04</td>\n",
       "      <td id=\"T_4a062_row0_col1\" class=\"data row0 col1\" >1.0000000000</td>\n",
       "    </tr>\n",
       "    <tr>\n",
       "      <th id=\"T_4a062_level0_row1\" class=\"row_heading level0 row1\" >1</th>\n",
       "      <td id=\"T_4a062_row1_col0\" class=\"data row1 col0\" >2022-08-04</td>\n",
       "      <td id=\"T_4a062_row1_col1\" class=\"data row1 col1\" >0.9345794393</td>\n",
       "    </tr>\n",
       "    <tr>\n",
       "      <th id=\"T_4a062_level0_row2\" class=\"row_heading level0 row2\" >2</th>\n",
       "      <td id=\"T_4a062_row2_col0\" class=\"data row2 col0\" >2023-08-04</td>\n",
       "      <td id=\"T_4a062_row2_col1\" class=\"data row2 col1\" >0.7808959050</td>\n",
       "    </tr>\n",
       "  </tbody>\n",
       "</table>\n"
      ],
      "text/plain": [
       "<pandas.io.formats.style.Styler at 0x227c6b38210>"
      ]
     },
     "metadata": {},
     "output_type": "display_data"
    },
    {
     "name": "stdout",
     "output_type": "stream",
     "text": [
      "1x2 fwdIX:19.68041%\n"
     ]
    }
   ],
   "source": [
    "# forward curve\n",
    "fCrvHDL = ql.RelinkableYieldTermStructureHandle()  \n",
    "fIX1y   = ql.Tibor(pdFreqA, fCrvHDL)\n",
    "# カーブ構築 \n",
    "fHelper = [ql.DepositRateHelper(Rt1y, fIX1y),\n",
    "            ql.SwapRateHelper(Rt2y, pD('2y'), calJP, freqA,\n",
    "                 mFLLW, dcA365, fIX1y, mu.sqHDL(0), pD('0d'), dCrvHDL)]\n",
    "fCrvOBJ = ql.PiecewiseLogLinearDiscount(Tp2, calJP, fHelper, dcA365)\n",
    "fCrvHDL.linkTo(fCrvOBJ)\n",
    "# DF, fwdRT表示\n",
    "dfFW    = pd.DataFrame(\n",
    "    [(dt.ISO(),df) for dt,df in fCrvOBJ.nodes()],columns=['date','DF'])\n",
    "display(dfFW.style.format({'DF':'{:.10f}'}))\n",
    "fwdIX_1x2= fCrvOBJ.forwardRate(iDT(dfFW.date[1]),iDT(dfFW.date[2]),dcA365,cmpdSPL)\n",
    "print(f'1x2 fwdIX:{fwdIX_1x2.rate():.5%}')"
   ]
  },
  {
   "cell_type": "code",
   "execution_count": 29,
   "metadata": {},
   "outputs": [
    {
     "name": "stdout",
     "output_type": "stream",
     "text": [
      "ベーシス調整DF 1y:0.93333333,  2y:0.76499118\n",
      "1x2 fwdIX(hc):19.68041%,  2y swap(hc):13.00000%\n"
     ]
    }
   ],
   "source": [
    "# ベーシス調整DF\n",
    "bs1y, bs2y = Rt1y-dRt1y, Rt2y-dRt2y              \n",
    "a1DF = dfDS.DF[1] - bs1y* dfDS.DF[1]  \n",
    "a2DF = dfDS.DF[2] - bs2y*(dfDS.DF[1]+dfDS.DF[2]) \n",
    "print(f'ベーシス調整DF 1y:{a1DF:.8f}, ', f'2y:{a2DF:.8f}')\n",
    "# フォワードIbor, スワップレート\n",
    "print(f'1x2 fwdIX(hc):{(a1DF - a2DF)/dfDS.DF[2]          :.5%}, ',   \n",
    "        f'2y swap(hc):{(1 - a2DF)/(dfDS.DF[1]+dfDS.DF[2]):.5%}'  )"
   ]
  },
  {
   "cell_type": "code",
   "execution_count": 30,
   "metadata": {},
   "outputs": [
    {
     "name": "stdout",
     "output_type": "stream",
     "text": [
      "NPV(Two curve):0.00, FixLeg:-2,350,088.18, FltLeg:2,350,088.18\n"
     ]
    },
    {
     "data": {
      "text/html": [
       "<style type=\"text/css\">\n",
       "</style>\n",
       "<table id=\"T_83cd6\">\n",
       "  <thead>\n",
       "    <tr>\n",
       "      <th class=\"blank level0\" >&nbsp;</th>\n",
       "      <th id=\"T_83cd6_level0_col0\" class=\"col_heading level0 col0\" >fixingDate</th>\n",
       "      <th id=\"T_83cd6_level0_col1\" class=\"col_heading level0 col1\" >accruStart</th>\n",
       "      <th id=\"T_83cd6_level0_col2\" class=\"col_heading level0 col2\" >accruEnd</th>\n",
       "      <th id=\"T_83cd6_level0_col3\" class=\"col_heading level0 col3\" >payDate</th>\n",
       "      <th id=\"T_83cd6_level0_col4\" class=\"col_heading level0 col4\" >days</th>\n",
       "      <th id=\"T_83cd6_level0_col5\" class=\"col_heading level0 col5\" >rate</th>\n",
       "      <th id=\"T_83cd6_level0_col6\" class=\"col_heading level0 col6\" >spread</th>\n",
       "      <th id=\"T_83cd6_level0_col7\" class=\"col_heading level0 col7\" >amount</th>\n",
       "      <th id=\"T_83cd6_level0_col8\" class=\"col_heading level0 col8\" >DF</th>\n",
       "    </tr>\n",
       "  </thead>\n",
       "  <tbody>\n",
       "    <tr>\n",
       "      <th id=\"T_83cd6_level0_row0\" class=\"row_heading level0 row0\" >0</th>\n",
       "      <td id=\"T_83cd6_row0_col0\" class=\"data row0 col0\" >nan</td>\n",
       "      <td id=\"T_83cd6_row0_col1\" class=\"data row0 col1\" >nan</td>\n",
       "      <td id=\"T_83cd6_row0_col2\" class=\"data row0 col2\" >nan</td>\n",
       "      <td id=\"T_83cd6_row0_col3\" class=\"data row0 col3\" >2021-08-04</td>\n",
       "      <td id=\"T_83cd6_row0_col4\" class=\"data row0 col4\" >nan</td>\n",
       "      <td id=\"T_83cd6_row0_col5\" class=\"data row0 col5\" >nan%</td>\n",
       "      <td id=\"T_83cd6_row0_col6\" class=\"data row0 col6\" >nan%</td>\n",
       "      <td id=\"T_83cd6_row0_col7\" class=\"data row0 col7\" >nan</td>\n",
       "      <td id=\"T_83cd6_row0_col8\" class=\"data row0 col8\" >1.00000000</td>\n",
       "    </tr>\n",
       "    <tr>\n",
       "      <th id=\"T_83cd6_level0_row1\" class=\"row_heading level0 row1\" >1</th>\n",
       "      <td id=\"T_83cd6_row1_col0\" class=\"data row1 col0\" >2021-08-02</td>\n",
       "      <td id=\"T_83cd6_row1_col1\" class=\"data row1 col1\" >2021-08-04</td>\n",
       "      <td id=\"T_83cd6_row1_col2\" class=\"data row1 col2\" >2022-08-04</td>\n",
       "      <td id=\"T_83cd6_row1_col3\" class=\"data row1 col3\" >2022-08-04</td>\n",
       "      <td id=\"T_83cd6_row1_col4\" class=\"data row1 col4\" >365</td>\n",
       "      <td id=\"T_83cd6_row1_col5\" class=\"data row1 col5\" >7.000000%</td>\n",
       "      <td id=\"T_83cd6_row1_col6\" class=\"data row1 col6\" >0.000%</td>\n",
       "      <td id=\"T_83cd6_row1_col7\" class=\"data row1 col7\" >700,000.0000</td>\n",
       "      <td id=\"T_83cd6_row1_col8\" class=\"data row1 col8\" >0.93457944</td>\n",
       "    </tr>\n",
       "    <tr>\n",
       "      <th id=\"T_83cd6_level0_row2\" class=\"row_heading level0 row2\" >2</th>\n",
       "      <td id=\"T_83cd6_row2_col0\" class=\"data row2 col0\" >2022-08-02</td>\n",
       "      <td id=\"T_83cd6_row2_col1\" class=\"data row2 col1\" >2022-08-04</td>\n",
       "      <td id=\"T_83cd6_row2_col2\" class=\"data row2 col2\" >2023-08-04</td>\n",
       "      <td id=\"T_83cd6_row2_col3\" class=\"data row2 col3\" >2023-08-04</td>\n",
       "      <td id=\"T_83cd6_row2_col4\" class=\"data row2 col4\" >365</td>\n",
       "      <td id=\"T_83cd6_row2_col5\" class=\"data row2 col5\" >19.680412%</td>\n",
       "      <td id=\"T_83cd6_row2_col6\" class=\"data row2 col6\" >0.000%</td>\n",
       "      <td id=\"T_83cd6_row2_col7\" class=\"data row2 col7\" >1,968,041.2371</td>\n",
       "      <td id=\"T_83cd6_row2_col8\" class=\"data row2 col8\" >0.78089590</td>\n",
       "    </tr>\n",
       "  </tbody>\n",
       "</table>\n"
      ],
      "text/plain": [
       "<pandas.io.formats.style.Styler at 0x227c4079f50>"
      ]
     },
     "metadata": {},
     "output_type": "display_data"
    },
    {
     "data": {
      "text/html": [
       "<style type=\"text/css\">\n",
       "</style>\n",
       "<table id=\"T_ca92e\">\n",
       "  <thead>\n",
       "    <tr>\n",
       "      <th class=\"blank level0\" >&nbsp;</th>\n",
       "      <th id=\"T_ca92e_level0_col0\" class=\"col_heading level0 col0\" >nominal</th>\n",
       "      <th id=\"T_ca92e_level0_col1\" class=\"col_heading level0 col1\" >accruStart</th>\n",
       "      <th id=\"T_ca92e_level0_col2\" class=\"col_heading level0 col2\" >accruEnd</th>\n",
       "      <th id=\"T_ca92e_level0_col3\" class=\"col_heading level0 col3\" >payDate</th>\n",
       "      <th id=\"T_ca92e_level0_col4\" class=\"col_heading level0 col4\" >days</th>\n",
       "      <th id=\"T_ca92e_level0_col5\" class=\"col_heading level0 col5\" >rate</th>\n",
       "      <th id=\"T_ca92e_level0_col6\" class=\"col_heading level0 col6\" >amount</th>\n",
       "      <th id=\"T_ca92e_level0_col7\" class=\"col_heading level0 col7\" >DF</th>\n",
       "    </tr>\n",
       "  </thead>\n",
       "  <tbody>\n",
       "    <tr>\n",
       "      <th id=\"T_ca92e_level0_row0\" class=\"row_heading level0 row0\" >0</th>\n",
       "      <td id=\"T_ca92e_row0_col0\" class=\"data row0 col0\" >nan</td>\n",
       "      <td id=\"T_ca92e_row0_col1\" class=\"data row0 col1\" >nan</td>\n",
       "      <td id=\"T_ca92e_row0_col2\" class=\"data row0 col2\" >nan</td>\n",
       "      <td id=\"T_ca92e_row0_col3\" class=\"data row0 col3\" >2021-08-04</td>\n",
       "      <td id=\"T_ca92e_row0_col4\" class=\"data row0 col4\" >nan</td>\n",
       "      <td id=\"T_ca92e_row0_col5\" class=\"data row0 col5\" >nan%</td>\n",
       "      <td id=\"T_ca92e_row0_col6\" class=\"data row0 col6\" >nan</td>\n",
       "      <td id=\"T_ca92e_row0_col7\" class=\"data row0 col7\" >1.00000000</td>\n",
       "    </tr>\n",
       "    <tr>\n",
       "      <th id=\"T_ca92e_level0_row1\" class=\"row_heading level0 row1\" >1</th>\n",
       "      <td id=\"T_ca92e_row1_col0\" class=\"data row1 col0\" >10,000,000.00</td>\n",
       "      <td id=\"T_ca92e_row1_col1\" class=\"data row1 col1\" >2021-08-04</td>\n",
       "      <td id=\"T_ca92e_row1_col2\" class=\"data row1 col2\" >2022-08-04</td>\n",
       "      <td id=\"T_ca92e_row1_col3\" class=\"data row1 col3\" >2022-08-04</td>\n",
       "      <td id=\"T_ca92e_row1_col4\" class=\"data row1 col4\" >365</td>\n",
       "      <td id=\"T_ca92e_row1_col5\" class=\"data row1 col5\" >13.000000%</td>\n",
       "      <td id=\"T_ca92e_row1_col6\" class=\"data row1 col6\" >1,300,000.0000</td>\n",
       "      <td id=\"T_ca92e_row1_col7\" class=\"data row1 col7\" >0.95238095</td>\n",
       "    </tr>\n",
       "    <tr>\n",
       "      <th id=\"T_ca92e_level0_row2\" class=\"row_heading level0 row2\" >2</th>\n",
       "      <td id=\"T_ca92e_row2_col0\" class=\"data row2 col0\" >10,000,000.00</td>\n",
       "      <td id=\"T_ca92e_row2_col1\" class=\"data row2 col1\" >2022-08-04</td>\n",
       "      <td id=\"T_ca92e_row2_col2\" class=\"data row2 col2\" >2023-08-04</td>\n",
       "      <td id=\"T_ca92e_row2_col3\" class=\"data row2 col3\" >2023-08-04</td>\n",
       "      <td id=\"T_ca92e_row2_col4\" class=\"data row2 col4\" >365</td>\n",
       "      <td id=\"T_ca92e_row2_col5\" class=\"data row2 col5\" >13.000000%</td>\n",
       "      <td id=\"T_ca92e_row2_col6\" class=\"data row2 col6\" >1,300,000.0000</td>\n",
       "      <td id=\"T_ca92e_row2_col7\" class=\"data row2 col7\" >0.85537919</td>\n",
       "    </tr>\n",
       "  </tbody>\n",
       "</table>\n"
      ],
      "text/plain": [
       "<pandas.io.formats.style.Styler at 0x227c6b2c610>"
      ]
     },
     "metadata": {},
     "output_type": "display_data"
    }
   ],
   "source": [
    "# fIX1y指数のスワップOBJとエンジンの設定\n",
    "swapOBJ2 = ql.MakeVanillaSwap(swapTNR, fIX1y, cpnRT, fwdStart, \n",
    "                                      fixedLegTenor=pdFreqA, nominal=10_000_000)\n",
    "swapOBJ2.setPricingEngine(ql.DiscountingSwapEngine(dCrvHDL))\n",
    "# スワップ評価\n",
    "print(f'NPV(Two curve):{swapOBJ2.NPV():,.2f}, '\n",
    "      f'FixLeg:{swapOBJ2.legNPV(0)    :,.2f}, FltLeg:{swapOBJ2.legNPV(1):,.2f}')\n",
    "# キャッシュフロー表\n",
    "display(mu.swapCashFlow(swapOBJ2, fCrvOBJ, 1).style.format(fmtSCF))   # float\n",
    "display(mu.swapCashFlow(swapOBJ2, dCrvOBJ, 0).style.format(fmtSCF))   # fix"
   ]
  }
 ],
 "metadata": {
  "kernelspec": {
   "display_name": "base",
   "language": "python",
   "name": "python3"
  },
  "language_info": {
   "codemirror_mode": {
    "name": "ipython",
    "version": 3
   },
   "file_extension": ".py",
   "mimetype": "text/x-python",
   "name": "python",
   "nbconvert_exporter": "python",
   "pygments_lexer": "ipython3",
   "version": "3.11.7"
  }
 },
 "nbformat": 4,
 "nbformat_minor": 2
}
