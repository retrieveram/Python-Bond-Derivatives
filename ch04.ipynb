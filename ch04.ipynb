{
 "cells": [
  {
   "cell_type": "markdown",
   "metadata": {},
   "source": [
    "**第4章 Bonds**"
   ]
  },
  {
   "cell_type": "code",
   "execution_count": 1,
   "metadata": {},
   "outputs": [
    {
     "name": "stdout",
     "output_type": "stream",
     "text": [
      "価格97.0の利回り : PrToYLD =  1.418713%\n"
     ]
    }
   ],
   "source": [
    "from myABBR import * ; import myUtil as mu\n",
    "# 0.初期値設定\n",
    "tradeDT,       settDS,     effDT,           matDT,     faceAMT,  cpnLST      =\\\n",
    "jDT(2022,8,19),  2,   jDT(2022,7,28), jDT(2025,7,28),  100.0,  [0.00370] \n",
    "\n",
    "settleDT = calJP.advance(tradeDT, settDS, DD); setEvDT(tradeDT)\n",
    "\n",
    "# 1. スケジュールオブジェクトと債券オブジェクトの作成\n",
    "bondSCD = ql.Schedule(effDT, matDT, pdFreqSA, calJP, unADJ,unADJ, dtGENb, EoMf)\n",
    "bondOBJ = ql.FixedRateBond(settDS, faceAMT, bondSCD, cpnLST, dc30)\n",
    "\n",
    "# 価格 >> 利回り計算\n",
    "PrToYLD   = bondOBJ.bondYield(97.0, dc30, cmpdCMP, freqSA)\n",
    "print('価格97.0の利回り : PrToYLD = {: 6%}'.format(PrToYLD))"
   ]
  },
  {
   "cell_type": "code",
   "execution_count": 2,
   "metadata": {},
   "outputs": [
    {
     "data": {
      "text/html": [
       "<div>\n",
       "<style scoped>\n",
       "    .dataframe tbody tr th:only-of-type {\n",
       "        vertical-align: middle;\n",
       "    }\n",
       "\n",
       "    .dataframe tbody tr th {\n",
       "        vertical-align: top;\n",
       "    }\n",
       "\n",
       "    .dataframe thead th {\n",
       "        text-align: right;\n",
       "    }\n",
       "</style>\n",
       "<table border=\"1\" class=\"dataframe\">\n",
       "  <thead>\n",
       "    <tr style=\"text-align: right;\">\n",
       "      <th></th>\n",
       "      <th>計算結果</th>\n",
       "      <th></th>\n",
       "    </tr>\n",
       "  </thead>\n",
       "  <tbody>\n",
       "    <tr>\n",
       "      <th>0</th>\n",
       "      <td>受渡日</td>\n",
       "      <td>2022-08-23</td>\n",
       "    </tr>\n",
       "    <tr>\n",
       "      <th>1</th>\n",
       "      <td>前回利払日</td>\n",
       "      <td>2022-07-28</td>\n",
       "    </tr>\n",
       "    <tr>\n",
       "      <th>2</th>\n",
       "      <td>経過日数</td>\n",
       "      <td>25</td>\n",
       "    </tr>\n",
       "    <tr>\n",
       "      <th>3</th>\n",
       "      <td>経過利息</td>\n",
       "      <td>0.025694</td>\n",
       "    </tr>\n",
       "    <tr>\n",
       "      <th>4</th>\n",
       "      <td>---- ---- ----</td>\n",
       "      <td></td>\n",
       "    </tr>\n",
       "    <tr>\n",
       "      <th>5</th>\n",
       "      <td>クリーン価格</td>\n",
       "      <td>97.000001</td>\n",
       "    </tr>\n",
       "    <tr>\n",
       "      <th>6</th>\n",
       "      <td>利含み価格</td>\n",
       "      <td>97.025695</td>\n",
       "    </tr>\n",
       "    <tr>\n",
       "      <th>7</th>\n",
       "      <td>---- ---- ----</td>\n",
       "      <td></td>\n",
       "    </tr>\n",
       "  </tbody>\n",
       "</table>\n",
       "</div>"
      ],
      "text/plain": [
       "             計算結果            \n",
       "0             受渡日  2022-08-23\n",
       "1           前回利払日  2022-07-28\n",
       "2            経過日数          25\n",
       "3            経過利息    0.025694\n",
       "4  ---- ---- ----            \n",
       "5          クリーン価格   97.000001\n",
       "6           利含み価格   97.025695\n",
       "7  ---- ---- ----            "
      ]
     },
     "execution_count": 2,
     "metadata": {},
     "output_type": "execute_result"
    }
   ],
   "source": [
    "# 2. 利回り >> 価格計算\n",
    "# bondSCDのメソッド    \n",
    "prevCpnDT = bondSCD.previousDate(settleDT)\n",
    "accruDays = dc30.dayCount(prevCpnDT, settleDT)\n",
    "\n",
    "# bondOBJのメソッド\n",
    "accruAMT = bondOBJ.accruedAmount()\n",
    "cleanPRC = bondOBJ.cleanPrice(PrToYLD, dc30, cmpdCMP, freqSA)\n",
    "dirtyPRC = bondOBJ.dirtyPrice(PrToYLD, dc30, cmpdCMP, freqSA)\n",
    "# 保存\n",
    "dfPRC = pd.DataFrame([ \n",
    "            ['受渡日', settleDT.to_date()], ['前回利払日',prevCpnDT.to_date()],\n",
    "            ['経過日数', accruDays],        ['経過利息',accruAMT],\n",
    "            ['---- ---- ----', ''],\n",
    "            ['クリーン価格', cleanPRC],     ['利含み価格',dirtyPRC], \n",
    "            ['---- ---- ----', ''] ],       columns=['計算結果',''])   ; dfPRC"
   ]
  },
  {
   "cell_type": "code",
   "execution_count": 3,
   "metadata": {},
   "outputs": [
    {
     "data": {
      "text/html": [
       "<div>\n",
       "<style scoped>\n",
       "    .dataframe tbody tr th:only-of-type {\n",
       "        vertical-align: middle;\n",
       "    }\n",
       "\n",
       "    .dataframe tbody tr th {\n",
       "        vertical-align: top;\n",
       "    }\n",
       "\n",
       "    .dataframe thead th {\n",
       "        text-align: right;\n",
       "    }\n",
       "</style>\n",
       "<table border=\"1\" class=\"dataframe\">\n",
       "  <thead>\n",
       "    <tr style=\"text-align: right;\">\n",
       "      <th></th>\n",
       "      <th>計算結果</th>\n",
       "      <th></th>\n",
       "    </tr>\n",
       "  </thead>\n",
       "  <tbody>\n",
       "    <tr>\n",
       "      <th>0</th>\n",
       "      <td>マコーレイDur.</td>\n",
       "      <td>2.916496</td>\n",
       "    </tr>\n",
       "    <tr>\n",
       "      <th>1</th>\n",
       "      <td>修正Dur.</td>\n",
       "      <td>2.895954</td>\n",
       "    </tr>\n",
       "    <tr>\n",
       "      <th>2</th>\n",
       "      <td>BPV</td>\n",
       "      <td>-0.028098</td>\n",
       "    </tr>\n",
       "    <tr>\n",
       "      <th>3</th>\n",
       "      <td>Convexity</td>\n",
       "      <td>9.84958</td>\n",
       "    </tr>\n",
       "    <tr>\n",
       "      <th>4</th>\n",
       "      <td>---- ---- ----</td>\n",
       "      <td></td>\n",
       "    </tr>\n",
       "  </tbody>\n",
       "</table>\n",
       "</div>"
      ],
      "text/plain": [
       "             計算結果          \n",
       "0       マコーレイDur.  2.916496\n",
       "1          修正Dur.  2.895954\n",
       "2             BPV -0.028098\n",
       "3       Convexity   9.84958\n",
       "4  ---- ---- ----          "
      ]
     },
     "execution_count": 3,
     "metadata": {},
     "output_type": "execute_result"
    }
   ],
   "source": [
    "# 3. リスク指標の算出\n",
    "# InterestRateオブジェクトの作成\n",
    "iRateOBJ = ql.InterestRate(PrToYLD, dc30, cmpdCMP, freqSA)\n",
    "\n",
    "# BondFunctionによる算出\n",
    "MacDUR = ql.BondFunctions.duration(       bondOBJ, iRateOBJ, ql.Duration.Macaulay)\n",
    "ModDUR = ql.BondFunctions.duration(       bondOBJ, iRateOBJ, ql.Duration.Modified)\n",
    "BPV    = ql.BondFunctions.basisPointValue(bondOBJ, iRateOBJ)\n",
    "convX  = ql.BondFunctions.convexity(      bondOBJ, iRateOBJ)\n",
    "# 保存\n",
    "dfRSK = pd.DataFrame([ \n",
    "            ['マコーレイDur.', MacDUR],  ['修正Dur.', ModDUR],\n",
    "            ['BPV', BPV],              ['Convexity', convX],\n",
    "            ['---- ---- ----', ''] ],  columns=['計算結果',''])   ; dfRSK"
   ]
  },
  {
   "cell_type": "code",
   "execution_count": 4,
   "metadata": {},
   "outputs": [
    {
     "name": "stdout",
     "output_type": "stream",
     "text": [
      "BPV(hc): -0.028098円\n"
     ]
    }
   ],
   "source": [
    "# BPVの手計算(hand calculation)\n",
    "Pup1bp = bondOBJ.dirtyPrice(PrToYLD+0.0001, dc30, cmpdCMP, freqSA)\n",
    "Pdw1bp = bondOBJ.dirtyPrice(PrToYLD-0.0001, dc30, cmpdCMP, freqSA)\n",
    "hcBPV  = (Pup1bp - Pdw1bp)/2 ; print('BPV(hc): {: .6f}円'.format(hcBPV) )"
   ]
  },
  {
   "cell_type": "code",
   "execution_count": 5,
   "metadata": {},
   "outputs": [
    {
     "name": "stdout",
     "output_type": "stream",
     "text": [
      "modDur(hc):2.895949%,  Convexity(hc):0.098496%\n"
     ]
    }
   ],
   "source": [
    "# 修正Durationの手計算\n",
    "hcMoDur = -BPV*100 / dirtyPRC  ; \n",
    "print('modDur(hc):{:.6%}'.format(hcMoDur), end=',  ' )\n",
    "# Convexity\n",
    "hcCnvx = ((Pup1bp-dirtyPRC) - (dirtyPRC-Pdw1bp))*10000/dirtyPRC\n",
    "print('Convexity(hc):{:.6%}'.format(hcCnvx))"
   ]
  },
  {
   "cell_type": "code",
   "execution_count": 6,
   "metadata": {},
   "outputs": [
    {
     "name": "stdout",
     "output_type": "stream",
     "text": [
      "1%上昇時価格: 94.263045, デルタ+1/2ガンマの推定: 94.263659\n"
     ]
    }
   ],
   "source": [
    "# 1%金利上昇時の価格\n",
    "Pup100bp = bondOBJ.dirtyPrice(PrToYLD+0.01, dc30, cmpdCMP, freqSA)\n",
    "\n",
    "deltA = -ModDUR/100*dirtyPRC ; gammA = convX/10000*dirtyPRC\n",
    "hcPRC = dirtyPRC + deltA + 0.5*gammA\n",
    "print('1%上昇時価格:{: .6f}, デルタ+1/2ガンマの推定:{: .6f}'\n",
    "                                         .format(Pup100bp, hcPRC))"
   ]
  },
  {
   "cell_type": "code",
   "execution_count": 7,
   "metadata": {},
   "outputs": [
    {
     "data": {
      "text/html": [
       "<div>\n",
       "<style scoped>\n",
       "    .dataframe tbody tr th:only-of-type {\n",
       "        vertical-align: middle;\n",
       "    }\n",
       "\n",
       "    .dataframe tbody tr th {\n",
       "        vertical-align: top;\n",
       "    }\n",
       "\n",
       "    .dataframe thead th {\n",
       "        text-align: right;\n",
       "    }\n",
       "</style>\n",
       "<table border=\"1\" class=\"dataframe\">\n",
       "  <thead>\n",
       "    <tr style=\"text-align: right;\">\n",
       "      <th></th>\n",
       "      <th>payDate</th>\n",
       "      <th>coupon</th>\n",
       "      <th>accruStart</th>\n",
       "      <th>accruEnd</th>\n",
       "      <th>amount</th>\n",
       "      <th>DF</th>\n",
       "    </tr>\n",
       "  </thead>\n",
       "  <tbody>\n",
       "    <tr>\n",
       "      <th>0</th>\n",
       "      <td>2022-07-28</td>\n",
       "      <td>NaN</td>\n",
       "      <td>NaN</td>\n",
       "      <td>NaN</td>\n",
       "      <td>NaN</td>\n",
       "      <td>1.000000</td>\n",
       "    </tr>\n",
       "    <tr>\n",
       "      <th>1</th>\n",
       "      <td>2023-01-30</td>\n",
       "      <td>0.0037</td>\n",
       "      <td>2022-07-28</td>\n",
       "      <td>2023-01-28</td>\n",
       "      <td>0.185</td>\n",
       "      <td>0.993854</td>\n",
       "    </tr>\n",
       "    <tr>\n",
       "      <th>2</th>\n",
       "      <td>2023-07-28</td>\n",
       "      <td>0.0037</td>\n",
       "      <td>2023-01-28</td>\n",
       "      <td>2023-07-28</td>\n",
       "      <td>0.185</td>\n",
       "      <td>0.986931</td>\n",
       "    </tr>\n",
       "    <tr>\n",
       "      <th>3</th>\n",
       "      <td>2024-01-29</td>\n",
       "      <td>0.0037</td>\n",
       "      <td>2023-07-28</td>\n",
       "      <td>2024-01-28</td>\n",
       "      <td>0.185</td>\n",
       "      <td>0.979941</td>\n",
       "    </tr>\n",
       "    <tr>\n",
       "      <th>4</th>\n",
       "      <td>2024-07-29</td>\n",
       "      <td>0.0037</td>\n",
       "      <td>2024-01-28</td>\n",
       "      <td>2024-07-28</td>\n",
       "      <td>0.185</td>\n",
       "      <td>0.973038</td>\n",
       "    </tr>\n",
       "    <tr>\n",
       "      <th>5</th>\n",
       "      <td>2025-01-28</td>\n",
       "      <td>0.0037</td>\n",
       "      <td>2024-07-28</td>\n",
       "      <td>2025-01-28</td>\n",
       "      <td>0.185</td>\n",
       "      <td>0.966223</td>\n",
       "    </tr>\n",
       "    <tr>\n",
       "      <th>6</th>\n",
       "      <td>2025-07-28</td>\n",
       "      <td>0.0037</td>\n",
       "      <td>2025-01-28</td>\n",
       "      <td>2025-07-28</td>\n",
       "      <td>0.185</td>\n",
       "      <td>0.959417</td>\n",
       "    </tr>\n",
       "    <tr>\n",
       "      <th>7</th>\n",
       "      <td>2025-07-28</td>\n",
       "      <td>NaN</td>\n",
       "      <td>NaN</td>\n",
       "      <td>NaN</td>\n",
       "      <td>100.000</td>\n",
       "      <td>0.959417</td>\n",
       "    </tr>\n",
       "  </tbody>\n",
       "</table>\n",
       "</div>"
      ],
      "text/plain": [
       "      payDate  coupon  accruStart    accruEnd   amount        DF\n",
       "0  2022-07-28     NaN         NaN         NaN      NaN  1.000000\n",
       "1  2023-01-30  0.0037  2022-07-28  2023-01-28    0.185  0.993854\n",
       "2  2023-07-28  0.0037  2023-01-28  2023-07-28    0.185  0.986931\n",
       "3  2024-01-29  0.0037  2023-07-28  2024-01-28    0.185  0.979941\n",
       "4  2024-07-29  0.0037  2024-01-28  2024-07-28    0.185  0.973038\n",
       "5  2025-01-28  0.0037  2024-07-28  2025-01-28    0.185  0.966223\n",
       "6  2025-07-28  0.0037  2025-01-28  2025-07-28    0.185  0.959417\n",
       "7  2025-07-28     NaN         NaN         NaN  100.000  0.959417"
      ]
     },
     "execution_count": 7,
     "metadata": {},
     "output_type": "execute_result"
    }
   ],
   "source": [
    "# クーポン\n",
    "dfCPN = pd.DataFrame({\n",
    "    'payDate':    cpn.date(),          # no ISO\n",
    "    'coupon':     cpn.rate(),\n",
    "    'accruStart': cpn.accrualStartDate().ISO(),\n",
    "    'accruEnd':   cpn.accrualEndDate().ISO(),\n",
    "    'amount':     cpn.amount(),\n",
    "    } for cpn in map(ql.as_coupon, bondOBJ.cashflows()) if cpn is not None )\n",
    "# 起算日, 元本\n",
    "dfEFF = pd.DataFrame([{'payDate': bondOBJ.startDate()}], columns=dfCPN.columns)\n",
    "dfPRN = pd.DataFrame({'payDate': cf.date(), 'amount':cf.amount()} for cf,cpn \n",
    "             in zip(bondOBJ.cashflows(),map(ql.as_coupon, bondOBJ.cashflows())) \n",
    "                                                               if cpn is None )\n",
    "dfBND = pd.concat([dfEFF, dfCPN, dfPRN], ignore_index=True )\n",
    "# ディスカウントファクター\n",
    "psDF  = [1.0                  for dt in dfBND.payDate if dt <= settleDT] #past   DF\n",
    "fuDF  = [iRateOBJ.discountFactor(settleDT, dt)\n",
    "                              for dt in dfBND.payDate if settleDT < dt ] #future DF\n",
    "dfBND = pd.concat([dfBND, pd.DataFrame(psDF+fuDF, columns=['DF']) ], axis=1)  \n",
    "dfBND.payDate  =  dfBND.payDate.map(lambda x: x.ISO()) ; dfBND  # ISOフォーマットへ"
   ]
  },
  {
   "cell_type": "code",
   "execution_count": 8,
   "metadata": {},
   "outputs": [
    {
     "data": {
      "text/plain": [
       "2.916496208263682"
      ]
     },
     "execution_count": 8,
     "metadata": {},
     "output_type": "execute_result"
    }
   ],
   "source": [
    "# マコーレイデュレーション 手計算\n",
    "yrFRC = [dc30.yearFraction(settleDT, iDT(xx)) for xx in dfBND.payDate][1:]\n",
    "np.sum(yrFRC*dfBND.amount[1:]*dfBND.DF[1:])/dirtyPRC"
   ]
  },
  {
   "cell_type": "code",
   "execution_count": 9,
   "metadata": {},
   "outputs": [
    {
     "data": {
      "text/html": [
       "<div>\n",
       "<style scoped>\n",
       "    .dataframe tbody tr th:only-of-type {\n",
       "        vertical-align: middle;\n",
       "    }\n",
       "\n",
       "    .dataframe tbody tr th {\n",
       "        vertical-align: top;\n",
       "    }\n",
       "\n",
       "    .dataframe thead th {\n",
       "        text-align: right;\n",
       "    }\n",
       "</style>\n",
       "<table border=\"1\" class=\"dataframe\">\n",
       "  <thead>\n",
       "    <tr style=\"text-align: right;\">\n",
       "      <th></th>\n",
       "      <th>payDate</th>\n",
       "      <th>coupon</th>\n",
       "      <th>accruStart</th>\n",
       "      <th>accruEnd</th>\n",
       "      <th>amount</th>\n",
       "      <th>DF</th>\n",
       "    </tr>\n",
       "  </thead>\n",
       "  <tbody>\n",
       "    <tr>\n",
       "      <th>0</th>\n",
       "      <td>January 28th, 2025</td>\n",
       "      <td>0.0037</td>\n",
       "      <td>2024-07-28</td>\n",
       "      <td>2025-01-28</td>\n",
       "      <td>0.185</td>\n",
       "      <td>0.966223</td>\n",
       "    </tr>\n",
       "    <tr>\n",
       "      <th>1</th>\n",
       "      <td>July 28th, 2025</td>\n",
       "      <td>0.0037</td>\n",
       "      <td>2025-01-28</td>\n",
       "      <td>2025-07-28</td>\n",
       "      <td>0.185</td>\n",
       "      <td>0.959417</td>\n",
       "    </tr>\n",
       "    <tr>\n",
       "      <th>2</th>\n",
       "      <td>July 28th, 2025</td>\n",
       "      <td>NaN</td>\n",
       "      <td>NaN</td>\n",
       "      <td>NaN</td>\n",
       "      <td>100.000</td>\n",
       "      <td>0.959417</td>\n",
       "    </tr>\n",
       "  </tbody>\n",
       "</table>\n",
       "</div>"
      ],
      "text/plain": [
       "              payDate  coupon  accruStart    accruEnd   amount        DF\n",
       "0  January 28th, 2025  0.0037  2024-07-28  2025-01-28    0.185  0.966223\n",
       "1     July 28th, 2025  0.0037  2025-01-28  2025-07-28    0.185  0.959417\n",
       "2     July 28th, 2025     NaN         NaN         NaN  100.000  0.959417"
      ]
     },
     "execution_count": 9,
     "metadata": {},
     "output_type": "execute_result"
    }
   ],
   "source": [
    "# 2025年以降のキャッシュフローの抽出\n",
    "dfBND.payDate = dfBND.payDate.map(lambda x: iDT(x)) #ISO日付をDateクラスへ\n",
    "dfBND = dfBND[dfBND.payDate >= jDT(2025,1,1)]\n",
    "dfBND = dfBND.reset_index(drop=True)           ; dfBND"
   ]
  },
  {
   "cell_type": "code",
   "execution_count": 10,
   "metadata": {},
   "outputs": [],
   "source": [
    "# 債券の評価 - **Bonds - MitHCC 0.37 7/28/25**\n",
    "\n",
    "import xlwings as xw ; from myABBR import * ; import myUtil as mu\n",
    "@xw.func\n",
    "@xw.arg('trdDATA', ndim=1)\n",
    "@xw.arg('bondDTL', ndim=1)\n",
    "@xw.arg('bondCONV', ndim=1)\n",
    "@xw.ret(index=False, header=True, expand='table')\n",
    "\n",
    "def bondCALC(trdDATA, bondDTL, bondCONV):\n",
    "    # 0. パラメーター編集と初期設定\n",
    "    tradeDT, settDS, mktYLD      = trdDATA       ;  settDS = int(settDS)\n",
    "    effDT, matDT, faceAMT, cpnLST = bondDTL\n",
    "    calBD, cmpdBD, dcBD, freqBD, cpnCNV, matCNV, dtGenBD, EoMBD       =\\\n",
    "                                                 [eval(ii) for ii in bondCONV]\n",
    "    \n",
    "    tradeDT,         effDT,       matDT,    cpnLST               =\\\n",
    "    dDT(tradeDT), dDT(effDT), dDT(matDT),  [cpnLST] \n",
    "    settleDT = calBD.advance(tradeDT, settDS, DD) ; setEvDT(tradeDT)\n",
    "\n",
    "    # 1. スケジュールオブジェクトと債券オブジェクトの作成\n",
    "    bondSCD = ql.Schedule(effDT, matDT, pD(freqBD), calBD, cpnCNV, matCNV, dtGenBD, EoMBD)\n",
    "    bondOBJ = ql.FixedRateBond(settDS, faceAMT, bondSCD, cpnLST, dcBD)\n",
    "\n",
    "    # 2. 利回り >> 価格計算\n",
    "    # bondSCDのメソッド    \n",
    "    preCpnDT = bondSCD.previousDate(settleDT)\n",
    "    accruDS = dcBD.dayCount(preCpnDT, settleDT)\n",
    "\n",
    "    # bondOBJのメソッド\n",
    "    accruAMT = bondOBJ.accruedAmount()\n",
    "    cleanPRC = bondOBJ.cleanPrice(mktYLD, dcBD, cmpdBD, freqBD)\n",
    "    dirtyPRC = bondOBJ.dirtyPrice(mktYLD, dcBD, cmpdBD, freqBD)\n",
    "    # 保存\n",
    "    dfPRC = pd.DataFrame([ \n",
    "                ['受渡日', settleDT.to_date()], ['前回利払日',preCpnDT.to_date()],\n",
    "                ['経過日数', accruDS],          ['経過利息',accruAMT],\n",
    "                ['---- ---- ----', ''],\n",
    "                ['クリーン価格', cleanPRC],     ['利含み価格',dirtyPRC], \n",
    "                ['---- ---- ----', ''] ],  columns=['計算結果',''])   ; dfPRC\n",
    "        \n",
    "    # 3. リスク指標の算出\n",
    "    # InterestRateオブジェクトの作成\n",
    "    iRateOBJ = ql.InterestRate(mktYLD, dcBD, cmpdBD, freqBD)\n",
    "\n",
    "    # BondFunctionによる算出\n",
    "    MacDUR = ql.BondFunctions.duration(       bondOBJ, iRateOBJ, ql.Duration.Macaulay)\n",
    "    ModDUR = ql.BondFunctions.duration(       bondOBJ, iRateOBJ, ql.Duration.Modified)\n",
    "    BPV    = ql.BondFunctions.basisPointValue(bondOBJ, iRateOBJ)\n",
    "    convX  = ql.BondFunctions.convexity(      bondOBJ, iRateOBJ)\n",
    "    # 保存\n",
    "    dfRSK = pd.DataFrame([['マコーレイDur.', MacDUR], ['修正Dur.', ModDUR],\n",
    "                           ['BPV', BPV],               ['Convexity', convX], ], \n",
    "                columns=['計算結果',''])\n",
    "    return pd.concat([dfPRC, dfRSK], ignore_index=True)"
   ]
  },
  {
   "cell_type": "code",
   "execution_count": 11,
   "metadata": {},
   "outputs": [
    {
     "name": "stdout",
     "output_type": "stream",
     "text": [
      "TONA補間レート(2025-07-28): 0.0718%, 債券利回り: 1.4187%,  Iスプレッド: 1.3469%\n"
     ]
    }
   ],
   "source": [
    "# TONAカーブ作成とその日付リスト\n",
    "crvDATA = [('depo','1d',-0.009),('swap','1m',-0.01807),('swap','6m',-0.01043),\n",
    "           ('swap','12m',0.0125),('swap','18m',0.03125),('swap','2y',0.04875),\n",
    "           ('swap','3y',0.07375), ('swap','5y',0.11854),('swap','7y',0.19146)]\n",
    "\n",
    "tonaIX, tnCrvOBJ, tnCrvHDL, tnParRATE = mu.makeTonaCurve(crvDATA)\n",
    "tnCrvDates = [dt.serialNumber() for dt,_ in tnCrvOBJ.nodes()[1:]]\n",
    "\n",
    "# TONA補間レート、iSpread\n",
    "linearIP  = ql.LinearInterpolation(tnCrvDates, tnParRATE)\n",
    "intPOrate = linearIP(matDT.serialNumber(), allowExtrapolation=True)\n",
    "print('TONA補間レート({}): {:.4%}'.format(matDT.ISO(), intPOrate), end=', ')\n",
    "print('債券利回り: {:.4%},  Iスプレッド: {:.4%}'\n",
    "                                       .format(PrToYLD, PrToYLD-intPOrate))"
   ]
  },
  {
   "cell_type": "code",
   "execution_count": 12,
   "metadata": {},
   "outputs": [
    {
     "name": "stdout",
     "output_type": "stream",
     "text": [
      "利回り1.4187%での利含み価格 97.025696\n"
     ]
    }
   ],
   "source": [
    "# 利回り1.4187%の利含み価格\n",
    "ffCrvOBJ,ffCrvHDL = mu.ffTSH(settleDT, 0.01418713, dc30, cmpdCMP, freqSA)\n",
    "ffENG = ql.DiscountingBondEngine(ffCrvHDL)\n",
    "bondOBJ.setPricingEngine(ffENG)  \n",
    "print('利回り1.4187%での利含み価格 {:.6f}'.format(bondOBJ.NPV()))"
   ]
  },
  {
   "cell_type": "code",
   "execution_count": 13,
   "metadata": {},
   "outputs": [
    {
     "name": "stdout",
     "output_type": "stream",
     "text": [
      "TONAカーブでの価格(tnDiscPRC): 100.897045\n"
     ]
    }
   ],
   "source": [
    "# TONAカーブでの債券価格\n",
    "tnENG = ql.DiscountingBondEngine(tnCrvHDL); bondOBJ.setPricingEngine(tnENG)\n",
    "tnDiscPRC = bondOBJ.NPV()                                     # 変数に保存\n",
    "print('TONAカーブでの価格(tnDiscPRC): {:.6f}'.format(tnDiscPRC))"
   ]
  },
  {
   "cell_type": "code",
   "execution_count": 14,
   "metadata": {},
   "outputs": [
    {
     "name": "stdout",
     "output_type": "stream",
     "text": [
      "クリーン価格 97.0のZスプレッド: 1.3459%\n"
     ]
    }
   ],
   "source": [
    "# clean価格=97.0のzSpread\n",
    "zSpread = ql.BondFunctions.zSpread(bondOBJ, 97.0, tnCrvOBJ, dc30, cmpdCMP, freqSA)\n",
    "print('クリーン価格 97.0のZスプレッド: {:.4%}'.format(zSpread))"
   ]
  },
  {
   "cell_type": "code",
   "execution_count": 15,
   "metadata": {},
   "outputs": [
    {
     "name": "stdout",
     "output_type": "stream",
     "text": [
      "tonaカーブ+Zスプレッドでの利含み価格: 97.011646\n"
     ]
    }
   ],
   "source": [
    "# TONAカーブを1.3459%シフトした時の債券価格\n",
    "sprdCvOBJ = ql.ZeroSpreadedTermStructure(\n",
    "                 tnCrvHDL, mu.sqHDL(1.3459/100), cmpdCMP, freqSA, dcA365)\n",
    "sprdCvHDL = ql.YieldTermStructureHandle(sprdCvOBJ)\n",
    "sprdENG   = ql.DiscountingBondEngine(sprdCvHDL)\n",
    "bondOBJ.setPricingEngine(sprdENG)\n",
    "print('tonaカーブ+Zスプレッドでの利含み価格: {:.6f}'.format(bondOBJ.NPV()))"
   ]
  },
  {
   "cell_type": "code",
   "execution_count": 16,
   "metadata": {},
   "outputs": [
    {
     "data": {
      "text/html": [
       "<style type=\"text/css\">\n",
       "</style>\n",
       "<table id=\"T_667f6\">\n",
       "  <thead>\n",
       "    <tr>\n",
       "      <th class=\"blank level0\" >&nbsp;</th>\n",
       "      <th id=\"T_667f6_level0_col0\" class=\"col_heading level0 col0\" >payDate</th>\n",
       "      <th id=\"T_667f6_level0_col1\" class=\"col_heading level0 col1\" >coupon</th>\n",
       "      <th id=\"T_667f6_level0_col2\" class=\"col_heading level0 col2\" >accruStart</th>\n",
       "      <th id=\"T_667f6_level0_col3\" class=\"col_heading level0 col3\" >accruEnd</th>\n",
       "      <th id=\"T_667f6_level0_col4\" class=\"col_heading level0 col4\" >amount</th>\n",
       "      <th id=\"T_667f6_level0_col5\" class=\"col_heading level0 col5\" >DF</th>\n",
       "    </tr>\n",
       "  </thead>\n",
       "  <tbody>\n",
       "    <tr>\n",
       "      <th id=\"T_667f6_level0_row0\" class=\"row_heading level0 row0\" >0</th>\n",
       "      <td id=\"T_667f6_row0_col0\" class=\"data row0 col0\" >2023-01-30</td>\n",
       "      <td id=\"T_667f6_row0_col1\" class=\"data row0 col1\" >0.003700</td>\n",
       "      <td id=\"T_667f6_row0_col2\" class=\"data row0 col2\" >2022-07-28</td>\n",
       "      <td id=\"T_667f6_row0_col3\" class=\"data row0 col3\" >2023-01-28</td>\n",
       "      <td id=\"T_667f6_row0_col4\" class=\"data row0 col4\" >0.185000</td>\n",
       "      <td id=\"T_667f6_row0_col5\" class=\"data row0 col5\" >0.99403858</td>\n",
       "    </tr>\n",
       "    <tr>\n",
       "      <th id=\"T_667f6_level0_row1\" class=\"row_heading level0 row1\" >1</th>\n",
       "      <td id=\"T_667f6_row1_col0\" class=\"data row1 col0\" >2023-07-28</td>\n",
       "      <td id=\"T_667f6_row1_col1\" class=\"data row1 col1\" >0.003700</td>\n",
       "      <td id=\"T_667f6_row1_col2\" class=\"data row1 col2\" >2023-01-28</td>\n",
       "      <td id=\"T_667f6_row1_col3\" class=\"data row1 col3\" >2023-07-28</td>\n",
       "      <td id=\"T_667f6_row1_col4\" class=\"data row1 col4\" >0.185000</td>\n",
       "      <td id=\"T_667f6_row1_col5\" class=\"data row1 col5\" >0.98737752</td>\n",
       "    </tr>\n",
       "    <tr>\n",
       "      <th id=\"T_667f6_level0_row2\" class=\"row_heading level0 row2\" >2</th>\n",
       "      <td id=\"T_667f6_row2_col0\" class=\"data row2 col0\" >2024-01-29</td>\n",
       "      <td id=\"T_667f6_row2_col1\" class=\"data row2 col1\" >0.003700</td>\n",
       "      <td id=\"T_667f6_row2_col2\" class=\"data row2 col2\" >2023-07-28</td>\n",
       "      <td id=\"T_667f6_row2_col3\" class=\"data row2 col3\" >2024-01-28</td>\n",
       "      <td id=\"T_667f6_row2_col4\" class=\"data row2 col4\" >0.185000</td>\n",
       "      <td id=\"T_667f6_row2_col5\" class=\"data row2 col5\" >0.98037441</td>\n",
       "    </tr>\n",
       "    <tr>\n",
       "      <th id=\"T_667f6_level0_row3\" class=\"row_heading level0 row3\" >3</th>\n",
       "      <td id=\"T_667f6_row3_col0\" class=\"data row3 col0\" >2024-07-29</td>\n",
       "      <td id=\"T_667f6_row3_col1\" class=\"data row3 col1\" >0.003700</td>\n",
       "      <td id=\"T_667f6_row3_col2\" class=\"data row3 col2\" >2024-01-28</td>\n",
       "      <td id=\"T_667f6_row3_col3\" class=\"data row3 col3\" >2024-07-28</td>\n",
       "      <td id=\"T_667f6_row3_col4\" class=\"data row3 col4\" >0.185000</td>\n",
       "      <td id=\"T_667f6_row3_col5\" class=\"data row3 col5\" >0.97336955</td>\n",
       "    </tr>\n",
       "    <tr>\n",
       "      <th id=\"T_667f6_level0_row4\" class=\"row_heading level0 row4\" >4</th>\n",
       "      <td id=\"T_667f6_row4_col0\" class=\"data row4 col0\" >2025-01-28</td>\n",
       "      <td id=\"T_667f6_row4_col1\" class=\"data row4 col1\" >0.003700</td>\n",
       "      <td id=\"T_667f6_row4_col2\" class=\"data row4 col2\" >2024-07-28</td>\n",
       "      <td id=\"T_667f6_row4_col3\" class=\"data row4 col3\" >2025-01-28</td>\n",
       "      <td id=\"T_667f6_row4_col4\" class=\"data row4 col4\" >0.185000</td>\n",
       "      <td id=\"T_667f6_row4_col5\" class=\"data row4 col5\" >0.96626425</td>\n",
       "    </tr>\n",
       "    <tr>\n",
       "      <th id=\"T_667f6_level0_row5\" class=\"row_heading level0 row5\" >5</th>\n",
       "      <td id=\"T_667f6_row5_col0\" class=\"data row5 col0\" >2025-07-28</td>\n",
       "      <td id=\"T_667f6_row5_col1\" class=\"data row5 col1\" >0.003700</td>\n",
       "      <td id=\"T_667f6_row5_col2\" class=\"data row5 col2\" >2025-01-28</td>\n",
       "      <td id=\"T_667f6_row5_col3\" class=\"data row5 col3\" >2025-07-28</td>\n",
       "      <td id=\"T_667f6_row5_col4\" class=\"data row5 col4\" >0.185000</td>\n",
       "      <td id=\"T_667f6_row5_col5\" class=\"data row5 col5\" >0.95927417</td>\n",
       "    </tr>\n",
       "    <tr>\n",
       "      <th id=\"T_667f6_level0_row6\" class=\"row_heading level0 row6\" >6</th>\n",
       "      <td id=\"T_667f6_row6_col0\" class=\"data row6 col0\" >2025-07-28</td>\n",
       "      <td id=\"T_667f6_row6_col1\" class=\"data row6 col1\" >nan</td>\n",
       "      <td id=\"T_667f6_row6_col2\" class=\"data row6 col2\" >nan</td>\n",
       "      <td id=\"T_667f6_row6_col3\" class=\"data row6 col3\" >nan</td>\n",
       "      <td id=\"T_667f6_row6_col4\" class=\"data row6 col4\" >100.000000</td>\n",
       "      <td id=\"T_667f6_row6_col5\" class=\"data row6 col5\" >0.95927417</td>\n",
       "    </tr>\n",
       "  </tbody>\n",
       "</table>\n"
      ],
      "text/plain": [
       "<pandas.io.formats.style.Styler at 0x1b45315ae50>"
      ]
     },
     "metadata": {},
     "output_type": "display_data"
    },
    {
     "name": "stdout",
     "output_type": "stream",
     "text": [
      "Zスプレッドの価格(手計算): 97.011646\n"
     ]
    }
   ],
   "source": [
    "# TONAカーブ+Zスプレッドでの価格算出\n",
    "dfBND = mu.bondCashFlow(bondOBJ, yts=sprdCvHDL) \n",
    "display(dfBND.style.format({'DF':'{:.8f}'}))\n",
    "print('Zスプレッドの価格(手計算): {:.6f}'.format((dfBND.amount * dfBND.DF).sum()) )"
   ]
  },
  {
   "cell_type": "code",
   "execution_count": 17,
   "metadata": {},
   "outputs": [
    {
     "data": {
      "text/html": [
       "<div>\n",
       "<style scoped>\n",
       "    .dataframe tbody tr th:only-of-type {\n",
       "        vertical-align: middle;\n",
       "    }\n",
       "\n",
       "    .dataframe tbody tr th {\n",
       "        vertical-align: top;\n",
       "    }\n",
       "\n",
       "    .dataframe thead th {\n",
       "        text-align: right;\n",
       "    }\n",
       "</style>\n",
       "<table border=\"1\" class=\"dataframe\">\n",
       "  <thead>\n",
       "    <tr style=\"text-align: right;\">\n",
       "      <th></th>\n",
       "      <th>payDate</th>\n",
       "      <th>coupon</th>\n",
       "      <th>accruStart</th>\n",
       "      <th>accruEnd</th>\n",
       "      <th>amount</th>\n",
       "      <th>DF</th>\n",
       "    </tr>\n",
       "  </thead>\n",
       "  <tbody>\n",
       "    <tr>\n",
       "      <th>0</th>\n",
       "      <td>2023-01-30</td>\n",
       "      <td>0.0037</td>\n",
       "      <td>2022-07-28</td>\n",
       "      <td>2023-01-28</td>\n",
       "      <td>0.185</td>\n",
       "      <td>1.000048</td>\n",
       "    </tr>\n",
       "    <tr>\n",
       "      <th>1</th>\n",
       "      <td>2023-07-28</td>\n",
       "      <td>0.0037</td>\n",
       "      <td>2023-01-28</td>\n",
       "      <td>2023-07-28</td>\n",
       "      <td>0.185</td>\n",
       "      <td>0.999902</td>\n",
       "    </tr>\n",
       "    <tr>\n",
       "      <th>2</th>\n",
       "      <td>2024-01-29</td>\n",
       "      <td>0.0037</td>\n",
       "      <td>2023-07-28</td>\n",
       "      <td>2024-01-28</td>\n",
       "      <td>0.185</td>\n",
       "      <td>0.999581</td>\n",
       "    </tr>\n",
       "    <tr>\n",
       "      <th>3</th>\n",
       "      <td>2024-07-29</td>\n",
       "      <td>0.0037</td>\n",
       "      <td>2024-01-28</td>\n",
       "      <td>2024-07-28</td>\n",
       "      <td>0.185</td>\n",
       "      <td>0.999096</td>\n",
       "    </tr>\n",
       "    <tr>\n",
       "      <th>4</th>\n",
       "      <td>2025-01-28</td>\n",
       "      <td>0.0037</td>\n",
       "      <td>2024-07-28</td>\n",
       "      <td>2025-01-28</td>\n",
       "      <td>0.185</td>\n",
       "      <td>0.998491</td>\n",
       "    </tr>\n",
       "    <tr>\n",
       "      <th>5</th>\n",
       "      <td>2025-07-28</td>\n",
       "      <td>0.0037</td>\n",
       "      <td>2025-01-28</td>\n",
       "      <td>2025-07-28</td>\n",
       "      <td>0.185</td>\n",
       "      <td>0.997880</td>\n",
       "    </tr>\n",
       "  </tbody>\n",
       "</table>\n",
       "</div>"
      ],
      "text/plain": [
       "      payDate  coupon  accruStart    accruEnd  amount        DF\n",
       "0  2023-01-30  0.0037  2022-07-28  2023-01-28   0.185  1.000048\n",
       "1  2023-07-28  0.0037  2023-01-28  2023-07-28   0.185  0.999902\n",
       "2  2024-01-29  0.0037  2023-07-28  2024-01-28   0.185  0.999581\n",
       "3  2024-07-29  0.0037  2024-01-28  2024-07-28   0.185  0.999096\n",
       "4  2025-01-28  0.0037  2024-07-28  2025-01-28   0.185  0.998491\n",
       "5  2025-07-28  0.0037  2025-01-28  2025-07-28   0.185  0.997880"
      ]
     },
     "metadata": {},
     "output_type": "display_data"
    },
    {
     "name": "stdout",
     "output_type": "stream",
     "text": [
      "TONAアニュイティ:2.929009, ASwスプレッド:1.321727\n"
     ]
    }
   ],
   "source": [
    "# ASwスプレッド手計算\n",
    "dfBND = mu.bondCashFlow(bondOBJ, yts=tnCrvOBJ)[:-1] ; display(dfBND)\n",
    "yrFRC = [dcA365.yearFraction(settleDT,iDT(xx)) for xx in dfBND.payDate]\n",
    "tnrFL  = np.diff([0]+yrFRC)                              # 利払い日のテナー\n",
    "tnAnn = (dfBND.DF * tnrFL).sum()                         # TONAアニュイティ       \n",
    "# ASwスプレッド\n",
    "print('TONAアニュイティ:{:.6f}'.format(tnAnn),  end=', ' )\n",
    "print('ASwスプレッド:{:.6f}'.format((tnDiscPRC - dirtyPRC)/tnAnn) )"
   ]
  },
  {
   "cell_type": "code",
   "execution_count": 18,
   "metadata": {},
   "outputs": [
    {
     "name": "stdout",
     "output_type": "stream",
     "text": [
      "クリーン価格97.00のASwスプレッド:1.3214%\n",
      "スプレッド1.3000%のクリーン価格: 97.0628\n"
     ]
    }
   ],
   "source": [
    "# ASw用パラメータ\n",
    "cleanPRC,  crdSPRD,    fltSCH,     isPar,  payFix                       = \\\n",
    "97.0,     1.3/100,  ql.Schedule(), True,   True\n",
    "# ASwオブジェクトとASwエンジン\n",
    "aswOBJ = ql.AssetSwap(payFix, bondOBJ, cleanPRC, \n",
    "                                     tonaIX, crdSPRD, fltSCH, dcA365, isPar)\n",
    "aswENG = ql.DiscountingSwapEngine(tnCrvHDL); aswOBJ.setPricingEngine(aswENG)\n",
    "print('クリーン価格{:.2f}のASwスプレッド:{:.4%}'.format(\n",
    "                                            cleanPRC, aswOBJ.fairSpread()))\n",
    "print('スプレッド{:.4%}のクリーン価格: {:.4f}'.format(\n",
    "                                         crdSPRD, aswOBJ.fairCleanPrice()))"
   ]
  }
 ],
 "metadata": {
  "interpreter": {
   "hash": "a077222d77dfe082b8f1dd562ad70e458ac2ab76993a0b248ab0476e32e9e8dd"
  },
  "kernelspec": {
   "display_name": "Python 3 (ipykernel)",
   "language": "python",
   "name": "python3"
  },
  "language_info": {
   "codemirror_mode": {
    "name": "ipython",
    "version": 3
   },
   "file_extension": ".py",
   "mimetype": "text/x-python",
   "name": "python",
   "nbconvert_exporter": "python",
   "pygments_lexer": "ipython3",
   "version": "3.11.7"
  }
 },
 "nbformat": 4,
 "nbformat_minor": 2
}
