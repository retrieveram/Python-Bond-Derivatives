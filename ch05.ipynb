{
 "cells": [
  {
   "cell_type": "markdown",
   "metadata": {},
   "source": [
    "**第5章 US Treasury and futures**"
   ]
  },
  {
   "cell_type": "code",
   "execution_count": 1,
   "metadata": {},
   "outputs": [
    {
     "name": "stdout",
     "output_type": "stream",
     "text": [
      "利回り6%, 7月6日受渡の価格: 93.0700\n"
     ]
    }
   ],
   "source": [
    "from myABBR import * ; import myUtil as mu\n",
    "\n",
    "def makeUsTsyBond(effDT, matDT, cpnRT, faceAMT=100.0, settleDS=Tp1):\n",
    "    # 発行,満期日 処理\n",
    "    effDT, matDT = jDT(*effDT), jDT(*matDT)  \n",
    "    # スケジュール, 債券オブジェクト\n",
    "    bondSCD = ql.Schedule(effDT,matDT,pdFreqSA,calUSg,unADJ,unADJ,dtGENb,EoMt)\n",
    "    bondOBJ = ql.FixedRateBond(settleDS, faceAMT, bondSCD, [cpnRT/100], dcAAb)\n",
    "    return bondOBJ\n",
    "\n",
    "# 発行(2022,9,30) 満期(2027,9,30) クーポン4.125\n",
    "bondOBJ = makeUsTsyBond((2022,9,30), (2027,9,30), 4.125)\n",
    "# CF近似値\n",
    "cfPRC = bondOBJ.cleanPrice(6/100, dcAAb, cmpdCMP, freqSA, jDT(2023,7,6))\n",
    "print(f'利回り6%, 7月6日受渡の価格: {cfPRC:.4f}')"
   ]
  },
  {
   "cell_type": "code",
   "execution_count": 2,
   "metadata": {},
   "outputs": [
    {
     "data": {
      "text/html": [
       "<div>\n",
       "<style scoped>\n",
       "    .dataframe tbody tr th:only-of-type {\n",
       "        vertical-align: middle;\n",
       "    }\n",
       "\n",
       "    .dataframe tbody tr th {\n",
       "        vertical-align: top;\n",
       "    }\n",
       "\n",
       "    .dataframe thead th {\n",
       "        text-align: right;\n",
       "    }\n",
       "</style>\n",
       "<table border=\"1\" class=\"dataframe\">\n",
       "  <thead>\n",
       "    <tr style=\"text-align: right;\">\n",
       "      <th></th>\n",
       "      <th>settleDT</th>\n",
       "      <th>bondYield</th>\n",
       "      <th>accruAMT</th>\n",
       "      <th>cleanPRC</th>\n",
       "    </tr>\n",
       "  </thead>\n",
       "  <tbody>\n",
       "    <tr>\n",
       "      <th>0</th>\n",
       "      <td>2023-04-21</td>\n",
       "      <td>0.037</td>\n",
       "      <td>0.23668</td>\n",
       "      <td>101.723815</td>\n",
       "    </tr>\n",
       "  </tbody>\n",
       "</table>\n",
       "</div>"
      ],
      "text/plain": [
       "     settleDT  bondYield  accruAMT    cleanPRC\n",
       "0  2023-04-21      0.037   0.23668  101.723815"
      ]
     },
     "metadata": {},
     "output_type": "display_data"
    },
    {
     "data": {
      "text/html": [
       "<div>\n",
       "<style scoped>\n",
       "    .dataframe tbody tr th:only-of-type {\n",
       "        vertical-align: middle;\n",
       "    }\n",
       "\n",
       "    .dataframe tbody tr th {\n",
       "        vertical-align: top;\n",
       "    }\n",
       "\n",
       "    .dataframe thead th {\n",
       "        text-align: right;\n",
       "    }\n",
       "</style>\n",
       "<table border=\"1\" class=\"dataframe\">\n",
       "  <thead>\n",
       "    <tr style=\"text-align: right;\">\n",
       "      <th></th>\n",
       "      <th>payDate</th>\n",
       "      <th>coupon</th>\n",
       "      <th>accruStart</th>\n",
       "      <th>accruEnd</th>\n",
       "      <th>amount</th>\n",
       "      <th>DF</th>\n",
       "    </tr>\n",
       "  </thead>\n",
       "  <tbody>\n",
       "    <tr>\n",
       "      <th>0</th>\n",
       "      <td>2022-09-30</td>\n",
       "      <td>NaN</td>\n",
       "      <td>NaN</td>\n",
       "      <td>NaN</td>\n",
       "      <td>NaN</td>\n",
       "      <td>1.00000</td>\n",
       "    </tr>\n",
       "    <tr>\n",
       "      <th>1</th>\n",
       "      <td>2023-03-31</td>\n",
       "      <td>0.04125</td>\n",
       "      <td>2022-09-30</td>\n",
       "      <td>2023-03-31</td>\n",
       "      <td>2.0625</td>\n",
       "      <td>1.00000</td>\n",
       "    </tr>\n",
       "    <tr>\n",
       "      <th>2</th>\n",
       "      <td>2023-10-02</td>\n",
       "      <td>0.04125</td>\n",
       "      <td>2023-03-31</td>\n",
       "      <td>2023-09-30</td>\n",
       "      <td>2.0625</td>\n",
       "      <td>0.98484</td>\n",
       "    </tr>\n",
       "  </tbody>\n",
       "</table>\n",
       "</div>"
      ],
      "text/plain": [
       "      payDate   coupon  accruStart    accruEnd  amount       DF\n",
       "0  2022-09-30      NaN         NaN         NaN     NaN  1.00000\n",
       "1  2023-03-31  0.04125  2022-09-30  2023-03-31  2.0625  1.00000\n",
       "2  2023-10-02  0.04125  2023-03-31  2023-09-30  2.0625  0.98484"
      ]
     },
     "metadata": {},
     "output_type": "display_data"
    }
   ],
   "source": [
    "# 利回り3.70%から価格計算\n",
    "tradeDT,         bndYLD,   futPRC                         =\\\n",
    "jDT(2023,4,20), 3.7/100,  109+10/32       ; setEvDT(tradeDT)\n",
    "settleDT = calUSg.advance(tradeDT,Tp1,DD)\n",
    "\n",
    "accruAMT = bondOBJ.accruedAmount(settleDT)\n",
    "cleanPRC = bondOBJ.cleanPrice(bndYLD, dcAAb, cmpdCMP, freqSA, settleDT)\n",
    "display(pd.DataFrame({'settleDT':settleDT.ISO(), 'bondYield':bndYLD,\n",
    "                'accruAMT':accruAMT, 'cleanPRC':cleanPRC }, index=[0]))\n",
    "# InterestRateオブジェクト、キャッシュフロー表\n",
    "iRateOBJ = ql.InterestRate(bndYLD, dcAAb, cmpdCMP, freqSA)\n",
    "display(mu.bondCashFlow(bondOBJ, ir=iRateOBJ, past=1)[:3])"
   ]
  },
  {
   "cell_type": "code",
   "execution_count": 3,
   "metadata": {},
   "outputs": [
    {
     "name": "stdout",
     "output_type": "stream",
     "text": [
      "4月21日までの日数:21, 利払期間の日数:183, (hc)経過利息:0.23668\n"
     ]
    }
   ],
   "source": [
    "# Act/Act Semiannualの経過利息の手計算\n",
    "apr21 = dcAAb.dayCount(jDT(2023,3,31),jDT(2023,4,21))\n",
    "sep30 = dcAAb.dayCount(jDT(2023,3,31),jDT(2023,9,30))\n",
    "print(f'4月21日までの日数:{apr21}, 利払期間の日数:{sep30},',\n",
    "      f'(hc)経過利息:{ 4.125/2 * apr21/sep30 :.5f}')"
   ]
  },
  {
   "cell_type": "code",
   "execution_count": 4,
   "metadata": {},
   "outputs": [
    {
     "name": "stdout",
     "output_type": "stream",
     "text": [
      "先物価格: 109.312500, 現物受渡日: 2023-04-21\n"
     ]
    },
    {
     "data": {
      "text/html": [
       "<style type=\"text/css\">\n",
       "</style>\n",
       "<table id=\"T_d8edf\">\n",
       "  <thead>\n",
       "    <tr>\n",
       "      <th class=\"blank level0\" >&nbsp;</th>\n",
       "      <th id=\"T_d8edf_level0_col0\" class=\"col_heading level0 col0\" >coupon</th>\n",
       "      <th id=\"T_d8edf_level0_col1\" class=\"col_heading level0 col1\" >maturity</th>\n",
       "      <th id=\"T_d8edf_level0_col2\" class=\"col_heading level0 col2\" >yield</th>\n",
       "      <th id=\"T_d8edf_level0_col3\" class=\"col_heading level0 col3\" >BPV</th>\n",
       "      <th id=\"T_d8edf_level0_col4\" class=\"col_heading level0 col4\" >cleanPRC</th>\n",
       "      <th id=\"T_d8edf_level0_col5\" class=\"col_heading level0 col5\" >dirtyPRC</th>\n",
       "      <th id=\"T_d8edf_level0_col6\" class=\"col_heading level0 col6\" >CF</th>\n",
       "      <th id=\"T_d8edf_level0_col7\" class=\"col_heading level0 col7\" >gBASIS</th>\n",
       "    </tr>\n",
       "  </thead>\n",
       "  <tbody>\n",
       "    <tr>\n",
       "      <th id=\"T_d8edf_level0_row0\" class=\"row_heading level0 row0\" >0</th>\n",
       "      <td id=\"T_d8edf_row0_col0\" class=\"data row0 col0\" >4.1250%</td>\n",
       "      <td id=\"T_d8edf_row0_col1\" class=\"data row0 col1\" >2027-09-30</td>\n",
       "      <td id=\"T_d8edf_row0_col2\" class=\"data row0 col2\" >3.7000</td>\n",
       "      <td id=\"T_d8edf_row0_col3\" class=\"data row0 col3\" >-0.0410</td>\n",
       "      <td id=\"T_d8edf_row0_col4\" class=\"data row0 col4\" >101.7238</td>\n",
       "      <td id=\"T_d8edf_row0_col5\" class=\"data row0 col5\" >101.9605</td>\n",
       "      <td id=\"T_d8edf_row0_col6\" class=\"data row0 col6\" >0.93050</td>\n",
       "      <td id=\"T_d8edf_row0_col7\" class=\"data row0 col7\" >0.0085</td>\n",
       "    </tr>\n",
       "    <tr>\n",
       "      <th id=\"T_d8edf_level0_row1\" class=\"row_heading level0 row1\" >1</th>\n",
       "      <td id=\"T_d8edf_row1_col0\" class=\"data row1 col0\" >3.1250%</td>\n",
       "      <td id=\"T_d8edf_row1_col1\" class=\"data row1 col1\" >2027-08-31</td>\n",
       "      <td id=\"T_d8edf_row1_col2\" class=\"data row1 col2\" >3.6900</td>\n",
       "      <td id=\"T_d8edf_row1_col3\" class=\"data row1 col3\" >-0.0394</td>\n",
       "      <td id=\"T_d8edf_row1_col4\" class=\"data row1 col4\" >97.7398</td>\n",
       "      <td id=\"T_d8edf_row1_col5\" class=\"data row1 col5\" >98.1814</td>\n",
       "      <td id=\"T_d8edf_row1_col6\" class=\"data row1 col6\" >0.89530</td>\n",
       "      <td id=\"T_d8edf_row1_col7\" class=\"data row1 col7\" >-0.1277</td>\n",
       "    </tr>\n",
       "    <tr>\n",
       "      <th id=\"T_d8edf_level0_row2\" class=\"row_heading level0 row2\" >2</th>\n",
       "      <td id=\"T_d8edf_row2_col0\" class=\"data row2 col0\" >3.5000%</td>\n",
       "      <td id=\"T_d8edf_row2_col1\" class=\"data row2 col1\" >2028-01-31</td>\n",
       "      <td id=\"T_d8edf_row2_col2\" class=\"data row2 col2\" >3.6500</td>\n",
       "      <td id=\"T_d8edf_row2_col3\" class=\"data row2 col3\" >-0.0433</td>\n",
       "      <td id=\"T_d8edf_row2_col4\" class=\"data row2 col4\" >99.3430</td>\n",
       "      <td id=\"T_d8edf_row2_col5\" class=\"data row2 col5\" >100.1164</td>\n",
       "      <td id=\"T_d8edf_row2_col6\" class=\"data row2 col6\" >0.90110</td>\n",
       "      <td id=\"T_d8edf_row2_col7\" class=\"data row2 col7\" >0.8415</td>\n",
       "    </tr>\n",
       "  </tbody>\n",
       "</table>\n"
      ],
      "text/plain": [
       "<pandas.io.formats.style.Styler at 0x273a904ea50>"
      ]
     },
     "metadata": {},
     "output_type": "display_data"
    }
   ],
   "source": [
    "# 受渡適格:   発行日       満期日  クーポン  CF   市場利回り\n",
    "dvBND  = [((2022,9,30), (2027,9,30), 4.125, 0.9305, 3.70),\n",
    "          ((2022,8,31), (2027,8,31), 3.125, 0.8953, 3.69),\n",
    "          ((2023,1,31), (2028,1,31), 3.500, 0.9011, 3.65)]\n",
    "dvCF, dvYLD = list(zip(*dvBND))[3:]                     # cf,yld列の取り出し\n",
    "bndOBJ = [makeUsTsyBond(iss, mat, cpn) for iss,mat,cpn,_,_ in dvBND]\n",
    "iRToBJ = [ql.InterestRate(yld/100, dcAAb, cmpdCMP, freqSA) for yld in dvYLD]\n",
    "\n",
    "dfGRS = pd.DataFrame()                                  #グロスベーシス用df\n",
    "for bnd, iRT, cf, yld in zip(bndOBJ, iRToBJ, dvCF, dvYLD) :\n",
    "    BPV    = ql.BondFunctions.basisPointValue(bnd, iRT, settleDT)\n",
    "    clnPRC = bnd.cleanPrice(yld/100, dcAAb, cmpdCMP, freqSA, settleDT)\n",
    "    dtyPRC = bnd.dirtyPrice(yld/100, dcAAb, cmpdCMP, freqSA, settleDT)\n",
    "    gBASIS = clnPRC - futPRC*cf\n",
    "    dfGRS  = pd.concat([dfGRS, pd.DataFrame({\n",
    "            'coupon':bnd.nextCouponRate(), 'maturity':bnd.maturityDate().ISO(),\n",
    "            'yield':yld, 'BPV':BPV, 'cleanPRC':clnPRC, 'dirtyPRC':dtyPRC,\n",
    "            'CF':cf, 'gBASIS':gBASIS }, index=[0])], ignore_index=True)\n",
    "    \n",
    "print(f'先物価格: {futPRC:.6f}, 現物受渡日: {settleDT.ISO()}')\n",
    "display(dfGRS.style.format(fmtFUT))"
   ]
  },
  {
   "cell_type": "code",
   "execution_count": 5,
   "metadata": {},
   "outputs": [
    {
     "name": "stdout",
     "output_type": "stream",
     "text": [
      "レポレート:5.1000%, レポエンド日:2023-07-06, レポ日数:76, レポ年数:0.2111\n"
     ]
    },
    {
     "data": {
      "text/html": [
       "<div>\n",
       "<style scoped>\n",
       "    .dataframe tbody tr th:only-of-type {\n",
       "        vertical-align: middle;\n",
       "    }\n",
       "\n",
       "    .dataframe tbody tr th {\n",
       "        vertical-align: top;\n",
       "    }\n",
       "\n",
       "    .dataframe thead th {\n",
       "        text-align: right;\n",
       "    }\n",
       "</style>\n",
       "<table border=\"1\" class=\"dataframe\">\n",
       "  <thead>\n",
       "    <tr style=\"text-align: right;\">\n",
       "      <th></th>\n",
       "      <th>accStAMT</th>\n",
       "      <th>accEdAMT</th>\n",
       "      <th>cpnINC</th>\n",
       "      <th>dirtyPRC</th>\n",
       "      <th>repCST</th>\n",
       "      <th>carry</th>\n",
       "      <th>nBASIS</th>\n",
       "      <th>fwdPRC</th>\n",
       "      <th>impREP</th>\n",
       "    </tr>\n",
       "  </thead>\n",
       "  <tbody>\n",
       "    <tr>\n",
       "      <th>0</th>\n",
       "      <td>0.236680</td>\n",
       "      <td>1.093238</td>\n",
       "      <td>0.856557</td>\n",
       "      <td>101.960496</td>\n",
       "      <td>1.097775</td>\n",
       "      <td>-0.241217</td>\n",
       "      <td>0.249751</td>\n",
       "      <td>101.965033</td>\n",
       "      <td>0.039397</td>\n",
       "    </tr>\n",
       "    <tr>\n",
       "      <th>1</th>\n",
       "      <td>0.441576</td>\n",
       "      <td>1.086957</td>\n",
       "      <td>0.645380</td>\n",
       "      <td>98.181384</td>\n",
       "      <td>1.057086</td>\n",
       "      <td>-0.411706</td>\n",
       "      <td>0.284032</td>\n",
       "      <td>98.151513</td>\n",
       "      <td>0.037297</td>\n",
       "    </tr>\n",
       "    <tr>\n",
       "      <th>2</th>\n",
       "      <td>0.773481</td>\n",
       "      <td>1.508287</td>\n",
       "      <td>0.734807</td>\n",
       "      <td>100.116437</td>\n",
       "      <td>1.077920</td>\n",
       "      <td>-0.343114</td>\n",
       "      <td>1.184576</td>\n",
       "      <td>99.686070</td>\n",
       "      <td>-0.005046</td>\n",
       "    </tr>\n",
       "  </tbody>\n",
       "</table>\n",
       "</div>"
      ],
      "text/plain": [
       "   accStAMT  accEdAMT    cpnINC    dirtyPRC    repCST     carry    nBASIS  \\\n",
       "0  0.236680  1.093238  0.856557  101.960496  1.097775 -0.241217  0.249751   \n",
       "1  0.441576  1.086957  0.645380   98.181384  1.057086 -0.411706  0.284032   \n",
       "2  0.773481  1.508287  0.734807  100.116437  1.077920 -0.343114  1.184576   \n",
       "\n",
       "       fwdPRC    impREP  \n",
       "0  101.965033  0.039397  \n",
       "1   98.151513  0.037297  \n",
       "2   99.686070 -0.005046  "
      ]
     },
     "metadata": {},
     "output_type": "display_data"
    }
   ],
   "source": [
    "# レポ条件, ネットベーシス用df\n",
    "repRT,       repEndDT,      dfNET        =\\\n",
    "5.10/100, jDT(2023,7,6), pd.DataFrame()\n",
    "\n",
    "for bnd, cf, cPRC, dPRC, gBAS in \\\n",
    "            zip(bndOBJ, dvCF, dfGRS.cleanPRC, dfGRS.dirtyPRC, dfGRS.gBASIS) :\n",
    "    # レポ年数\n",
    "    repYR   = dcA360.yearFraction(settleDT, repEndDT)     #レポ年ベース\n",
    "    # 利息収入, レポコスト, キャリー\n",
    "    accStAMT= bnd.accruedAmount(settleDT)                 #レポstart経過利息\n",
    "    accEdAMT= bnd.accruedAmount(repEndDT)                 #レポend経過利息\n",
    "    cpnINC  = accEdAMT - accStAMT                         #クーポンincome    \n",
    "    repCST  = repRT * repYR * dPRC                        #レポコスト\n",
    "    carry   = cpnINC   - repCST                           #キャリー\n",
    "    # ネットベーシス、フォワード、インプライドレポ\n",
    "    nBASIS  = gBAS     - carry                            #ネットBasis    \n",
    "    fwdPRC  = cPRC     - carry                            #フォワード価格\n",
    "    impREP  = ((futPRC*cf+accEdAMT)/dPRC - 1)/repYR       #インプライドレポ\n",
    "    # df作成\n",
    "    dfNET = pd.concat([dfNET, pd.DataFrame({\n",
    "           'accStAMT':accStAMT, 'accEdAMT':accEdAMT,'cpnINC':cpnINC,\n",
    "           'dirtyPRC':dPRC,     'repCST'  :repCST,  'carry'  :carry,  \n",
    "           'nBASIS'  :nBASIS,   'fwdPRC'  :fwdPRC,  'impREP' :impREP\n",
    "                                          }, index=[0])],  ignore_index=True)\n",
    "print(f'レポレート:{repRT:.4%}, レポエンド日:{repEndDT.ISO()},',\n",
    "      f'レポ日数:{dcA360.dayCount(settleDT,repEndDT)}, レポ年数:{repYR:.4f}')\n",
    "display(dfNET)"
   ]
  },
  {
   "cell_type": "code",
   "execution_count": null,
   "metadata": {},
   "outputs": [],
   "source": []
  }
 ],
 "metadata": {
  "kernelspec": {
   "display_name": "base",
   "language": "python",
   "name": "python3"
  },
  "language_info": {
   "codemirror_mode": {
    "name": "ipython",
    "version": 3
   },
   "file_extension": ".py",
   "mimetype": "text/x-python",
   "name": "python",
   "nbconvert_exporter": "python",
   "pygments_lexer": "ipython3",
   "version": "3.13.5"
  }
 },
 "nbformat": 4,
 "nbformat_minor": 2
}
