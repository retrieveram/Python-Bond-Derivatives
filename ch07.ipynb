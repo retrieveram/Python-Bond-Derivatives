{
 "cells": [
  {
   "cell_type": "markdown",
   "metadata": {},
   "source": [
    "**第7章**"
   ]
  },
  {
   "cell_type": "code",
   "execution_count": 1,
   "metadata": {},
   "outputs": [
    {
     "name": "stdout",
     "output_type": "stream",
     "text": [
      "optNPV:0.113385%  受渡金額:283.46 \n",
      " optDL:-56.11%  optGM:165.97  optVG:18.19%  optTH:-0.20%\n"
     ]
    }
   ],
   "source": [
    "from myABBR import *; import myUtil as mu; from scipy.stats import norm\n",
    "\n",
    "# 初期値 (pC:call=1 put=-1, futRT:先物金利, stkRT:行使金利)\n",
    "tradeDT,            matDT,        pC, futPRC, stkPRC                 =\\\n",
    "jDT(2023,9,26), jDT(2023,12,15),  -1,  94.54,  94.50; setEvDT(tradeDT) \n",
    "\n",
    "# 50bp       5.4%         5.46%             5.5%      \n",
    "volRT,      rfRT,        futRT,            stkRT                     =\\\n",
    "50/10000,  5.4/100, (100-futPRC)/100, (100-stkPRC)/100\n",
    "\n",
    "# 予備計算: matYR:満期年, SD:Standard Deviation,  matDF:満期日discFactor\n",
    "rfOBJ,_ = mu.ffTSH(tradeDT, rfRT, dcA360, cmpdSPL)\n",
    "matYR   = dcA365.yearFraction(ql.Settings.instance().evaluationDate, matDT) \n",
    "SD      = volRT*np.sqrt(matYR)\n",
    "matDF   = rfOBJ.discount(matDT)\n",
    "\n",
    "# オプション価格\n",
    "d1    = pC*(futRT-stkRT)/SD\n",
    "optNPV= matDF*SD*(d1*norm.cdf(d1) + norm.pdf(d1))\n",
    "# グリークス\n",
    "optDL = pC*matDF*norm.cdf(d1)   ; optGM = matDF*norm.pdf(d1)/SD\n",
    "optVG = matDF*np.sqrt(matYR)*norm.pdf(d1) \n",
    "optTH = rfRT*optNPV - 0.5*matDF*norm.pdf(d1)*volRT/np.sqrt(matYR)\n",
    "\n",
    "print(f'optNPV:{optNPV:.6%} ', f'受渡金額:{optNPV*100*2500:.2f} \\n', \n",
    "       f'optDL:{optDL:.2%} ' ,   f'optGM:{optGM :.2f} ', \n",
    "       f'optVG:{optVG:.2%} ' ,   f'optTH:{optTH:.2%}'              )"
   ]
  },
  {
   "cell_type": "code",
   "execution_count": 2,
   "metadata": {},
   "outputs": [
    {
     "name": "stdout",
     "output_type": "stream",
     "text": [
      "ImpVOL(tgtNPV=0.11330%): 0.4995%\n"
     ]
    }
   ],
   "source": [
    "# 1.ソルバー用関数の準備 (価格差の算出)\n",
    "def volSLVR(vol) :\n",
    "    SD = vol*np.sqrt(matYR) ;   d1 = pC*(futRT-stkRT)/SD\n",
    "    calcNPV= matDF*SD*(d1*norm.cdf(d1) + norm.pdf(d1))\n",
    "    return tgtNPV-calcNPV\n",
    "# 2.NPV 0.1133%のvol計算\n",
    "tgtNPV = 0.1133/100             # accuracy, guess,  xMin,   xMax\n",
    "impVOL = ql.Brent().solve(volSLVR, 1e-5,    0.001,  5e-5,   0.1)\n",
    "                                # 0.1bp     10bp,   0.5bp,  10%\n",
    "print(f'ImpVOL(tgtNPV={tgtNPV:.5%}): {impVOL:.4%}')"
   ]
  },
  {
   "cell_type": "code",
   "execution_count": 3,
   "metadata": {},
   "outputs": [
    {
     "name": "stdout",
     "output_type": "stream",
     "text": [
      "決済日(reference): 2023-09-28\n"
     ]
    },
    {
     "data": {
      "text/plain": [
       "[('2023-09-28', 1.0),\n",
       " ('2023-12-28', 0.9865692901876598),\n",
       " ('2024-03-28', 0.9731383278012513),\n",
       " ('2024-09-30', 0.947229008881084),\n",
       " ('2025-09-29', 0.9056140456298556),\n",
       " ('2026-09-28', 0.8708967171925004)]"
      ]
     },
     "execution_count": 3,
     "metadata": {},
     "output_type": "execute_result"
    }
   ],
   "source": [
    "from myABBR import *     ; import myUtil as mu\n",
    "tradeDT = jDT(2023,9,26) ; setEvDT(tradeDT)\n",
    "# 0.SOFRカーブ\n",
    "crvDATA = [('depo','1d',5.31), ('swap','1m',5.32), ('swap','3m',5.38),\n",
    "           ('swap','6m',5.46), ('swap','1y',5.45), ('swap','2y',5.01),\n",
    "           ('swap','3y',4.67)]\n",
    "sofrIX, sfCrvOBJ, sfCrvHDL, sfParRATE = mu.makeSofrCurve(crvDATA)\n",
    "\n",
    "# 1.CME Term SOFR rate and Basis curve ( = all zero)\n",
    "TsfRT3m  = 5.38558\n",
    "TsfCrvBS = [('6m',0.0), ('1y',0.0), ('2y',0.0), ('3y',0.0) ]\n",
    "\n",
    "# 2.TermSOFR指標金利オブジェクト\n",
    "TsfCrvHDL= ql.RelinkableYieldTermStructureHandle()  \n",
    "TsfIX    = ql.IborIndex('TermSofr', pdFreqQ, Tp2, usdFX, calUSs, mFLLW,\n",
    "                                                          EoMt, dcA360, TsfCrvHDL)\n",
    "# 3. Basis helperでのTermSOFRカーブオブジェクト\n",
    "cHelper  = [ql.DepositRateHelper(mu.sqHDL(TsfRT3m/100),TsfIX)]\n",
    "for tnr, bs in TsfCrvBS:\n",
    "    cHelper.append(ql.OvernightIborBasisSwapRateHelper(mu.sqHDL(bs/100), \n",
    "                      pD(tnr), Tp2, calUSs, mFLLW, EoMf, sofrIX, TsfIX, sfCrvHDL))\n",
    "TsfCrvOBJ = ql.PiecewiseLogLinearDiscount(Tp2, calUSs, cHelper, dcA360)\n",
    "TsfCrvHDL.linkTo(TsfCrvOBJ) ; TsfCrvOBJ.enableExtrapolation()\n",
    "# checking\n",
    "print('決済日(reference):', TsfCrvOBJ.referenceDate().ISO())\n",
    "[(dt.ISO(),df) for dt,df in TsfCrvOBJ.nodes()]"
   ]
  },
  {
   "cell_type": "code",
   "execution_count": 4,
   "metadata": {},
   "outputs": [
    {
     "name": "stdout",
     "output_type": "stream",
     "text": [
      "Schedule:  ['2023-09-28', '2023-12-28', '2024-03-28', '2024-06-28', '2024-09-30']\n",
      "capNPV  :   42,659.65\n"
     ]
    }
   ],
   "source": [
    "# cap条件とSchedule\n",
    "effDT,              matDT,      capSTK,   ntlAMT,     volRT          = \\\n",
    "jDT(2023,9,28), jDT(2024,9,28),  0.05,  10_000_000,  0.88/100\n",
    "\n",
    "capSCD  = ql.Schedule(effDT,matDT,pdFreqQ,calUSs,mFLLW,mFLLW,dtGENb,EoMt)\n",
    "print('Schedule: ', [dd.ISO() for dd in list(capSCD)]) # checking\n",
    "\n",
    "# プライシング\n",
    "capENG = ql.BachelierCapFloorEngine(sfCrvHDL, mu.sqHDL(volRT))   \n",
    "capLeg = ql.IborLeg([ntlAMT], capSCD, TsfIX, dcA360)\n",
    "capOBJ = ql.Cap(capLeg, [capSTK]) ; capOBJ.setPricingEngine(capENG)\n",
    "print(f'capNPV  :   {capOBJ.NPV():,.2f}')"
   ]
  },
  {
   "cell_type": "code",
   "execution_count": 5,
   "metadata": {},
   "outputs": [
    {
     "data": {
      "text/html": [
       "<style type=\"text/css\">\n",
       "</style>\n",
       "<table id=\"T_f3023\">\n",
       "  <thead>\n",
       "    <tr>\n",
       "      <th class=\"blank level0\" >&nbsp;</th>\n",
       "      <th id=\"T_f3023_level0_col0\" class=\"col_heading level0 col0\" >stdDEV</th>\n",
       "      <th id=\"T_f3023_level0_col1\" class=\"col_heading level0 col1\" >atmFWD</th>\n",
       "      <th id=\"T_f3023_level0_col2\" class=\"col_heading level0 col2\" >DF</th>\n",
       "      <th id=\"T_f3023_level0_col3\" class=\"col_heading level0 col3\" >NPV</th>\n",
       "    </tr>\n",
       "  </thead>\n",
       "  <tbody>\n",
       "    <tr>\n",
       "      <th id=\"T_f3023_level0_row0\" class=\"row_heading level0 row0\" >0</th>\n",
       "      <td id=\"T_f3023_row0_col0\" class=\"data row0 col0\" >0.000000</td>\n",
       "      <td id=\"T_f3023_row0_col1\" class=\"data row0 col1\" >5.385580%</td>\n",
       "      <td id=\"T_f3023_row0_col2\" class=\"data row0 col2\" >0.98629210</td>\n",
       "      <td id=\"T_f3023_row0_col3\" class=\"data row0 col3\" >9,613.00</td>\n",
       "    </tr>\n",
       "    <tr>\n",
       "      <th id=\"T_f3023_level0_row1\" class=\"row_heading level0 row1\" >1</th>\n",
       "      <td id=\"T_f3023_row1_col0\" class=\"data row1 col0\" >0.004394</td>\n",
       "      <td id=\"T_f3023_row1_col1\" class=\"data row1 col1\" >5.460013%</td>\n",
       "      <td id=\"T_f3023_row1_col2\" class=\"data row1 col2\" >0.97285119</td>\n",
       "      <td id=\"T_f3023_row1_col3\" class=\"data row1 col3\" >12,135.07</td>\n",
       "    </tr>\n",
       "    <tr>\n",
       "      <th id=\"T_f3023_level0_row2\" class=\"row_heading level0 row2\" >2</th>\n",
       "      <td id=\"T_f3023_row2_col0\" class=\"data row2 col0\" >0.006214</td>\n",
       "      <td id=\"T_f3023_row2_col1\" class=\"data row2 col1\" >5.257983%</td>\n",
       "      <td id=\"T_f3023_row2_col2\" class=\"data row2 col2\" >0.95995225</td>\n",
       "      <td id=\"T_f3023_row2_col3\" class=\"data row2 col3\" >9,762.74</td>\n",
       "    </tr>\n",
       "    <tr>\n",
       "      <th id=\"T_f3023_level0_row3\" class=\"row_heading level0 row3\" >3</th>\n",
       "      <td id=\"T_f3023_row3_col0\" class=\"data row3 col0\" >0.007625</td>\n",
       "      <td id=\"T_f3023_row3_col1\" class=\"data row3 col1\" >5.258748%</td>\n",
       "      <td id=\"T_f3023_row3_col2\" class=\"data row3 col2\" >0.94694952</td>\n",
       "      <td id=\"T_f3023_row3_col3\" class=\"data row3 col3\" >11,148.83</td>\n",
       "    </tr>\n",
       "  </tbody>\n",
       "</table>\n"
      ],
      "text/plain": [
       "<pandas.io.formats.style.Styler at 0x1abcdb9fa10>"
      ]
     },
     "execution_count": 5,
     "metadata": {},
     "output_type": "execute_result"
    }
   ],
   "source": [
    "# capOBJのcaplet用メソッド\n",
    "dfLET = pd.DataFrame( dict(\n",
    "            stdDEV = (capOBJ.optionletsStdDev()),        #stdDev=σ√T\n",
    "            atmFWD = (capOBJ.optionletsAtmForward()),\n",
    "            DF     = (capOBJ.optionletsDiscountFactor()), \n",
    "            NPV    = (capOBJ.optionletsPrice())           ))\n",
    "dfLET.style.format(fmtSCF)"
   ]
  },
  {
   "cell_type": "code",
   "execution_count": 6,
   "metadata": {},
   "outputs": [
    {
     "data": {
      "text/html": [
       "<style type=\"text/css\">\n",
       "</style>\n",
       "<table id=\"T_d774a\">\n",
       "  <thead>\n",
       "    <tr>\n",
       "      <th class=\"blank level0\" >&nbsp;</th>\n",
       "      <th id=\"T_d774a_level0_col0\" class=\"col_heading level0 col0\" >matYR</th>\n",
       "      <th id=\"T_d774a_level0_col1\" class=\"col_heading level0 col1\" >fixingDate</th>\n",
       "      <th id=\"T_d774a_level0_col2\" class=\"col_heading level0 col2\" >accruStart</th>\n",
       "      <th id=\"T_d774a_level0_col3\" class=\"col_heading level0 col3\" >accruEnd</th>\n",
       "      <th id=\"T_d774a_level0_col4\" class=\"col_heading level0 col4\" >payDate</th>\n",
       "      <th id=\"T_d774a_level0_col5\" class=\"col_heading level0 col5\" >days</th>\n",
       "      <th id=\"T_d774a_level0_col6\" class=\"col_heading level0 col6\" >TsfDF</th>\n",
       "      <th id=\"T_d774a_level0_col7\" class=\"col_heading level0 col7\" >stdDEV</th>\n",
       "      <th id=\"T_d774a_level0_col8\" class=\"col_heading level0 col8\" >atmFWD</th>\n",
       "      <th id=\"T_d774a_level0_col9\" class=\"col_heading level0 col9\" >DF</th>\n",
       "      <th id=\"T_d774a_level0_col10\" class=\"col_heading level0 col10\" >NPV</th>\n",
       "    </tr>\n",
       "  </thead>\n",
       "  <tbody>\n",
       "    <tr>\n",
       "      <th id=\"T_d774a_level0_row0\" class=\"row_heading level0 row0\" >0</th>\n",
       "      <td id=\"T_d774a_row0_col0\" class=\"data row0 col0\" >0.0000</td>\n",
       "      <td id=\"T_d774a_row0_col1\" class=\"data row0 col1\" >2023-09-26</td>\n",
       "      <td id=\"T_d774a_row0_col2\" class=\"data row0 col2\" >2023-09-28</td>\n",
       "      <td id=\"T_d774a_row0_col3\" class=\"data row0 col3\" >2023-12-28</td>\n",
       "      <td id=\"T_d774a_row0_col4\" class=\"data row0 col4\" >2023-12-28</td>\n",
       "      <td id=\"T_d774a_row0_col5\" class=\"data row0 col5\" >91</td>\n",
       "      <td id=\"T_d774a_row0_col6\" class=\"data row0 col6\" >0.98656929</td>\n",
       "      <td id=\"T_d774a_row0_col7\" class=\"data row0 col7\" >0.000000</td>\n",
       "      <td id=\"T_d774a_row0_col8\" class=\"data row0 col8\" >5.385580%</td>\n",
       "      <td id=\"T_d774a_row0_col9\" class=\"data row0 col9\" >0.98629210</td>\n",
       "      <td id=\"T_d774a_row0_col10\" class=\"data row0 col10\" >9,613.00</td>\n",
       "    </tr>\n",
       "    <tr>\n",
       "      <th id=\"T_d774a_level0_row1\" class=\"row_heading level0 row1\" >1</th>\n",
       "      <td id=\"T_d774a_row1_col0\" class=\"data row1 col0\" >0.2493</td>\n",
       "      <td id=\"T_d774a_row1_col1\" class=\"data row1 col1\" >2023-12-26</td>\n",
       "      <td id=\"T_d774a_row1_col2\" class=\"data row1 col2\" >2023-12-28</td>\n",
       "      <td id=\"T_d774a_row1_col3\" class=\"data row1 col3\" >2024-03-28</td>\n",
       "      <td id=\"T_d774a_row1_col4\" class=\"data row1 col4\" >2024-03-28</td>\n",
       "      <td id=\"T_d774a_row1_col5\" class=\"data row1 col5\" >91</td>\n",
       "      <td id=\"T_d774a_row1_col6\" class=\"data row1 col6\" >0.97313833</td>\n",
       "      <td id=\"T_d774a_row1_col7\" class=\"data row1 col7\" >0.004394</td>\n",
       "      <td id=\"T_d774a_row1_col8\" class=\"data row1 col8\" >5.460013%</td>\n",
       "      <td id=\"T_d774a_row1_col9\" class=\"data row1 col9\" >0.97285119</td>\n",
       "      <td id=\"T_d774a_row1_col10\" class=\"data row1 col10\" >12,135.07</td>\n",
       "    </tr>\n",
       "    <tr>\n",
       "      <th id=\"T_d774a_level0_row2\" class=\"row_heading level0 row2\" >2</th>\n",
       "      <td id=\"T_d774a_row2_col0\" class=\"data row2 col0\" >0.4986</td>\n",
       "      <td id=\"T_d774a_row2_col1\" class=\"data row2 col1\" >2024-03-26</td>\n",
       "      <td id=\"T_d774a_row2_col2\" class=\"data row2 col2\" >2024-03-28</td>\n",
       "      <td id=\"T_d774a_row2_col3\" class=\"data row2 col3\" >2024-06-28</td>\n",
       "      <td id=\"T_d774a_row2_col4\" class=\"data row2 col4\" >2024-06-28</td>\n",
       "      <td id=\"T_d774a_row2_col5\" class=\"data row2 col5\" >92</td>\n",
       "      <td id=\"T_d774a_row2_col6\" class=\"data row2 col6\" >0.96023558</td>\n",
       "      <td id=\"T_d774a_row2_col7\" class=\"data row2 col7\" >0.006214</td>\n",
       "      <td id=\"T_d774a_row2_col8\" class=\"data row2 col8\" >5.257983%</td>\n",
       "      <td id=\"T_d774a_row2_col9\" class=\"data row2 col9\" >0.95995225</td>\n",
       "      <td id=\"T_d774a_row2_col10\" class=\"data row2 col10\" >9,762.74</td>\n",
       "    </tr>\n",
       "    <tr>\n",
       "      <th id=\"T_d774a_level0_row3\" class=\"row_heading level0 row3\" >3</th>\n",
       "      <td id=\"T_d774a_row3_col0\" class=\"data row3 col0\" >0.7507</td>\n",
       "      <td id=\"T_d774a_row3_col1\" class=\"data row3 col1\" >2024-06-26</td>\n",
       "      <td id=\"T_d774a_row3_col2\" class=\"data row3 col2\" >2024-06-28</td>\n",
       "      <td id=\"T_d774a_row3_col3\" class=\"data row3 col3\" >2024-09-30</td>\n",
       "      <td id=\"T_d774a_row3_col4\" class=\"data row3 col4\" >2024-09-30</td>\n",
       "      <td id=\"T_d774a_row3_col5\" class=\"data row3 col5\" >94</td>\n",
       "      <td id=\"T_d774a_row3_col6\" class=\"data row3 col6\" >0.94722901</td>\n",
       "      <td id=\"T_d774a_row3_col7\" class=\"data row3 col7\" >0.007625</td>\n",
       "      <td id=\"T_d774a_row3_col8\" class=\"data row3 col8\" >5.258748%</td>\n",
       "      <td id=\"T_d774a_row3_col9\" class=\"data row3 col9\" >0.94694952</td>\n",
       "      <td id=\"T_d774a_row3_col10\" class=\"data row3 col10\" >11,148.83</td>\n",
       "    </tr>\n",
       "  </tbody>\n",
       "</table>\n"
      ],
      "text/plain": [
       "<pandas.io.formats.style.Styler at 0x1abcdbc1bd0>"
      ]
     },
     "execution_count": 6,
     "metadata": {},
     "output_type": "execute_result"
    }
   ],
   "source": [
    "# caplet日付関連\n",
    "dfCap = pd.DataFrame({\n",
    "    'matYR':      dcA365.yearFraction(tradeDT, cpn.fixingDate()), #maturity year\n",
    "    'fixingDate': cpn.fixingDate().ISO(),\n",
    "    'accruStart': cpn.accrualStartDate().ISO(),\n",
    "    'accruEnd':   cpn.accrualEndDate().ISO(),\n",
    "    'payDate':    cpn.date().ISO(),\n",
    "    'days':       dcA360.dayCount(cpn.accrualStartDate(),cpn.accrualEndDate()),\n",
    "    'TsfDF':      TsfCrvOBJ.discount(cpn.date())            #calc forward rate \n",
    "    } for cpn in map(ql.as_floating_rate_coupon, capLeg)) \n",
    "\n",
    "dfCap = pd.concat([dfCap, dfLET], axis=1)\n",
    "fmtSCF.update(TsfDF='{:.8f}') ; dfCap.style.format(fmtSCF)"
   ]
  },
  {
   "cell_type": "code",
   "execution_count": 7,
   "metadata": {},
   "outputs": [
    {
     "name": "stdout",
     "output_type": "stream",
     "text": [
      "fixSCD: ['2024-09-30', '2025-09-30', '2026-09-30']\n",
      "   DFs: [0.94695 0.90525 0.87045]\n"
     ]
    }
   ],
   "source": [
    "# 原資産スワップ スケジュール\n",
    "swEffDT, swMatDT = jDT(2024,9,30), jDT(2026,9,30) \n",
    "fixSCD = ql.Schedule(swEffDT,swMatDT,pdFreqA,calUSs,mFLLW,mFLLW,dtGENb,EoMf)\n",
    "# for checking\n",
    "scdDTs = [dd.ISO() for dd in fixSCD]              ; print('fixSCD:',scdDTs)\n",
    "DFs    = [sfCrvOBJ.discount(dd) for dd in fixSCD] ; print('   DFs:',nA(DFs))"
   ]
  },
  {
   "cell_type": "code",
   "execution_count": 8,
   "metadata": {},
   "outputs": [
    {
     "name": "stdout",
     "output_type": "stream",
     "text": [
      "アニュイティ:1.80036, フォワードスワップレート:4.24896%\n"
     ]
    }
   ],
   "source": [
    "# アニュイティ、フォワードスワップレート\n",
    "Annu = mu.calcAnnuity(fixSCD, sfCrvOBJ, dcA360)\n",
    "fwdRT = (DFs[0]-DFs[-1])/Annu  \n",
    "print(f'アニュイティ:{Annu:.5f}, フォワードスワップレート:{fwdRT:.5%}')"
   ]
  },
  {
   "cell_type": "code",
   "execution_count": 9,
   "metadata": {},
   "outputs": [
    {
     "name": "stdout",
     "output_type": "stream",
     "text": [
      "NPV:97,095.16\n",
      "delta(1bp):90.02%, vega(1bp):71.92%, annuity:1.80036\n"
     ]
    }
   ],
   "source": [
    "from myABBR import * ; import myUtil as mu\n",
    "# 0.SOFRカーブ\n",
    "crvDATA = [('depo','1d',5.31), ('swap','1m',5.32), ('swap','3m',5.38),\n",
    "           ('swap','6m',5.46), ('swap','1y',5.45), ('swap','2y',5.01),\n",
    "           ('swap','3y',4.67)]\n",
    "sofrIX, sfCrvOBJ, sfCrvHDL, sfParRATE = mu.makeSofrCurve(crvDATA)\n",
    "\n",
    "# 1. 原資産条件、オプション条件、ボラティリティ等\n",
    "tradeDT,           exprDT,         swEffDT,         swMatDT,     pC      =\\\n",
    "jDT(2023,9,26), jDT(2024,9,26), jDT(2024,9,30), jDT(2026,9,30),   1\n",
    "\n",
    "fwdRT,      spdRT, payLag,         volHDL,       ntlAMT                  =\\\n",
    "4.24896/100, 0.0,    0,   mu.sqHDL(1.35/100), 10_000_000;  setEvDT(tradeDT)\n",
    "\n",
    "# 2.原資産オブジェクト\n",
    "fixSCD = ql.Schedule(swEffDT,swMatDT,pdFreqA,calUSs,mFLLW,mFLLW,dtGENb,EoMf)\n",
    "swapOBJ= ql.OvernightIndexedSwap(\n",
    "                   pC, ntlAMT, fixSCD, fwdRT, dcA360, sofrIX, spdRT, payLag)\n",
    "# 3. swaption計算\n",
    "swptnOBJ = ql.Swaption(swapOBJ, ql.EuropeanExercise(exprDT))\n",
    "swptnENG = ql.BachelierSwaptionEngine(sfCrvHDL, volHDL)\n",
    "swptnOBJ.setPricingEngine(swptnENG)\n",
    "print(         f'NPV:{swptnOBJ.NPV()           :,.2f}\\n'\n",
    "        f'delta(1bp):{swptnOBJ.delta()  /ntlAMT:,.2%}, '\n",
    "         f'vega(1bp):{swptnOBJ.vega()   /ntlAMT:,.2%}, '\n",
    "           f'annuity:{swptnOBJ.annuity()/ntlAMT:,.5f}'  ) "
   ]
  },
  {
   "cell_type": "code",
   "execution_count": 10,
   "metadata": {},
   "outputs": [],
   "source": [
    "# クロージャー(関数内関数)によるノーマルモデル\n",
    "def normalCALC(payOffOBJ, matDT, futRT, volRT, rfOBJ):\n",
    "    # 満期年\n",
    "    trdDT_ = ql.Settings.instance().evaluationDate        \n",
    "    matYR_ = dcA365.yearFraction(trdDT_, matDT)\n",
    "    # ペイオフ\n",
    "    pC_    = payOffOBJ.optionType()\n",
    "    stkRT_ = payOffOBJ.strike()\n",
    "    # 満期日DF、カーブオブジェクト\n",
    "    matDF_ = rfOBJ.discount(matDT)\n",
    "    rfOBJ_ = rfOBJ\n",
    "    # ボラ、原資産価格\n",
    "    volRT_ = volRT\n",
    "    futRT_ = futRT\n",
    "\n",
    "    # SD: 標準偏差関数\n",
    "    def SD(volRT=volRT_, matYR=matYR_): return volRT*np.sqrt(matYR)\n",
    "    # dd: d1関数\n",
    "    def dd(futRT=futRT_, volRT=volRT_, matYR = matYR_): \n",
    "        return pC_*(futRT- stkRT_)/SD(volRT,matYR)\n",
    "    # npvの計算  (クロージャー)\n",
    "    def npv(futRT=futRT_, volRT=volRT_, matYR = matYR_):\n",
    "        matDF = matDF_ if matYR == matYR_ else \\\n",
    "                          rfOBJ_.discount(dcA360.yearFraction(trdDT_, matDT))\n",
    "        d1 = dd(futRT, volRT, matYR) \n",
    "        return matDF*SD(volRT,matYR)*(d1*norm.cdf(d1) + norm.pdf(d1))\n",
    "    \n",
    "    return npv # 関数オブジェクトを戻す"
   ]
  },
  {
   "cell_type": "code",
   "execution_count": 11,
   "metadata": {},
   "outputs": [
    {
     "name": "stdout",
     "output_type": "stream",
     "text": [
      "npv:0.11338% at 初期値\n"
     ]
    }
   ],
   "source": [
    "from myABBR import * ; import myUtil as mu; from scipy.stats import norm\n",
    "\n",
    "# 初期値 (pC:call=1 put=-1, futRT:先物金利, stkRT:行使金利)\n",
    "tradeDT,            matDT,       pC, futPRC, stkPRC                     =\\\n",
    "jDT(2023,9,26), jDT(2023,12,15), -1,  94.54,  94.50 ; setEvDT(tradeDT)\n",
    "\n",
    "volRT,      rfRT,        futRT,            stkRT                         =\\\n",
    "50/10000,  5.4/100, (100-futPRC)/100, (100-stkPRC)/100\n",
    "\n",
    "# 引数用オブジェクト準備\n",
    "rfOBJ,_ = mu.ffTSH(tradeDT, rfRT, dcA360, cmpdSPL)\n",
    "payOFF  = ql.PlainVanillaPayoff(pC,stkRT)\n",
    "# 計算\n",
    "npvFC = normalCALC(payOFF, matDT, futRT, volRT, rfOBJ)\n",
    "print(f'npv:{npvFC():.5%} at 初期値')"
   ]
  },
  {
   "cell_type": "code",
   "execution_count": 12,
   "metadata": {},
   "outputs": [
    {
     "name": "stdout",
     "output_type": "stream",
     "text": [
      "npv:0.08524% at 金利5.515%,  npv:0.29705% at vol 1.500%,  npv:0.11281% at 2023-09-27\n"
     ]
    }
   ],
   "source": [
    "# 先物金利1%up\n",
    "futRTup = futRT*1.01\n",
    "print(f'npv:{npvFC(futRTup):.5%} at 金利{futRTup:.3%}', end = ',  ')\n",
    "# 先物ボラ1%up\n",
    "volRTup = volRT+0.01\n",
    "print(f'npv:{npvFC(volRT=volRTup):.5%} at vol {volRTup:.3%}', end = ',  ')\n",
    "# 1日経過\n",
    "matYR1d = dcA365.yearFraction(tradeDT+1, matDT)\n",
    "print(f'npv:{npvFC(matYR=matYR1d):.5%} at {(tradeDT+1).ISO()}')"
   ]
  },
  {
   "cell_type": "code",
   "execution_count": 13,
   "metadata": {},
   "outputs": [],
   "source": [
    "class normalCalculator:\n",
    "    def __init__(self, payOffOBJ, matDT, futRT, volRT, rfOBJ):\n",
    "      # 満期年\n",
    "      self.trdDT_ = ql.Settings.instance().evaluationDate        \n",
    "      self.matYR_ =   dcA365.yearFraction(self.trdDT_, matDT)\n",
    "      # ペイオフ\n",
    "      self.pC_    = payOffOBJ.optionType()\n",
    "      self.stkRT_ = payOffOBJ.strike()\n",
    "      # 満期日DF、カーブオブジェクト\n",
    "      self.matDF_ = rfOBJ.discount(matDT)\n",
    "      self.rfOBJ_ = rfOBJ\n",
    "      # ボラ、原資産価格\n",
    "      self.volRT_ = volRT\n",
    "      self.futRT_ = futRT\n",
    "\n",
    "    # SD: 標準偏差メソッド\n",
    "    def SD(self, volRT=None, matYR=None): \n",
    "        volRT = volRT or self.volRT_ ; matYR = matYR or self.matYR_\n",
    "        return volRT*np.sqrt(matYR)\n",
    "    # dd: d1メソッド\n",
    "    def dd(self, futRT=None, volRT=None, matYR=None): \n",
    "        futRT = futRT or self.futRT_ ; volRT = volRT or self.volRT_\n",
    "        matYR = matYR or self.matYR_\n",
    "        return self.pC_*(futRT - self.stkRT_)/self.SD(volRT, matYR)\n",
    "    # npvメソッド\n",
    "    def npv(self, futRT=None, volRT=None, matYR=None):\n",
    "        futRT = futRT or self.futRT_; volRT = volRT or self.volRT_\n",
    "        matYR = matYR or self.matYR_\n",
    "        matDF = self.matDF_ if matYR == self.matYR_ else\\\n",
    "                 self.rfOBJ_.discount(dcA360.yearFraction(self.trdDT_, matDT))\n",
    "        d1 = self.dd(futRT, volRT, matYR) \n",
    "        return matDF*self.SD(volRT,matYR)*(d1*norm.cdf(d1) + norm.pdf(d1))"
   ]
  },
  {
   "cell_type": "code",
   "execution_count": 14,
   "metadata": {},
   "outputs": [
    {
     "name": "stdout",
     "output_type": "stream",
     "text": [
      "npv:0.11338% at 初期値\n"
     ]
    }
   ],
   "source": [
    "from myABBR import * ; import myUtil as mu ; from scipy.stats import norm\n",
    "\n",
    "# 初期値 (pC:call=1 put=-1, futRT:先物金利, stkRT:行使金利)\n",
    "tradeDT,            matDT,       pC, futPRC, stkPRC                    =\\\n",
    "jDT(2023,9,26), jDT(2023,12,15), -1,  94.54,  94.50 ; setEvDT(tradeDT)\n",
    "\n",
    "volRT,      rfRT,        futRT,            stkRT                        =\\\n",
    "50/10000,  5.4/100, (100-futPRC)/100, (100-stkPRC)/100\n",
    "\n",
    "rfOBJ,rfHDL = mu.ffTSH(tradeDT, rfRT, dcA360, cmpdSPL)\n",
    "payOFF = ql.PlainVanillaPayoff(pC,stkRT)\n",
    "\n",
    "# コンストラクタ\n",
    "optOBJ = normalCalculator(payOFF, matDT, futRT, volRT, rfOBJ)\n",
    "print(  f'npv:{optOBJ.npv():.5%} at 初期値')"
   ]
  },
  {
   "cell_type": "code",
   "execution_count": 15,
   "metadata": {},
   "outputs": [
    {
     "name": "stdout",
     "output_type": "stream",
     "text": [
      "npv:0.08524% at 金利5.515%,  npv:0.29705% at vol 1.500%,  npv:0.11281% at 2023-09-27\n"
     ]
    }
   ],
   "source": [
    "# 先物金利1%up\n",
    "futRTup = futRT*1.01\n",
    "print(f'npv:{optOBJ.npv(futRTup):.5%} at 金利{futRTup:.3%}', end = ',  ')\n",
    "# 先物ボラ1%up\n",
    "volRTup = volRT+0.01\n",
    "print(f'npv:{optOBJ.npv(volRT=volRTup):.5%} at vol {volRTup:.3%}', end = ',  ')\n",
    "# 1日経過\n",
    "matYR1d = dcA365.yearFraction(tradeDT+1, matDT)\n",
    "print(f'npv:{optOBJ.npv(matYR=matYR1d):.5%} at {(tradeDT+1).ISO()}')"
   ]
  },
  {
   "cell_type": "code",
   "execution_count": 16,
   "metadata": {},
   "outputs": [
    {
     "name": "stdout",
     "output_type": "stream",
     "text": [
      "100 , 200\n"
     ]
    }
   ],
   "source": [
    "x=100  ; y=200 ; print(x or y, end=\" , \")\n",
    "x=None ; y=200 ; print(x or y)"
   ]
  },
  {
   "cell_type": "code",
   "execution_count": 17,
   "metadata": {},
   "outputs": [
    {
     "data": {
      "text/plain": [
       "np.float64(0.004995328817556409)"
      ]
     },
     "execution_count": 17,
     "metadata": {},
     "output_type": "execute_result"
    }
   ],
   "source": [
    "from math import sqrt, log; from scipy.stats import norm\n",
    "\n",
    "def PhiTilde(x): return norm.cdf(x) + norm.pdf(x) / x\n",
    "\n",
    "def inversePhiTilde(PhiTildeStar):\n",
    "    if (PhiTildeStar < -0.001882039271):\n",
    "        g = 1.0 / (PhiTildeStar - 0.5)\n",
    "        xibar = (0.032114372355 - g*g*(0.016969777977 - \\\n",
    "                                        g*g*(2.6207332461E-3 - 9.6066952861E-5*g*g))) \\\n",
    "                / (1.0 - g*g*(0.6635646938 - g*g*(0.14528712196 - 0.010472855461*g*g)))\n",
    "        xbar = g*(0.3989422804014326 + xibar*g*g)\n",
    "    else:\n",
    "        h = sqrt(-log(-PhiTildeStar))\n",
    "        xbar = (9.4883409779 - h*(9.6320903635 - h*(0.58556997323 + 2.1464093351*h))) \\\n",
    "                 / (1.0 - h*(0.65174820867 + h*(1.5120247828 + 6.6437847132E-5*h)))\n",
    "    \n",
    "    q = (PhiTilde(xbar) - PhiTildeStar) / norm.pdf(xbar)\n",
    "    xstar = xbar + 3.0*q*xbar*xbar*(2.0 - q*xbar*(2.0 + xbar*xbar)) \\\n",
    "        /(6.0 + q*xbar*(-12.0 + xbar*(6.0*q + xbar*(-6.0 + q*xbar*(3.0 + xbar*xbar)))))\n",
    "    return xstar\n",
    "\n",
    "def normalVol(pC, stkRT, futRT, matYR, optNPV, DF):\n",
    "    # DF=1に修正\n",
    "    optNPV = optNPV/DF\n",
    "    # ATM\n",
    "    if (abs(stkRT - futRT) < 1E-15):\n",
    "        return optNPV / (sqrt(matYR) * norm.pdf(0.0))\n",
    "    # ATM以外\n",
    "    timeValue    = optNPV - max(pC*(futRT - stkRT), 0.0)\n",
    "    if (abs(timeValue) < 1E-15): return 0.0\n",
    "    \n",
    "    PhiTildeStar = -abs(timeValue / (stkRT-futRT))\n",
    "    xstar        = inversePhiTilde(PhiTildeStar)\n",
    "    return abs((stkRT-futRT) / (xstar*sqrt(matYR)))\n",
    "        \n",
    "normalVol(-1, 0.055, 0.0546, 0.21918, 0.0011330, 0.98814)\n",
    "        # pC, stkRT,  futRT,  matYR,    optNPV,     DF"
   ]
  }
 ],
 "metadata": {
  "kernelspec": {
   "display_name": "base",
   "language": "python",
   "name": "python3"
  },
  "language_info": {
   "codemirror_mode": {
    "name": "ipython",
    "version": 3
   },
   "file_extension": ".py",
   "mimetype": "text/x-python",
   "name": "python",
   "nbconvert_exporter": "python",
   "pygments_lexer": "ipython3",
   "version": "3.13.5"
  }
 },
 "nbformat": 4,
 "nbformat_minor": 4
}
