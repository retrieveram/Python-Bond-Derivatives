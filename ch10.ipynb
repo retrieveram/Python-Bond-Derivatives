{
 "cells": [
  {
   "cell_type": "markdown",
   "metadata": {},
   "source": [
    "**第10章**"
   ]
  },
  {
   "cell_type": "code",
   "execution_count": 1,
   "metadata": {},
   "outputs": [
    {
     "name": "stdout",
     "output_type": "stream",
     "text": [
      "(満期日) DF:0.904590, 生存確率Q:98.014497%, ﾊｻﾞｰﾄﾞﾚｰﾄ:2.000000%\n"
     ]
    }
   ],
   "source": [
    "from myABBR import * ;import myUtil as mu ; np.set_printoptions(precision=6) \n",
    "# 初期値  bS:buySell: Protection.Buyer=0\n",
    "tradeDT = jDT(2022,9,19) ; setEvDT(tradeDT)\n",
    "matDT,           bS,   ntlAMT,   rfRT,  cdsQT,  npv0, hzdRT                 =\\\n",
    "jDT(2023,9,20),  0,  10_000_000, 0.10, 1.30/100, 0,   0;hzdRT=cdsQT/(1-rcvRTj)\n",
    "\n",
    "# DF,hazard rateカーブ\n",
    "dsCvOBJ, dsCvHDL = mu.ffTSH(tradeDT, rfRT, dcA365)\n",
    "hzCvOBJ = ql.FlatHazardRate(tradeDT,mu.sqHDL(hzdRT), dcA365)\n",
    "hzCvHDL = ql.DefaultProbabilityTermStructureHandle(hzCvOBJ)\n",
    "print(f'(満期日) DF:{dsCvOBJ.discount(matDT):.6f}',            end=', ') \n",
    "print(  f'生存確率Q:{hzCvOBJ.survivalProbability(matDT):.6%}', end=', ') \n",
    "print(  f'ﾊｻﾞｰﾄﾞﾚｰﾄ:{hzCvOBJ.hazardRate(matDT):.6%}'                   ) "
   ]
  },
  {
   "cell_type": "code",
   "execution_count": 2,
   "metadata": {},
   "outputs": [
    {
     "name": "stdout",
     "output_type": "stream",
     "text": [
      "tradeDate     :2022-09-19\n",
      "UpfrontDate   :2022-09-22\n",
      "----------------\n",
      "couponLegNPV  :-94,323.10\n",
      "defaultLegNPV :122,462.50\n",
      "net Two Leg   :28,139.40\n",
      "----------------\n",
      "NPV           :28,139.40\n",
      "fairSpread    :1.298330%\n",
      "hzdRT (inOBJ) :2.000000%\n",
      "accrual amount:  0.0000000000\n"
     ]
    }
   ],
   "source": [
    "# cds NPV計算\n",
    "cdsSCD = ql.Schedule(tradeDT+1, matDT, pdFreqQ, calWK, FLLW, \n",
    "                                                unADJ, dtGENf, EoMf)\n",
    "cdsOBJ = ql.CreditDefaultSwap(bS, ntlAMT, cpn100, cdsSCD, FLLW, dcA360)\n",
    "midENG = ql.MidPointCdsEngine(hzCvHDL, rcvRTj, dsCvHDL)\n",
    "cdsOBJ.setPricingEngine(midENG)\n",
    "\n",
    "# cpnLEGの違いは3日分のUpfront金額か？？？\n",
    "print(f'tradeDate     :{cdsOBJ.tradeDate().ISO():}')\n",
    "print(f'UpfrontDate   :{cdsOBJ.upfrontPayment().date().ISO():}')\n",
    "print('----------------')\n",
    "print(f'couponLegNPV  :{cdsOBJ.couponLegNPV():,.2f}')\n",
    "print(f'defaultLegNPV :{cdsOBJ.defaultLegNPV():,.2f}')\n",
    "print(f'net Two Leg   :{cdsOBJ.couponLegNPV()+cdsOBJ.defaultLegNPV():,.2f}')\n",
    "print('----------------')\n",
    "print(f'NPV           :{cdsOBJ.NPV():,.2f}')\n",
    "print(f'fairSpread    :{cdsOBJ.fairSpread():.6%}')\n",
    "print(f'hzdRT (inOBJ) :\\\n",
    "{cdsOBJ.impliedHazardRate(cdsOBJ.NPV(),dsCvHDL,dcA365,rcvRTj):.6%}')\n",
    "print(f'accrual amount:  {cdsOBJ.accrualRebate().amount():,.10f}')"
   ]
  }
 ],
 "metadata": {
  "interpreter": {
   "hash": "a077222d77dfe082b8f1dd562ad70e458ac2ab76993a0b248ab0476e32e9e8dd"
  },
  "kernelspec": {
   "display_name": "Python 3 (ipykernel)",
   "language": "python",
   "name": "python3"
  },
  "language_info": {
   "codemirror_mode": {
    "name": "ipython",
    "version": 3
   },
   "file_extension": ".py",
   "mimetype": "text/x-python",
   "name": "python",
   "nbconvert_exporter": "python",
   "pygments_lexer": "ipython3",
   "version": "3.11.7"
  }
 },
 "nbformat": 4,
 "nbformat_minor": 2
}
